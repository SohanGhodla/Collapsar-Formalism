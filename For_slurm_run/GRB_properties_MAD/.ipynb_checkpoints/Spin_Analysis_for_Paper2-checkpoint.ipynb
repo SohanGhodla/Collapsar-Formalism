{
 "cells": [
  {
   "cell_type": "code",
   "execution_count": 1,
   "metadata": {},
   "outputs": [],
   "source": [
    "%matplotlib inline\n",
    "import pandas as pd\n",
    "import numpy as np\n",
    "import matplotlib.pyplot as plt\n",
    "import os\n",
    "import re\n",
    "import math\n",
    "from scipy.interpolate import interp1d\n",
    "pd.set_option('display.max_columns', None)"
   ]
  },
  {
   "cell_type": "markdown",
   "metadata": {},
   "source": [
    "# Below dealing with spin."
   ]
  },
  {
   "cell_type": "code",
   "execution_count": 31,
   "metadata": {},
   "outputs": [],
   "source": [
    "# dir_path = '/nesi/nobackup/uoa03218/Helium_stars_Dutch_variable/Makemodels_He_MS_high_rot/'\n",
    "# dir_path = '/nesi/nobackup/uoa03218/Helium_stars_Dutch_variable/Makemodels_He_MS_actual/'\n",
    "# dir_path = '/nesi/nobackup/uoa03218/Helium_stars_Dutch_variable/Makemodels_He_MS_old/'\n",
    "dir_path = '/nesi/nobackup/uoa03218/Helium_stars_Dutch_variable/Makemodels_He_MS/'\n",
    "z = ['zem5','zem4', '3zem4', '6zem4', 'z001', 'z002','z003', 'z004', 'z005']\n",
    "mass = np.arange(15,150,5.)"
   ]
  },
  {
   "cell_type": "code",
   "execution_count": 3,
   "metadata": {},
   "outputs": [],
   "source": [
    "# constants\n",
    "G = 6.667*1e-11 * 1e3  # to conver to cm3\n",
    "Rsun = 696340 * 1e5 # cm\n",
    "Msun = 1.98*1e30 * 1e3 # in gms\n",
    "c = 3e8 *1e2   #cms-1"
   ]
  },
  {
   "cell_type": "code",
   "execution_count": 4,
   "metadata": {},
   "outputs": [],
   "source": [
    "def calc_ISCO_parameters(M, J):\n",
    "    \n",
    "    G = 6.667*1e-11 * 1e3  # to conver to cm3\n",
    "    Rsun = 696340 * 1e5 #cm\n",
    "    Msun = 1.98*1e30 * 1e3 # in gms\n",
    "    c = 3e8 *1e2\n",
    "\n",
    "    a = (J * c / (G*(M**2)) )\n",
    "    if a >= 1:\n",
    "        a = 0.99\n",
    "        \n",
    "    z_1 = 1 + ( ((1 - (a**2))**(1/3) ) * ( (1 + a)**(1/3) + (1 - a)**(1/3) ) )\n",
    "    z_2 = np.sqrt(3*a**2 + (z_1)**2)\n",
    "    r_isco = 3 + z_2 - np.sqrt((3 - z_1)*( 3 + z_1 + (2*z_2) )) #(G*M/c**2)\n",
    "    j_isco = (2/(3**(3/2)))*(1 + 2* np.sqrt( (3*r_isco) -2)) * (G*M/c)\n",
    "\n",
    "    return r_isco, j_isco, a"
   ]
  },
  {
   "cell_type": "code",
   "execution_count": 5,
   "metadata": {},
   "outputs": [],
   "source": [
    "def initial_isco(path): # calculating j_ISCO and r_ISCO for a 1Msun BH formed from the collapse of a proto NS\n",
    "    M = 0.\n",
    "    J = 0.\n",
    "    df = pd.read_csv(path, header = 4, delim_whitespace=True, low_memory=False)\n",
    "    Mdata = np.flip(np.array(df.loc[:, 'mass']))\n",
    "    Jdata = 10**np.flip(np.array(df.loc[:, 'log_J_inside']))\n",
    "    for i in range(len(df)):\n",
    "        if  Mdata[i] >= 0.1:\n",
    "            M = Mdata[i] * Msun\n",
    "            J = Jdata[i]\n",
    "            r_ISCO, j_ISCO, a = calc_ISCO_parameters(M, J)\n",
    "#             print('Initial parameters --> r_isco =', '%.3e'%r_ISCO, '  j_isco =', '%.3e'%j_ISCO, \\\n",
    "#                   '  i =', i, ' mass =', '%.3e'%(M/Msun), '\\tspin =', a)\n",
    "            break\n",
    "    return r_ISCO, j_ISCO, a"
   ]
  },
  {
   "cell_type": "code",
   "execution_count": 6,
   "metadata": {},
   "outputs": [],
   "source": [
    "def finer_grid(path, num_pts):\n",
    "    df = pd.read_csv(path, header = 4, delim_whitespace=True, low_memory=False)\n",
    "    rdata = np.flip(np.array(df.loc[:, 'radius'])) * Rsun\n",
    "    omega_data = np.flip(np.array(df.loc[:, 'omega']))\n",
    "    rho_data = np.flip(np.array(df.loc[:, 'rho']))\n",
    "\n",
    "    #creating  function of radius vs density and radius vs omega\n",
    "    intp_lg_rho = interp1d(np.log10(rdata), np.log10(rho_data), fill_value='extrapolate')\n",
    "    intp_lg_omega = interp1d(np.log10(rdata), np.log10(omega_data), fill_value='extrapolate')\n",
    "\n",
    "    # interpolate these profiles to a finer grid and remove log\n",
    "    r_arr = np.logspace(np.log10(rdata[0]), np.log10(rdata[-1]), num_pts)  # new shell grid\n",
    "    rho_arr = np.array([10**intp_lg_rho(np.log10(r)) for r in r_arr])\n",
    "    omega_arr = np.array([10**intp_lg_omega(np.log10(r)) for r in r_arr])\n",
    "    \n",
    "    M_arr = np.empty(num_pts)    # enclosed mass\n",
    "    j_arr = np.empty(num_pts)  # specific angular momentum\n",
    "    J_arr = np.empty(num_pts)    # enclosed angular momentum\n",
    "\n",
    "    M = 0.\n",
    "    J = 0.\n",
    "    for i in range(num_pts):\n",
    "        if i == 0:\n",
    "            dM = rho_arr[i] * 4*np.pi/3 * r_arr[i]**3  # mass of the shell\n",
    "            dJ = 0.4 * omega_arr[i] * r_arr[i]**2 * dM  # angular momentum in the shell\n",
    "        else:  # consider average value for density and omega\n",
    "            rho_mid = (rho_arr[i] + rho_arr[i-1])/2\n",
    "            omega_mid = (omega_arr[i] + omega_arr[i-1])/2\n",
    "\n",
    "            dM = rho_mid * 4*np.pi/3*(r_arr[i]**3 - r_arr[i-1]**3)\n",
    "            dJ = (4*np.pi) * 2/3 * rho_mid * omega_mid * (r_arr[i]**5 - r_arr[i-1]**5) /5\n",
    "        M += dM\n",
    "        J += dJ\n",
    "\n",
    "        M_arr[i] = M\n",
    "        J_arr[i] = J\n",
    "#     j_arr[i] = 2/3 * omega_arr[i] * r_arr[i]**2\n",
    "\n",
    "    return r_arr, rho_arr, omega_arr, M_arr, J_arr"
   ]
  },
  {
   "cell_type": "code",
   "execution_count": 7,
   "metadata": {},
   "outputs": [],
   "source": [
    "def calc_remnant_mass(path):\n",
    "    df = pd.read_csv(path, delim_whitespace=True, header  = 4)\n",
    "    mass = df.loc[:,'mass']\n",
    "    logR = df.loc[:,'logR']\n",
    "    \n",
    "    Mass_sun =  1.9891*10**(30)\n",
    "    G = 6.67 * 10**(-11)\n",
    "    dV = []\n",
    "    V_inwards  = []\n",
    "    V_outwards = []\n",
    "    V_s  = []\n",
    "    dm = []\n",
    "    Rem_mass_44 = []\n",
    "\n",
    "    for i in range(len(mass) - 2):\n",
    "        \n",
    "        dm.append(mass[i] - mass[i+1])\n",
    "        dV.append(G * mass[i+1] * Mass_sun * dm[i] * Mass_sun / (10**logR[i] * 695980000)) \n",
    "        \n",
    "    for i in range(len(mass) - 2):\n",
    "        if not i == 0:\n",
    "            V_inwards.append(V_inwards[i-1] + dV[i])\n",
    "#             V_outwards.append(V_outwards[i -1] + dV[len(mass) - 3 -i])    \n",
    "        else:\n",
    "            V_inwards.append(dV[0])\n",
    "#             V_outwards.append(dV[len(mass) - 3])\n",
    "            \n",
    "    for i in range(len(mass) - 2):\n",
    "        if V_inwards[i] >  ( 10**44 ):   \n",
    "            potentials = i - 1\n",
    "            break\n",
    "        else:\n",
    "            return mass[0]\n",
    "\n",
    "    for j in range(len(mass) - 2):\n",
    "        if j == 0:              \n",
    "            Rem_mass_44.append(dm[len(mass) - 3])\n",
    "        \n",
    "        if (len(mass) - potentials - 2) == 1 :\n",
    "            Rem_mass_44.append(0)\n",
    "        elif j >= len(mass) - potentials - 2:\n",
    "            Rem_mass_44.append( Rem_mass_44[j - 1] )\n",
    "        else:\n",
    "            Rem_mass_44.append( Rem_mass_44[j - 1]   + dm[len(mass) -3 -j]  )\n",
    "            \n",
    "    return Rem_mass_44[len(mass) - 2 - potentials]"
   ]
  },
  {
   "cell_type": "code",
   "execution_count": 8,
   "metadata": {},
   "outputs": [],
   "source": [
    "def calc_spin(path):    \n",
    "    r_ISCO, j_ISCO, a = initial_isco(path)\n",
    "    r_arr, rho_arr, omega_arr, M_arr, J_arr = finer_grid(path, 5000)\n",
    "    J_BH = []\n",
    "\n",
    "    #to calculate the MESA model remnant mass\n",
    "    remnant_mass = calc_remnant_mass(path)\n",
    "\n",
    "    M = 0.\n",
    "    J = 0.\n",
    "    for i in range(5000):\n",
    "        if M_arr[i]/Msun > 0.1 and M_arr[i]/Msun < remnant_mass:\n",
    "\n",
    "            x = np.sqrt( j_ISCO / (omega_arr[i] * (r_arr[i]**2) ) )\n",
    "            if x >= 1:\n",
    "                x = 1  # This means the inner shell did not have enough specific j to form an accretion disk.\n",
    "            theta_disk = math.asin( x )\n",
    "\n",
    "    #         y1 = integrate.quad(lambda theta: (math.sin(theta))**3 , 0, theta_disk)\n",
    "            y1 = 2/3 - math.cos(theta_disk) + ((math.cos(theta_disk))**3 )/ 3\n",
    "    #         print(y1)\n",
    "\n",
    "            dr = r_arr[i] - r_arr[i-1]\n",
    "            J_shell_1 = 2 * 2*np.pi * rho_arr[i] * omega_arr[i] * r_arr[i]**4 * dr * y1 #y1[0]\n",
    "    #         J_shell_1 = dm * y1[0]\n",
    "\n",
    "    #         y2 = integrate.quad(lambda theta: math.sin(theta) , theta_disk , np.pi/2)\n",
    "            y2 = math.cos(theta_disk)\n",
    "            J_shell_2 = 2 * 2*np.pi * j_ISCO * rho_arr[i] * r_arr[i]**2 * dr * y2 #y2[0]\n",
    "    #         J_shell_2 = dm * j_ISCO * y2[0]\n",
    "\n",
    "            e = np.sqrt(1 - (2/ (3*r_ISCO) ))\n",
    "    #         print(e)\n",
    "            M_disk = 2 * 2*np.pi * rho_arr[i] * r_arr[i]**2 * dr * y2 #y2[0]\n",
    "\n",
    "    #         y3 = integrate.quad(lambda theta: math.sin(theta), 0, theta_disk)\n",
    "            y3 = 1 - math.cos(theta_disk) \n",
    "    #         M_added =  M_disk*(1- e) + ( 2 * 2*np.pi * rho * r**2 * dr * y3[0])\n",
    "\n",
    "            M_added =  M_disk*(e) + ( 2 * 2*np.pi * rho_arr[i] * r_arr[i]**2 * dr * y3) #y3[0])\n",
    "            J_added = J_shell_1 + J_shell_2\n",
    "\n",
    "            # recalculating the new value of r_ISCO and j_ISCO and M_BH and J_BH\n",
    "            M += M_added\n",
    "            J += J_added\n",
    "\n",
    "            a_temp = J * c / (G*(M**2) )\n",
    "            if a_temp > 1:\n",
    "                a_temp = 1\n",
    "            J_BH.append(a_temp)\n",
    "            r_ISCO, j_ISCO, a = calc_ISCO_parameters(M, J) \n",
    "        else:\n",
    "            M = M_arr[i]\n",
    "            J = J_arr[i]\n",
    "            J_BH.append(a)\n",
    "\n",
    "    return M_arr[-1]/Msun, J_BH[-1]"
   ]
  },
  {
   "cell_type": "code",
   "execution_count": 17,
   "metadata": {},
   "outputs": [],
   "source": [
    "Datafile = open('./Mass_spin_BH.txt' , 'w')\n",
    "Datafile.write(f'mass_BH\\t\\t\\t Z\\t\\t spin_BH\\t\\t M_ZAMS\\n')\n",
    "for metal in range(0,9):#len(z)):\n",
    "    for m in (mass):\n",
    "        file_path = f'{dir_path}{z[metal]}/{str(m)}/LOGS/'\n",
    "        if os.path.exists(file_path):\n",
    "            df_p_index = pd.read_csv(file_path + 'profiles.index', delim_whitespace=True)\n",
    "\n",
    "            #recording the last profile number\n",
    "            last_profile = df_p_index.loc[len(df_p_index)-1,'lines']\n",
    "            df_profile = pd.read_csv(file_path + 'profile' + str(last_profile) + '.data', delim_whitespace=True, header  = 4) \n",
    "\n",
    "            # Checking for pair instability\n",
    "            df_history = pd.read_csv(file_path + 'history.data', delim_whitespace=True, header  = 4)\n",
    "            if df_history.loc[len(df_history)-1,'He_core'] >= 65. and  df_history.loc[len(df_history)-1,'He_core'] < 135.:\n",
    "                continue  #then ignore the following\n",
    "\n",
    "#             fname = 'profile' + str(last_profile)\n",
    "            path = f'{file_path}/profile{last_profile}.data'\n",
    "            \n",
    "            M_BH, spin_BH = calc_spin(path)\n",
    "#             print('M_BH =', '%.3e'%M_BH, '  spin_BH =', '%.3e'%spin_BH, \\\n",
    "#                   '  M_ZAMS =', '%.3e'%m, '  z =', z[metal])\n",
    "            Datafile.write(f'{M_BH}\\t\\t{z[metal]}\\t\\t{spin_BH}\\t\\t{m}\\n')\n",
    "            #here call the functions doing the calculation of spin\n",
    "Datafile.close()"
   ]
  },
  {
   "cell_type": "code",
   "execution_count": 44,
   "metadata": {},
   "outputs": [
    {
     "data": {
      "text/html": [
       "<div>\n",
       "<style scoped>\n",
       "    .dataframe tbody tr th:only-of-type {\n",
       "        vertical-align: middle;\n",
       "    }\n",
       "\n",
       "    .dataframe tbody tr th {\n",
       "        vertical-align: top;\n",
       "    }\n",
       "\n",
       "    .dataframe thead th {\n",
       "        text-align: right;\n",
       "    }\n",
       "</style>\n",
       "<table border=\"1\" class=\"dataframe\">\n",
       "  <thead>\n",
       "    <tr style=\"text-align: right;\">\n",
       "      <th></th>\n",
       "      <th>mass_BH</th>\n",
       "      <th>Z</th>\n",
       "      <th>spin_BH</th>\n",
       "      <th>M_ZAMS</th>\n",
       "    </tr>\n",
       "  </thead>\n",
       "  <tbody>\n",
       "    <tr>\n",
       "      <th>0</th>\n",
       "      <td>14.744087</td>\n",
       "      <td>zem5</td>\n",
       "      <td>0.986756</td>\n",
       "      <td>15.0</td>\n",
       "    </tr>\n",
       "    <tr>\n",
       "      <th>1</th>\n",
       "      <td>17.905675</td>\n",
       "      <td>zem5</td>\n",
       "      <td>0.973848</td>\n",
       "      <td>20.0</td>\n",
       "    </tr>\n",
       "    <tr>\n",
       "      <th>2</th>\n",
       "      <td>22.067464</td>\n",
       "      <td>zem5</td>\n",
       "      <td>0.979916</td>\n",
       "      <td>25.0</td>\n",
       "    </tr>\n",
       "    <tr>\n",
       "      <th>3</th>\n",
       "      <td>26.488888</td>\n",
       "      <td>zem5</td>\n",
       "      <td>0.977232</td>\n",
       "      <td>30.0</td>\n",
       "    </tr>\n",
       "    <tr>\n",
       "      <th>4</th>\n",
       "      <td>30.709619</td>\n",
       "      <td>zem5</td>\n",
       "      <td>0.973313</td>\n",
       "      <td>35.0</td>\n",
       "    </tr>\n",
       "  </tbody>\n",
       "</table>\n",
       "</div>"
      ],
      "text/plain": [
       "     mass_BH     Z   spin_BH  M_ZAMS\n",
       "0  14.744087  zem5  0.986756    15.0\n",
       "1  17.905675  zem5  0.973848    20.0\n",
       "2  22.067464  zem5  0.979916    25.0\n",
       "3  26.488888  zem5  0.977232    30.0\n",
       "4  30.709619  zem5  0.973313    35.0"
      ]
     },
     "execution_count": 44,
     "metadata": {},
     "output_type": "execute_result"
    }
   ],
   "source": [
    "colors = plt.cm.Spectral(np.linspace(0,1,len(z)))\n",
    "Z = [1e-5, 1e-4, 3e-4, 6e-4, 1e-3, 2e-3, 3e-3, 4e-3, 5e-3]\n",
    "\n",
    "df_BH_spin = pd.read_csv(f'./Mass_spin_BH.txt', delim_whitespace = True, header = 0)\n",
    "pd.set_option('display.max_rows', None)\n",
    "df_BH_spin.head()"
   ]
  },
  {
   "cell_type": "code",
   "execution_count": 46,
   "metadata": {},
   "outputs": [
    {
     "data": {
      "text/plain": [
       "Text(0, 0.5, '$a$')"
      ]
     },
     "execution_count": 46,
     "metadata": {},
     "output_type": "execute_result"
    },
    {
     "data": {
      "image/png": "[encoded data removed]",
      "text/plain": [
       "<Figure size 1050x450 with 2 Axes>"
      ]
     },
     "metadata": {
      "needs_background": "light"
     },
     "output_type": "display_data"
    }
   ],
   "source": [
    "plt.style.use('mesa.mplstyle13')\n",
    "\n",
    "plt.figure(figsize = (7,3))\n",
    "import matplotlib.gridspec as gridspec\n",
    "gs = gridspec.GridSpec(1,2, hspace = 0., wspace = 0.0)\n",
    "\n",
    "ax1 = plt.subplot(gs[0])\n",
    "ax2 = plt.subplot(gs[1])\n",
    "\n",
    "for metal in range(len(z)-2):\n",
    "    a_BH = []\n",
    "    MZAMS = []\n",
    "    M_BH = []\n",
    "    for i in range(len(df_BH_spin)):\n",
    "#         print(i, metal, df_GRB.loc[i,'filename'])\n",
    "        if df_BH_spin.loc[i,'Z'].startswith(z[metal]):\n",
    "            \n",
    "            M = df_BH_spin.loc[i,'M_ZAMS']\n",
    "            mass_BH = df_BH_spin.loc[i,'mass_BH']\n",
    "            #Split on the separator at most once, and take the first piece:\n",
    "            if M <= 150:\n",
    "                MZAMS.append(M)\n",
    "                M_BH.append(mass_BH)\n",
    "                a_BH.append(df_BH_spin.loc[i,'spin_BH']) \n",
    "\n",
    "    ax1.plot(MZAMS, a_BH, marker = 's', markersize = 2.5, \\\n",
    "                     color = colors[metal], linestyle='')\n",
    "    ax2.plot(M_BH, a_BH, marker = 's', markersize = 2.5, \\\n",
    "                     color = colors[metal], linestyle='')\n",
    " \n",
    "ax1.grid(linestyle = '-.', alpha = 0.4)\n",
    "ax2.grid(linestyle = '-.', alpha = 0.4)\n",
    "ax2.set_xlim(5,70)\n",
    "plt.legend(Z, bbox_to_anchor = (.7, 1.25), ncol = 5)\n",
    "\n",
    "ax2.yaxis.set_ticklabels([])\n",
    "ax1.text(140, 1.35, '$Z$')\n",
    "ax1.set_xlabel('$M_{\\\\rm ZAMS}$')\n",
    "ax2.set_xlabel('$M_{\\\\rm BH}$')\n",
    "ax1.set_ylabel('$a$')\n",
    "\n",
    "# ax1.set_yscale('log')\n",
    "# ax2.set_yscale('log')\n",
    "\n"
   ]
  },
  {
   "cell_type": "markdown",
   "metadata": {},
   "source": [
    "### Rough"
   ]
  },
  {
   "cell_type": "code",
   "execution_count": null,
   "metadata": {},
   "outputs": [],
   "source": [
    "am_nu_omega(:) = 0d0"
   ]
  },
  {
   "cell_type": "code",
   "execution_count": null,
   "metadata": {},
   "outputs": [],
   "source": [
    "pi2_div4 = pow2(pi)/4d0\n",
    "do k=1, s% nz-1\n",
    "    part1 = -pi2_div4*pow4(s% r(k)+s% r(k+1))*pow2(s% rho(k))*(s% i_rot(k)+s% i_rot(k+1))*(s% am_nu_omega(k)+s% am_nu_omega(k+1))\n",
    "    s% j_flux(k) = part1*(s% omega(k)-s% omega(k+1))/s% dm(k)\n",
    "\n",
    "    s% dj_flux_dw00(k) = s% j_flux(k)/(s% i_rot(k)+s% i_rot(k+1))*s% di_rot_dw_div_wc(k) &\n",
    "       -part1*s% j_rot(k)/pow2(s% i_rot(k))*s% di_rot_dw_div_wc(k)/s% dm(k)\n",
    "    s% dj_flux_dwp1(k) = s% j_flux(k)/(s% i_rot(k)+s% i_rot(k+1))*s% di_rot_dw_div_wc(k+1) &\n",
    "       +part1*s% j_rot(k+1)/pow2(s% i_rot(k+1))*s% di_rot_dw_div_wc(k+1)/s% dm(k)\n",
    "\n",
    "    s% dj_flux_dj00(k) = part1/s% i_rot(k)/s% dm(k)\n",
    "    s% dj_flux_djp1(k) = -part1/s% i_rot(k+1)/s% dm(k)\n",
    "\n",
    "    s% dj_flux_dlnr00(k) = 4d0*s% j_flux(k)/(s% r(k)+s% r(k+1))*s% r(k) &\n",
    "       + s% j_flux(k)/(s% i_rot(k)+s% i_rot(k+1))*s% di_rot_dlnr(k) &\n",
    "       -part1*s% j_rot(k)/pow2(s% i_rot(k))*s% di_rot_dlnr(k)/s% dm(k)\n",
    "    s% dj_flux_dlnrp1(k) = 4d0*s% j_flux(k)/(s% r(k)+s% r(k+1))*s% r(k+1) &\n",
    "       + s% j_flux(k)/(s% i_rot(k)+s% i_rot(k+1))*s% di_rot_dlnr(k+1) &\n",
    "       +part1*s% j_rot(k+1)/pow2(s% i_rot(k+1))*s% di_rot_dlnr(k+1)/s% dm(k)\n",
    "\n",
    "    s% dj_flux_dlnd(k) = 2d0*s% j_flux(k)\n",
    "end do\n",
    "s% j_flux(s% nz) = 0d0\n",
    "s% dj_flux_dw00(s% nz) = 0d0\n",
    "s% dj_flux_dwp1(s% nz) = 0d0\n",
    "s% dj_flux_dj00(s% nz) = 0d0\n",
    "s% dj_flux_dlnr00(s% nz) = 0d0\n",
    "s% dj_flux_dlnrp1(s% nz) = 0d0\n",
    "s% dj_flux_dlnd(s% nz) = 0d0\n"
   ]
  },
  {
   "cell_type": "markdown",
   "metadata": {},
   "source": [
    "## Actual"
   ]
  },
  {
   "cell_type": "markdown",
   "metadata": {},
   "source": [
    "### Performing fits"
   ]
  },
  {
   "cell_type": "code",
   "execution_count": 20,
   "metadata": {},
   "outputs": [],
   "source": [
    "def polyfits(x, y, color):\n",
    "    model = np.polyfit(x, y,3)\n",
    "    model_function = np.poly1d(model)\n",
    "    plt.plot(x, model_function(x), color = color)\n",
    "    print(model_function)\n",
    "    return model_function"
   ]
  },
  {
   "cell_type": "code",
   "execution_count": 21,
   "metadata": {},
   "outputs": [
    {
     "name": "stdout",
     "output_type": "stream",
     "text": [
      "(10.357645222939801, 14.948682329355755, 20.560615892692773, 24.210035772181055, 27.439586694169307, 31.06779395252502, 33.69435620185786, 36.84987330051074, 36.91046609237427, 40.06228305774634, 40.67973132291984, 40.760189498339756, 41.311385991126954, 42.60879427936923, 43.44850373180006, 43.98934872756449, 44.385206352843284, 44.69117948319477, 46.45616608646842, 47.13004488806345, 49.26076144248211, 50.9061348914979, 51.77198432993784) (0.03928913580330022, 0.08695786929721339, 0.5884891155075006, 0.5563669248161337, 0.5232198774715859, 0.4920363209751128, 0.2939328765806512, 0.050258644657293405, 0.3231674159378661, 0.041022800312496895, 0.27449087107422737, 0.041359427076457456, 0.04515381775697029, 0.044098803313893986, 0.03474075577982244, 0.2464588765409035, 0.04125589075901199, 0.03676238854410565, 0.035463430865217506, 0.2658591388286378, 0.0343709736233649, 0.032021092365504725, 0.03163413403194318)\n"
     ]
    },
    {
     "data": {
      "text/plain": [
       "[<matplotlib.lines.Line2D at 0x2aaaf67040f0>]"
      ]
     },
     "execution_count": 21,
     "metadata": {},
     "output_type": "execute_result"
    },
    {
     "data": {
      "image/png": "[encoded data removed]",
      "text/plain": [
       "<Figure size 600x450 with 1 Axes>"
      ]
     },
     "metadata": {
      "needs_background": "light"
     },
     "output_type": "display_data"
    }
   ],
   "source": [
    "x, y = zip(*sorted(zip(M_BH,a_BH)))\n",
    "print(x,y)\n",
    "model = np.polyfit(x, y,4) \n",
    "model_function = np.poly1d(model)\n",
    "plt.plot(x, model_function(x))"
   ]
  },
  {
   "cell_type": "code",
   "execution_count": 53,
   "metadata": {
    "scrolled": false
   },
   "outputs": [
    {
     "name": "stdout",
     "output_type": "stream",
     "text": [
      " \n",
      "-0.00161 x + 1.018\n",
      " \n",
      "-0.007404 x + 1.143\n",
      " \n",
      "-0.01125 x + 1.166\n",
      " \n",
      "-0.01228 x + 1.074\n",
      " \n",
      "-0.01528 x + 1.072\n",
      "            2\n",
      "-0.0001956 x + 0.004845 x + 0.5366\n",
      "            2\n",
      "-0.0002871 x + 0.02144 x - 0.1732\n"
     ]
    },
    {
     "data": {
      "text/plain": [
       "<matplotlib.legend.Legend at 0x2aaafcd9b6d8>"
      ]
     },
     "execution_count": 53,
     "metadata": {},
     "output_type": "execute_result"
    },
    {
     "data": {
      "image/png": "[encoded data removed]",
      "text/plain": [
       "<Figure size 600x450 with 1 Axes>"
      ]
     },
     "metadata": {
      "needs_background": "light"
     },
     "output_type": "display_data"
    }
   ],
   "source": [
    "for metal in range(len(z)):\n",
    "# metal = 1\n",
    "    if metal <= 4:\n",
    "        a_BH = []\n",
    "        MZAMS = []\n",
    "        M_BH = []\n",
    "        for i in range(len(df_BH_spin)):\n",
    "        #         print(i, metal, df_GRB.loc[i,'filename'])\n",
    "            if df_BH_spin.loc[i,'Z'].startswith(z[metal]):\n",
    "\n",
    "                M = df_BH_spin.loc[i,'M_ZAMS']\n",
    "                mass_BH = df_BH_spin.loc[i,'mass_BH']\n",
    "                #Split on the separator at most once, and take the first piece:\n",
    "\n",
    "                if mass_BH <= 70:\n",
    "                    if metal == 3: # i.e. Z = 6e-4\n",
    "                        if mass_BH >= 10:\n",
    "                            MZAMS.append(M)\n",
    "                            M_BH.append(mass_BH)\n",
    "                            a_BH.append(df_BH_spin.loc[i,'spin_BH'])\n",
    "                    else:\n",
    "                        MZAMS.append(M)\n",
    "                        M_BH.append(mass_BH)\n",
    "                        a_BH.append(df_BH_spin.loc[i,'spin_BH']) \n",
    "    #     ax1.plot(MZAMS, a_BH, marker = 's', markersize = 2.5, \\\n",
    "    #                      color = colors[metal], linestyle='')\n",
    "        plt.plot(M_BH, a_BH, marker = 's', markersize = 2.5, \\\n",
    "                         color = colors[metal], linestyle='')\n",
    "\n",
    "        x, y = zip(*sorted(zip(M_BH,a_BH)))\n",
    "    #     print(x)\n",
    "    #     print(y)\n",
    "        model = np.polyfit(x, y,1) \n",
    "        model_function = np.poly1d(model)\n",
    "        print(model_function)\n",
    "        plt.plot(x, model_function(x), color = colors[metal])\n",
    "    #     plt.ylim(0,1)\n",
    "    \n",
    "    elif metal <= 6:\n",
    "        a_BH = []\n",
    "        MZAMS = []\n",
    "        M_BH = []\n",
    "        for i in range(len(df_BH_spin)):\n",
    "        #         print(i, metal, df_GRB.loc[i,'filename'])\n",
    "            if df_BH_spin.loc[i,'Z'].startswith(z[metal]):\n",
    "\n",
    "                M = df_BH_spin.loc[i,'M_ZAMS']\n",
    "                mass_BH = df_BH_spin.loc[i,'mass_BH']\n",
    "                #Split on the separator at most once, and take the first piece:\n",
    "\n",
    "    #             if M <= 150:\n",
    "                if mass_BH <= 70:\n",
    "                    MZAMS.append(M)\n",
    "                    M_BH.append(mass_BH)\n",
    "                    a_BH.append(df_BH_spin.loc[i,'spin_BH']) \n",
    "\n",
    "    #     ax1.plot(MZAMS, a_BH, marker = 's', markersize = 2.5, \\\n",
    "    #                      color = colors[metal], linestyle='')\n",
    "        plt.plot(M_BH, a_BH, marker = 's', markersize = 2.5, \\\n",
    "                         color = colors[metal], linestyle='')\n",
    "\n",
    "        x, y = zip(*sorted(zip(M_BH,a_BH)))\n",
    "    #     print(x)\n",
    "    #     print(y)\n",
    "        model = np.polyfit(x, y,2) \n",
    "        model_function = np.poly1d(model)\n",
    "        print(model_function)\n",
    "        plt.plot(x, model_function(x), color = colors[metal])\n",
    "        plt.ylim(0,1.01)\n",
    "        \n",
    "plt.legend(Z, bbox_to_anchor = (.7, 1.25), ncol = 5)"
   ]
  },
  {
   "cell_type": "markdown",
   "metadata": {},
   "source": [
    "## Below one is logged scale fit"
   ]
  },
  {
   "cell_type": "code",
   "execution_count": 48,
   "metadata": {},
   "outputs": [
    {
     "name": "stdout",
     "output_type": "stream",
     "text": [
      " \n",
      "-0.0007404 x + 0.008705\n",
      " \n",
      "-0.003901 x + 0.07894\n",
      " \n",
      "-0.006876 x + 0.1163\n",
      " \n",
      "-0.009338 x + 0.116\n",
      " \n",
      "-0.0154 x + 0.205\n",
      "           3            2\n",
      "2.537e-05 x - 0.003145 x + 0.1073 x - 1.33\n",
      "           3            2\n",
      "8.483e-06 x - 0.001918 x + 0.1052 x - 2.316\n"
     ]
    },
    {
     "data": {
      "text/plain": [
       "<matplotlib.legend.Legend at 0x2aaafcb979b0>"
      ]
     },
     "execution_count": 48,
     "metadata": {},
     "output_type": "execute_result"
    },
    {
     "data": {
      "image/png": "[encoded data removed]",
      "text/plain": [
       "<Figure size 600x450 with 1 Axes>"
      ]
     },
     "metadata": {
      "needs_background": "light"
     },
     "output_type": "display_data"
    }
   ],
   "source": [
    "for metal in range(len(z)):\n",
    "# metal = 1\n",
    "    if metal <= 4:\n",
    "        a_BH = []\n",
    "        MZAMS = []\n",
    "        M_BH = []\n",
    "        for i in range(len(df_BH_spin)):\n",
    "        #         print(i, metal, df_GRB.loc[i,'filename'])\n",
    "            if df_BH_spin.loc[i,'Z'].startswith(z[metal]):\n",
    "\n",
    "                M = df_BH_spin.loc[i,'M_ZAMS']\n",
    "                mass_BH = df_BH_spin.loc[i,'mass_BH']\n",
    "                #Split on the separator at most once, and take the first piece:\n",
    "\n",
    "                if mass_BH <= 70:\n",
    "                    if metal == 3: # i.e. Z = 6e-4\n",
    "                        if mass_BH >= 10:\n",
    "                            MZAMS.append(M)\n",
    "                            M_BH.append(mass_BH)\n",
    "                            a_BH.append(df_BH_spin.loc[i,'spin_BH'])\n",
    "                    else:\n",
    "                        MZAMS.append(M)\n",
    "                        M_BH.append(mass_BH)\n",
    "                        a_BH.append(df_BH_spin.loc[i,'spin_BH']) \n",
    "    #     ax1.plot(MZAMS, a_BH, marker = 's', markersize = 2.5, \\\n",
    "    #                      color = colors[metal], linestyle='')\n",
    "        plt.plot(M_BH, np.log10(a_BH), marker = 's', markersize = 2.5, \\\n",
    "                         color = colors[metal], linestyle='')\n",
    "\n",
    "        x, y = zip(*sorted(zip(M_BH,a_BH)))\n",
    "    #     print(x)\n",
    "    #     print(y)\n",
    "        model = np.polyfit(x, np.log10(y),1) \n",
    "        model_function = np.poly1d(model)\n",
    "        print(model_function)\n",
    "        plt.plot(x, model_function(x), color = colors[metal])\n",
    "    #     plt.ylim(0,1)\n",
    "    \n",
    "    elif metal <= 6:\n",
    "        a_BH = []\n",
    "        MZAMS = []\n",
    "        M_BH = []\n",
    "        for i in range(len(df_BH_spin)):\n",
    "        #         print(i, metal, df_GRB.loc[i,'filename'])\n",
    "            if df_BH_spin.loc[i,'Z'].startswith(z[metal]):\n",
    "\n",
    "                M = df_BH_spin.loc[i,'M_ZAMS']\n",
    "                mass_BH = df_BH_spin.loc[i,'mass_BH']\n",
    "                #Split on the separator at most once, and take the first piece:\n",
    "\n",
    "    #             if M <= 150:\n",
    "                if mass_BH <= 70:\n",
    "                    MZAMS.append(M)\n",
    "                    M_BH.append(mass_BH)\n",
    "                    a_BH.append(df_BH_spin.loc[i,'spin_BH']) \n",
    "\n",
    "    #     ax1.plot(MZAMS, a_BH, marker = 's', markersize = 2.5, \\\n",
    "    #                      color = colors[metal], linestyle='')\n",
    "        plt.plot(M_BH, np.log10(a_BH), marker = 's', markersize = 2.5, \\\n",
    "                         color = colors[metal], linestyle='')\n",
    "\n",
    "        x, y = zip(*sorted(zip(M_BH,a_BH)))\n",
    "    #     print(x)\n",
    "    #     print(y)\n",
    "        model = np.polyfit(x, np.log10(y),3) \n",
    "        model_function = np.poly1d(model)\n",
    "        print(model_function)\n",
    "        plt.plot(x, model_function(x), color = colors[metal])\n",
    "    #     plt.ylim(0,1)\n",
    "        \n",
    "plt.legend(Z, bbox_to_anchor = (.7, 1.25), ncol = 5)"
   ]
  },
  {
   "cell_type": "code",
   "execution_count": null,
   "metadata": {},
   "outputs": [],
   "source": []
  },
  {
   "cell_type": "markdown",
   "metadata": {},
   "source": [
    "## Below for a sample model but above for all at once"
   ]
  },
  {
   "cell_type": "code",
   "execution_count": 31,
   "metadata": {},
   "outputs": [],
   "source": [
    "z = 0\n",
    "m = 35.\n",
    "\n",
    "file_path = f'{dir_path}{metal[z]}/{str(m)}/LOGS/'\n",
    "if os.path.exists(file_path):\n",
    "    df_p_index = pd.read_csv(file_path + 'profiles.index', delim_whitespace=True, low_memory=False)\n",
    "\n",
    "    #recording the last profile number\n",
    "    last_profile = df_p_index.loc[len(df_p_index)-1,'lines']\n",
    "    path = f'{file_path}/profile{last_profile}.data'\n",
    "else:\n",
    "    path = '???'"
   ]
  },
  {
   "cell_type": "code",
   "execution_count": 33,
   "metadata": {
    "scrolled": true
   },
   "outputs": [
    {
     "name": "stdout",
     "output_type": "stream",
     "text": [
      "Initial parameters --> r_isco = 1.000e+00   j_isco = 5.558e+10   i = 2  mass = 1.094e-05 \tspin = 1\n"
     ]
    },
    {
     "data": {
      "text/plain": [
       "Text(0, 0.5, 'a')"
      ]
     },
     "execution_count": 33,
     "metadata": {},
     "output_type": "execute_result"
    },
    {
     "data": {
      "image/png": "[encoded data removed]",
      "text/plain": [
       "<Figure size 432x288 with 1 Axes>"
      ]
     },
     "metadata": {
      "needs_background": "light"
     },
     "output_type": "display_data"
    }
   ],
   "source": [
    "r_ISCO, j_ISCO, a = initial_isco(path)\n",
    "r_arr, rho_arr, omega_arr, M_arr, J_arr = finer_grid(path, 5000)\n",
    "J_BH = []\n",
    "\n",
    "#to calculate the MESA model remnant mass\n",
    "remnant_mass = calc_remnant_mass(path)\n",
    "\n",
    "M = 0.\n",
    "J = 0.\n",
    "for i in range(5000):\n",
    "    if M_arr[i]/Msun > 1e-5 and M_arr[i]/Msun < remnant_mass:\n",
    "\n",
    "        x = np.sqrt( j_ISCO / (omega_arr[i] * (r_arr[i]**2) ) )\n",
    "        if x >= 1:\n",
    "            x = 1  # This means the inner shell did not have enough specific j to form an accretion disk.\n",
    "        theta_disk = math.asin( x )\n",
    "        \n",
    "#         y1 = integrate.quad(lambda theta: (math.sin(theta))**3 , 0, theta_disk)\n",
    "        y1 = 2/3 - math.cos(theta_disk) + ((math.cos(theta_disk))**3 )/ 3\n",
    "#         print(y1)\n",
    "        \n",
    "        dr = r_arr[i] - r_arr[i-1]\n",
    "        J_shell_1 = 2 * 2*np.pi * rho_arr[i] * omega_arr[i] * r_arr[i]**4 * dr * y1 #y1[0]\n",
    "#         J_shell_1 = dm * y1[0]\n",
    "        \n",
    "#         y2 = integrate.quad(lambda theta: math.sin(theta) , theta_disk , np.pi/2)\n",
    "        y2 = math.cos(theta_disk)\n",
    "        J_shell_2 = 2 * 2*np.pi * j_ISCO * rho_arr[i] * r_arr[i]**2 * dr * y2 #y2[0]\n",
    "#         J_shell_2 = dm * j_ISCO * y2[0]\n",
    "        \n",
    "        e = np.sqrt(1 - (2/ (3*r_ISCO) ))\n",
    "#         print(e)\n",
    "        M_disk = 2 * 2*np.pi * rho_arr[i] * r_arr[i]**2 * dr * y2 #y2[0]\n",
    "        \n",
    "#         y3 = integrate.quad(lambda theta: math.sin(theta), 0, theta_disk)\n",
    "        y3 = 1 - math.cos(theta_disk) \n",
    "#         M_added =  M_disk*(1- e) + ( 2 * 2*np.pi * rho * r**2 * dr * y3[0])\n",
    "        \n",
    "        M_added =  M_disk*(e) + ( 2 * 2*np.pi * rho_arr[i] * r_arr[i]**2 * dr * y3) #y3[0])\n",
    "        J_added = J_shell_1 + J_shell_2\n",
    "        \n",
    "        # recalculating the new value of r_ISCO and j_ISCO and M_BH and J_BH\n",
    "        M += M_added\n",
    "        J += J_added\n",
    "        \n",
    "        a_temp = J * c / (G*(M**2) )\n",
    "        if a_temp > 1:\n",
    "            a_temp = 1\n",
    "        J_BH.append(a_temp)\n",
    "        r_ISCO, j_ISCO, a = calc_ISCO_parameters(M, J) \n",
    "    else:\n",
    "        M = M_arr[i]\n",
    "        J = J_arr[i]\n",
    "        J_BH.append(a)\n",
    "        \n",
    "plt.plot(M_arr/Msun, J_BH)\n",
    "plt.ylim(0,)\n",
    "\n",
    "plt.xlabel('M$_{\\\\rm pre, expl}$ [M$_{\\\\odot}$]')\n",
    "plt.ylabel('a')"
   ]
  },
  {
   "cell_type": "markdown",
   "metadata": {},
   "source": [
    "### Choose file "
   ]
  },
  {
   "cell_type": "code",
   "execution_count": 45,
   "metadata": {},
   "outputs": [],
   "source": [
    "file_path = dir_path + metal[7] + '/' + str(55.0) + '/' + 'LOGS/'"
   ]
  },
  {
   "cell_type": "code",
   "execution_count": 47,
   "metadata": {},
   "outputs": [
    {
     "data": {
      "text/html": [
       "<div>\n",
       "<style scoped>\n",
       "    .dataframe tbody tr th:only-of-type {\n",
       "        vertical-align: middle;\n",
       "    }\n",
       "\n",
       "    .dataframe tbody tr th {\n",
       "        vertical-align: top;\n",
       "    }\n",
       "\n",
       "    .dataframe thead th {\n",
       "        text-align: right;\n",
       "    }\n",
       "</style>\n",
       "<table border=\"1\" class=\"dataframe\">\n",
       "  <thead>\n",
       "    <tr style=\"text-align: right;\">\n",
       "      <th></th>\n",
       "      <th>lg_Lnuc</th>\n",
       "      <th>H_rich</th>\n",
       "      <th>N_cntr</th>\n",
       "      <th>lg_Lneu</th>\n",
       "      <th>He_core</th>\n",
       "      <th>O_cntr</th>\n",
       "      <th>lg_Lphoto</th>\n",
       "      <th>C_core</th>\n",
       "      <th>O_core</th>\n",
       "      <th>Si_core</th>\n",
       "      <th>Fe_core</th>\n",
       "      <th>Ne_cntr</th>\n",
       "      <th>Mass</th>\n",
       "      <th>H_cntr</th>\n",
       "      <th>Si_cntr</th>\n",
       "      <th>lg_Mdot</th>\n",
       "      <th>He_cntr</th>\n",
       "      <th>zones</th>\n",
       "      <th>lg_Dsurf</th>\n",
       "      <th>C_cntr</th>\n",
       "      <th>model_number</th>\n",
       "      <th>star_age</th>\n",
       "      <th>star_mass</th>\n",
       "      <th>log_abs_mdot</th>\n",
       "      <th>log_rotational_mdot_boost</th>\n",
       "      <th>log_dt</th>\n",
       "      <th>log_total_angular_momentum</th>\n",
       "      <th>he_core_mass</th>\n",
       "      <th>c_core_mass</th>\n",
       "      <th>o_core_mass</th>\n",
       "      <th>si_core_mass</th>\n",
       "      <th>fe_core_mass</th>\n",
       "      <th>kh_timescale</th>\n",
       "      <th>log_LH</th>\n",
       "      <th>log_LHe</th>\n",
       "      <th>log_L</th>\n",
       "      <th>luminosity</th>\n",
       "      <th>log_Teff</th>\n",
       "      <th>effective_T</th>\n",
       "      <th>log_R</th>\n",
       "      <th>log_g</th>\n",
       "      <th>surf_avg_j_rot</th>\n",
       "      <th>surf_avg_omega</th>\n",
       "      <th>surf_avg_omega_crit</th>\n",
       "      <th>surf_avg_omega_div_omega_crit</th>\n",
       "      <th>surf_avg_v_rot</th>\n",
       "      <th>surf_avg_v_crit</th>\n",
       "      <th>surf_avg_v_div_v_crit</th>\n",
       "      <th>surf_avg_Lrad_div_Ledd</th>\n",
       "      <th>lum_div_Ledd</th>\n",
       "      <th>log_L_div_Ledd</th>\n",
       "      <th>v_div_cs</th>\n",
       "      <th>v_surf_km_s</th>\n",
       "      <th>log_cntr_T</th>\n",
       "      <th>log_cntr_Rho</th>\n",
       "      <th>log_cntr_P</th>\n",
       "      <th>center_omega</th>\n",
       "      <th>center_omega_div_omega_crit</th>\n",
       "      <th>center_ye</th>\n",
       "      <th>center_entropy</th>\n",
       "      <th>surface_h1</th>\n",
       "      <th>surface_he4</th>\n",
       "      <th>surface_c12</th>\n",
       "      <th>surface_n14</th>\n",
       "      <th>surface_o16</th>\n",
       "      <th>center_h1</th>\n",
       "      <th>center_he4</th>\n",
       "      <th>center_c12</th>\n",
       "      <th>center_n14</th>\n",
       "      <th>center_o16</th>\n",
       "      <th>center_ne20</th>\n",
       "      <th>center_si28</th>\n",
       "      <th>center_s32</th>\n",
       "      <th>center_ar36</th>\n",
       "      <th>center_ca40</th>\n",
       "      <th>center_fe54</th>\n",
       "      <th>center_fe56</th>\n",
       "      <th>center_ni56</th>\n",
       "      <th>center_cr56</th>\n",
       "      <th>total_mass_h1</th>\n",
       "      <th>total_mass_he4</th>\n",
       "      <th>log_Q</th>\n",
       "    </tr>\n",
       "  </thead>\n",
       "  <tbody>\n",
       "    <tr>\n",
       "      <th>0</th>\n",
       "      <td>5.612908</td>\n",
       "      <td>0.0</td>\n",
       "      <td>0.001156</td>\n",
       "      <td>4.457133</td>\n",
       "      <td>54.999880</td>\n",
       "      <td>0.001680</td>\n",
       "      <td>-99.0</td>\n",
       "      <td>0.0</td>\n",
       "      <td>0.0</td>\n",
       "      <td>0.0</td>\n",
       "      <td>0.0</td>\n",
       "      <td>0.000417</td>\n",
       "      <td>54.999880</td>\n",
       "      <td>0.746963</td>\n",
       "      <td>0.0</td>\n",
       "      <td>-6.402973</td>\n",
       "      <td>0.248950</td>\n",
       "      <td>845</td>\n",
       "      <td>-6.879623</td>\n",
       "      <td>0.000019</td>\n",
       "      <td>1</td>\n",
       "      <td>303.136531</td>\n",
       "      <td>54.999880</td>\n",
       "      <td>-6.402973</td>\n",
       "      <td>0.255207</td>\n",
       "      <td>2.481638</td>\n",
       "      <td>53.458774</td>\n",
       "      <td>54.999880</td>\n",
       "      <td>0.0</td>\n",
       "      <td>0.0</td>\n",
       "      <td>0.0</td>\n",
       "      <td>0.0</td>\n",
       "      <td>19510.137583</td>\n",
       "      <td>5.612908</td>\n",
       "      <td>-23.418199</td>\n",
       "      <td>5.608570</td>\n",
       "      <td>406041.250632</td>\n",
       "      <td>4.686532</td>\n",
       "      <td>48588.351747</td>\n",
       "      <td>0.953874</td>\n",
       "      <td>4.270682</td>\n",
       "      <td>2.171627e+19</td>\n",
       "      <td>0.000075</td>\n",
       "      <td>0.000101</td>\n",
       "      <td>0.741821</td>\n",
       "      <td>483.866708</td>\n",
       "      <td>652.268692</td>\n",
       "      <td>0.741821</td>\n",
       "      <td>0.623273</td>\n",
       "      <td>0.625134</td>\n",
       "      <td>-0.204027</td>\n",
       "      <td>0.0</td>\n",
       "      <td>0.000030</td>\n",
       "      <td>7.645783</td>\n",
       "      <td>0.492650</td>\n",
       "      <td>16.459742</td>\n",
       "      <td>0.000075</td>\n",
       "      <td>0.065333</td>\n",
       "      <td>0.873482</td>\n",
       "      <td>27.838456</td>\n",
       "      <td>0.748</td>\n",
       "      <td>0.247974</td>\n",
       "      <td>0.000689</td>\n",
       "      <td>0.000202</td>\n",
       "      <td>0.001876</td>\n",
       "      <td>0.746963</td>\n",
       "      <td>0.248950</td>\n",
       "      <td>0.000019</td>\n",
       "      <td>0.001156</td>\n",
       "      <td>0.001680</td>\n",
       "      <td>0.000417</td>\n",
       "      <td>0.0</td>\n",
       "      <td>0.0</td>\n",
       "      <td>0.0</td>\n",
       "      <td>0.0</td>\n",
       "      <td>0.0</td>\n",
       "      <td>0.0</td>\n",
       "      <td>0.0</td>\n",
       "      <td>0.0</td>\n",
       "      <td>41.097906</td>\n",
       "      <td>13.678025</td>\n",
       "      <td>49.428332</td>\n",
       "    </tr>\n",
       "    <tr>\n",
       "      <th>1</th>\n",
       "      <td>5.613258</td>\n",
       "      <td>0.0</td>\n",
       "      <td>0.001187</td>\n",
       "      <td>4.457056</td>\n",
       "      <td>54.999121</td>\n",
       "      <td>0.001643</td>\n",
       "      <td>-99.0</td>\n",
       "      <td>0.0</td>\n",
       "      <td>0.0</td>\n",
       "      <td>0.0</td>\n",
       "      <td>0.0</td>\n",
       "      <td>0.000417</td>\n",
       "      <td>54.999121</td>\n",
       "      <td>0.746764</td>\n",
       "      <td>0.0</td>\n",
       "      <td>-6.411365</td>\n",
       "      <td>0.249154</td>\n",
       "      <td>849</td>\n",
       "      <td>-6.880632</td>\n",
       "      <td>0.000020</td>\n",
       "      <td>5</td>\n",
       "      <td>2255.820809</td>\n",
       "      <td>54.999121</td>\n",
       "      <td>-6.411365</td>\n",
       "      <td>0.246996</td>\n",
       "      <td>2.798363</td>\n",
       "      <td>53.458725</td>\n",
       "      <td>54.999121</td>\n",
       "      <td>0.0</td>\n",
       "      <td>0.0</td>\n",
       "      <td>0.0</td>\n",
       "      <td>0.0</td>\n",
       "      <td>19492.508273</td>\n",
       "      <td>5.613258</td>\n",
       "      <td>-23.451175</td>\n",
       "      <td>5.608525</td>\n",
       "      <td>405998.842465</td>\n",
       "      <td>4.686308</td>\n",
       "      <td>48563.260635</td>\n",
       "      <td>0.954300</td>\n",
       "      <td>4.269824</td>\n",
       "      <td>2.158934e+19</td>\n",
       "      <td>0.000075</td>\n",
       "      <td>0.000101</td>\n",
       "      <td>0.735858</td>\n",
       "      <td>482.096576</td>\n",
       "      <td>655.148706</td>\n",
       "      <td>0.735858</td>\n",
       "      <td>0.620101</td>\n",
       "      <td>0.625315</td>\n",
       "      <td>-0.203901</td>\n",
       "      <td>0.0</td>\n",
       "      <td>0.000018</td>\n",
       "      <td>7.645124</td>\n",
       "      <td>0.490649</td>\n",
       "      <td>16.457023</td>\n",
       "      <td>0.000075</td>\n",
       "      <td>0.065274</td>\n",
       "      <td>0.873382</td>\n",
       "      <td>27.838414</td>\n",
       "      <td>0.748</td>\n",
       "      <td>0.247974</td>\n",
       "      <td>0.000689</td>\n",
       "      <td>0.000202</td>\n",
       "      <td>0.001876</td>\n",
       "      <td>0.746764</td>\n",
       "      <td>0.249154</td>\n",
       "      <td>0.000020</td>\n",
       "      <td>0.001187</td>\n",
       "      <td>0.001643</td>\n",
       "      <td>0.000417</td>\n",
       "      <td>0.0</td>\n",
       "      <td>0.0</td>\n",
       "      <td>0.0</td>\n",
       "      <td>0.0</td>\n",
       "      <td>0.0</td>\n",
       "      <td>0.0</td>\n",
       "      <td>0.0</td>\n",
       "      <td>0.0</td>\n",
       "      <td>41.089138</td>\n",
       "      <td>13.686208</td>\n",
       "      <td>49.428097</td>\n",
       "    </tr>\n",
       "    <tr>\n",
       "      <th>2</th>\n",
       "      <td>5.612645</td>\n",
       "      <td>0.0</td>\n",
       "      <td>0.001267</td>\n",
       "      <td>4.454963</td>\n",
       "      <td>54.996953</td>\n",
       "      <td>0.001550</td>\n",
       "      <td>-99.0</td>\n",
       "      <td>0.0</td>\n",
       "      <td>0.0</td>\n",
       "      <td>0.0</td>\n",
       "      <td>0.0</td>\n",
       "      <td>0.000417</td>\n",
       "      <td>54.996953</td>\n",
       "      <td>0.746196</td>\n",
       "      <td>0.0</td>\n",
       "      <td>-6.413436</td>\n",
       "      <td>0.249733</td>\n",
       "      <td>848</td>\n",
       "      <td>-6.884388</td>\n",
       "      <td>0.000021</td>\n",
       "      <td>10</td>\n",
       "      <td>7869.024844</td>\n",
       "      <td>54.996953</td>\n",
       "      <td>-6.413436</td>\n",
       "      <td>0.243894</td>\n",
       "      <td>3.194269</td>\n",
       "      <td>53.458585</td>\n",
       "      <td>54.996953</td>\n",
       "      <td>0.0</td>\n",
       "      <td>0.0</td>\n",
       "      <td>0.0</td>\n",
       "      <td>0.0</td>\n",
       "      <td>19407.764421</td>\n",
       "      <td>5.612645</td>\n",
       "      <td>-23.532219</td>\n",
       "      <td>5.608835</td>\n",
       "      <td>406288.711061</td>\n",
       "      <td>4.685611</td>\n",
       "      <td>48485.437815</td>\n",
       "      <td>0.955848</td>\n",
       "      <td>4.266710</td>\n",
       "      <td>2.146193e+19</td>\n",
       "      <td>0.000074</td>\n",
       "      <td>0.000101</td>\n",
       "      <td>0.733063</td>\n",
       "      <td>479.161128</td>\n",
       "      <td>653.642076</td>\n",
       "      <td>0.733063</td>\n",
       "      <td>0.621052</td>\n",
       "      <td>0.626214</td>\n",
       "      <td>-0.203277</td>\n",
       "      <td>0.0</td>\n",
       "      <td>0.000009</td>\n",
       "      <td>7.643500</td>\n",
       "      <td>0.485720</td>\n",
       "      <td>16.450306</td>\n",
       "      <td>0.000074</td>\n",
       "      <td>0.065116</td>\n",
       "      <td>0.873098</td>\n",
       "      <td>27.836987</td>\n",
       "      <td>0.748</td>\n",
       "      <td>0.247974</td>\n",
       "      <td>0.000689</td>\n",
       "      <td>0.000202</td>\n",
       "      <td>0.001876</td>\n",
       "      <td>0.746196</td>\n",
       "      <td>0.249733</td>\n",
       "      <td>0.000021</td>\n",
       "      <td>0.001267</td>\n",
       "      <td>0.001550</td>\n",
       "      <td>0.000417</td>\n",
       "      <td>0.0</td>\n",
       "      <td>0.0</td>\n",
       "      <td>0.0</td>\n",
       "      <td>0.0</td>\n",
       "      <td>0.0</td>\n",
       "      <td>0.0</td>\n",
       "      <td>0.0</td>\n",
       "      <td>0.0</td>\n",
       "      <td>41.064003</td>\n",
       "      <td>13.709635</td>\n",
       "      <td>49.427818</td>\n",
       "    </tr>\n",
       "    <tr>\n",
       "      <th>3</th>\n",
       "      <td>5.612269</td>\n",
       "      <td>0.0</td>\n",
       "      <td>0.001424</td>\n",
       "      <td>4.452552</td>\n",
       "      <td>54.991558</td>\n",
       "      <td>0.001368</td>\n",
       "      <td>-99.0</td>\n",
       "      <td>0.0</td>\n",
       "      <td>0.0</td>\n",
       "      <td>0.0</td>\n",
       "      <td>0.0</td>\n",
       "      <td>0.000417</td>\n",
       "      <td>54.991558</td>\n",
       "      <td>0.744820</td>\n",
       "      <td>0.0</td>\n",
       "      <td>-6.412860</td>\n",
       "      <td>0.251133</td>\n",
       "      <td>858</td>\n",
       "      <td>-6.892123</td>\n",
       "      <td>0.000023</td>\n",
       "      <td>15</td>\n",
       "      <td>21836.472709</td>\n",
       "      <td>54.991558</td>\n",
       "      <td>-6.412860</td>\n",
       "      <td>0.241790</td>\n",
       "      <td>3.590176</td>\n",
       "      <td>53.458237</td>\n",
       "      <td>54.991558</td>\n",
       "      <td>0.0</td>\n",
       "      <td>0.0</td>\n",
       "      <td>0.0</td>\n",
       "      <td>0.0</td>\n",
       "      <td>19225.875072</td>\n",
       "      <td>5.612269</td>\n",
       "      <td>-23.674384</td>\n",
       "      <td>5.609673</td>\n",
       "      <td>407073.585088</td>\n",
       "      <td>4.684238</td>\n",
       "      <td>48332.343151</td>\n",
       "      <td>0.959014</td>\n",
       "      <td>4.260336</td>\n",
       "      <td>2.138047e+19</td>\n",
       "      <td>0.000073</td>\n",
       "      <td>0.000100</td>\n",
       "      <td>0.730969</td>\n",
       "      <td>475.019718</td>\n",
       "      <td>649.849097</td>\n",
       "      <td>0.730969</td>\n",
       "      <td>0.623064</td>\n",
       "      <td>0.628160</td>\n",
       "      <td>-0.201930</td>\n",
       "      <td>0.0</td>\n",
       "      <td>0.000005</td>\n",
       "      <td>7.640626</td>\n",
       "      <td>0.476917</td>\n",
       "      <td>16.438290</td>\n",
       "      <td>0.000073</td>\n",
       "      <td>0.064816</td>\n",
       "      <td>0.872410</td>\n",
       "      <td>27.829039</td>\n",
       "      <td>0.748</td>\n",
       "      <td>0.247974</td>\n",
       "      <td>0.000689</td>\n",
       "      <td>0.000202</td>\n",
       "      <td>0.001876</td>\n",
       "      <td>0.744820</td>\n",
       "      <td>0.251133</td>\n",
       "      <td>0.000023</td>\n",
       "      <td>0.001424</td>\n",
       "      <td>0.001368</td>\n",
       "      <td>0.000417</td>\n",
       "      <td>0.0</td>\n",
       "      <td>0.0</td>\n",
       "      <td>0.0</td>\n",
       "      <td>0.0</td>\n",
       "      <td>0.0</td>\n",
       "      <td>0.0</td>\n",
       "      <td>0.0</td>\n",
       "      <td>0.0</td>\n",
       "      <td>41.001684</td>\n",
       "      <td>13.767496</td>\n",
       "      <td>49.427484</td>\n",
       "    </tr>\n",
       "    <tr>\n",
       "      <th>4</th>\n",
       "      <td>5.613117</td>\n",
       "      <td>0.0</td>\n",
       "      <td>0.001681</td>\n",
       "      <td>4.450941</td>\n",
       "      <td>54.978058</td>\n",
       "      <td>0.001069</td>\n",
       "      <td>-99.0</td>\n",
       "      <td>0.0</td>\n",
       "      <td>0.0</td>\n",
       "      <td>0.0</td>\n",
       "      <td>0.0</td>\n",
       "      <td>0.000417</td>\n",
       "      <td>54.978058</td>\n",
       "      <td>0.741516</td>\n",
       "      <td>0.0</td>\n",
       "      <td>-6.409234</td>\n",
       "      <td>0.254474</td>\n",
       "      <td>833</td>\n",
       "      <td>-6.904294</td>\n",
       "      <td>0.000027</td>\n",
       "      <td>20</td>\n",
       "      <td>56591.952581</td>\n",
       "      <td>54.978058</td>\n",
       "      <td>-6.409234</td>\n",
       "      <td>0.239999</td>\n",
       "      <td>3.986082</td>\n",
       "      <td>53.457371</td>\n",
       "      <td>54.978058</td>\n",
       "      <td>0.0</td>\n",
       "      <td>0.0</td>\n",
       "      <td>0.0</td>\n",
       "      <td>0.0</td>\n",
       "      <td>18913.143026</td>\n",
       "      <td>5.613117</td>\n",
       "      <td>-23.863082</td>\n",
       "      <td>5.611690</td>\n",
       "      <td>408968.547538</td>\n",
       "      <td>4.682296</td>\n",
       "      <td>48116.719805</td>\n",
       "      <td>0.963906</td>\n",
       "      <td>4.250445</td>\n",
       "      <td>2.129018e+19</td>\n",
       "      <td>0.000071</td>\n",
       "      <td>0.000098</td>\n",
       "      <td>0.729072</td>\n",
       "      <td>469.262453</td>\n",
       "      <td>643.643237</td>\n",
       "      <td>0.729072</td>\n",
       "      <td>0.626497</td>\n",
       "      <td>0.631566</td>\n",
       "      <td>-0.199581</td>\n",
       "      <td>0.0</td>\n",
       "      <td>0.000002</td>\n",
       "      <td>7.636697</td>\n",
       "      <td>0.464575</td>\n",
       "      <td>16.421362</td>\n",
       "      <td>0.000071</td>\n",
       "      <td>0.064338</td>\n",
       "      <td>0.870758</td>\n",
       "      <td>27.797555</td>\n",
       "      <td>0.748</td>\n",
       "      <td>0.247974</td>\n",
       "      <td>0.000689</td>\n",
       "      <td>0.000202</td>\n",
       "      <td>0.001876</td>\n",
       "      <td>0.741516</td>\n",
       "      <td>0.254474</td>\n",
       "      <td>0.000027</td>\n",
       "      <td>0.001681</td>\n",
       "      <td>0.001069</td>\n",
       "      <td>0.000417</td>\n",
       "      <td>0.0</td>\n",
       "      <td>0.0</td>\n",
       "      <td>0.0</td>\n",
       "      <td>0.0</td>\n",
       "      <td>0.0</td>\n",
       "      <td>0.0</td>\n",
       "      <td>0.0</td>\n",
       "      <td>0.0</td>\n",
       "      <td>40.846991</td>\n",
       "      <td>13.910326</td>\n",
       "      <td>49.427823</td>\n",
       "    </tr>\n",
       "  </tbody>\n",
       "</table>\n",
       "</div>"
      ],
      "text/plain": [
       "    lg_Lnuc  H_rich    N_cntr   lg_Lneu    He_core    O_cntr  lg_Lphoto  \\\n",
       "0  5.612908     0.0  0.001156  4.457133  54.999880  0.001680      -99.0   \n",
       "1  5.613258     0.0  0.001187  4.457056  54.999121  0.001643      -99.0   \n",
       "2  5.612645     0.0  0.001267  4.454963  54.996953  0.001550      -99.0   \n",
       "3  5.612269     0.0  0.001424  4.452552  54.991558  0.001368      -99.0   \n",
       "4  5.613117     0.0  0.001681  4.450941  54.978058  0.001069      -99.0   \n",
       "\n",
       "   C_core  O_core  Si_core  Fe_core   Ne_cntr       Mass    H_cntr  Si_cntr  \\\n",
       "0     0.0     0.0      0.0      0.0  0.000417  54.999880  0.746963      0.0   \n",
       "1     0.0     0.0      0.0      0.0  0.000417  54.999121  0.746764      0.0   \n",
       "2     0.0     0.0      0.0      0.0  0.000417  54.996953  0.746196      0.0   \n",
       "3     0.0     0.0      0.0      0.0  0.000417  54.991558  0.744820      0.0   \n",
       "4     0.0     0.0      0.0      0.0  0.000417  54.978058  0.741516      0.0   \n",
       "\n",
       "    lg_Mdot   He_cntr  zones  lg_Dsurf    C_cntr  model_number      star_age  \\\n",
       "0 -6.402973  0.248950    845 -6.879623  0.000019             1    303.136531   \n",
       "1 -6.411365  0.249154    849 -6.880632  0.000020             5   2255.820809   \n",
       "2 -6.413436  0.249733    848 -6.884388  0.000021            10   7869.024844   \n",
       "3 -6.412860  0.251133    858 -6.892123  0.000023            15  21836.472709   \n",
       "4 -6.409234  0.254474    833 -6.904294  0.000027            20  56591.952581   \n",
       "\n",
       "   star_mass  log_abs_mdot  log_rotational_mdot_boost    log_dt  \\\n",
       "0  54.999880     -6.402973                   0.255207  2.481638   \n",
       "1  54.999121     -6.411365                   0.246996  2.798363   \n",
       "2  54.996953     -6.413436                   0.243894  3.194269   \n",
       "3  54.991558     -6.412860                   0.241790  3.590176   \n",
       "4  54.978058     -6.409234                   0.239999  3.986082   \n",
       "\n",
       "   log_total_angular_momentum  he_core_mass  c_core_mass  o_core_mass  \\\n",
       "0                   53.458774     54.999880          0.0          0.0   \n",
       "1                   53.458725     54.999121          0.0          0.0   \n",
       "2                   53.458585     54.996953          0.0          0.0   \n",
       "3                   53.458237     54.991558          0.0          0.0   \n",
       "4                   53.457371     54.978058          0.0          0.0   \n",
       "\n",
       "   si_core_mass  fe_core_mass  kh_timescale    log_LH    log_LHe     log_L  \\\n",
       "0           0.0           0.0  19510.137583  5.612908 -23.418199  5.608570   \n",
       "1           0.0           0.0  19492.508273  5.613258 -23.451175  5.608525   \n",
       "2           0.0           0.0  19407.764421  5.612645 -23.532219  5.608835   \n",
       "3           0.0           0.0  19225.875072  5.612269 -23.674384  5.609673   \n",
       "4           0.0           0.0  18913.143026  5.613117 -23.863082  5.611690   \n",
       "\n",
       "      luminosity  log_Teff   effective_T     log_R     log_g  surf_avg_j_rot  \\\n",
       "0  406041.250632  4.686532  48588.351747  0.953874  4.270682    2.171627e+19   \n",
       "1  405998.842465  4.686308  48563.260635  0.954300  4.269824    2.158934e+19   \n",
       "2  406288.711061  4.685611  48485.437815  0.955848  4.266710    2.146193e+19   \n",
       "3  407073.585088  4.684238  48332.343151  0.959014  4.260336    2.138047e+19   \n",
       "4  408968.547538  4.682296  48116.719805  0.963906  4.250445    2.129018e+19   \n",
       "\n",
       "   surf_avg_omega  surf_avg_omega_crit  surf_avg_omega_div_omega_crit  \\\n",
       "0        0.000075             0.000101                       0.741821   \n",
       "1        0.000075             0.000101                       0.735858   \n",
       "2        0.000074             0.000101                       0.733063   \n",
       "3        0.000073             0.000100                       0.730969   \n",
       "4        0.000071             0.000098                       0.729072   \n",
       "\n",
       "   surf_avg_v_rot  surf_avg_v_crit  surf_avg_v_div_v_crit  \\\n",
       "0      483.866708       652.268692               0.741821   \n",
       "1      482.096576       655.148706               0.735858   \n",
       "2      479.161128       653.642076               0.733063   \n",
       "3      475.019718       649.849097               0.730969   \n",
       "4      469.262453       643.643237               0.729072   \n",
       "\n",
       "   surf_avg_Lrad_div_Ledd  lum_div_Ledd  log_L_div_Ledd  v_div_cs  \\\n",
       "0                0.623273      0.625134       -0.204027       0.0   \n",
       "1                0.620101      0.625315       -0.203901       0.0   \n",
       "2                0.621052      0.626214       -0.203277       0.0   \n",
       "3                0.623064      0.628160       -0.201930       0.0   \n",
       "4                0.626497      0.631566       -0.199581       0.0   \n",
       "\n",
       "   v_surf_km_s  log_cntr_T  log_cntr_Rho  log_cntr_P  center_omega  \\\n",
       "0     0.000030    7.645783      0.492650   16.459742      0.000075   \n",
       "1     0.000018    7.645124      0.490649   16.457023      0.000075   \n",
       "2     0.000009    7.643500      0.485720   16.450306      0.000074   \n",
       "3     0.000005    7.640626      0.476917   16.438290      0.000073   \n",
       "4     0.000002    7.636697      0.464575   16.421362      0.000071   \n",
       "\n",
       "   center_omega_div_omega_crit  center_ye  center_entropy  surface_h1  \\\n",
       "0                     0.065333   0.873482       27.838456       0.748   \n",
       "1                     0.065274   0.873382       27.838414       0.748   \n",
       "2                     0.065116   0.873098       27.836987       0.748   \n",
       "3                     0.064816   0.872410       27.829039       0.748   \n",
       "4                     0.064338   0.870758       27.797555       0.748   \n",
       "\n",
       "   surface_he4  surface_c12  surface_n14  surface_o16  center_h1  center_he4  \\\n",
       "0     0.247974     0.000689     0.000202     0.001876   0.746963    0.248950   \n",
       "1     0.247974     0.000689     0.000202     0.001876   0.746764    0.249154   \n",
       "2     0.247974     0.000689     0.000202     0.001876   0.746196    0.249733   \n",
       "3     0.247974     0.000689     0.000202     0.001876   0.744820    0.251133   \n",
       "4     0.247974     0.000689     0.000202     0.001876   0.741516    0.254474   \n",
       "\n",
       "   center_c12  center_n14  center_o16  center_ne20  center_si28  center_s32  \\\n",
       "0    0.000019    0.001156    0.001680     0.000417          0.0         0.0   \n",
       "1    0.000020    0.001187    0.001643     0.000417          0.0         0.0   \n",
       "2    0.000021    0.001267    0.001550     0.000417          0.0         0.0   \n",
       "3    0.000023    0.001424    0.001368     0.000417          0.0         0.0   \n",
       "4    0.000027    0.001681    0.001069     0.000417          0.0         0.0   \n",
       "\n",
       "   center_ar36  center_ca40  center_fe54  center_fe56  center_ni56  \\\n",
       "0          0.0          0.0          0.0          0.0          0.0   \n",
       "1          0.0          0.0          0.0          0.0          0.0   \n",
       "2          0.0          0.0          0.0          0.0          0.0   \n",
       "3          0.0          0.0          0.0          0.0          0.0   \n",
       "4          0.0          0.0          0.0          0.0          0.0   \n",
       "\n",
       "   center_cr56  total_mass_h1  total_mass_he4      log_Q  \n",
       "0          0.0      41.097906       13.678025  49.428332  \n",
       "1          0.0      41.089138       13.686208  49.428097  \n",
       "2          0.0      41.064003       13.709635  49.427818  \n",
       "3          0.0      41.001684       13.767496  49.427484  \n",
       "4          0.0      40.846991       13.910326  49.427823  "
      ]
     },
     "execution_count": 47,
     "metadata": {},
     "output_type": "execute_result"
    }
   ],
   "source": [
    "df_ = pd.read_csv(file_path + 'history.data', header = 4, delim_whitespace=True, low_memory=False)\n",
    "df_.head()"
   ]
  },
  {
   "cell_type": "code",
   "execution_count": 18,
   "metadata": {},
   "outputs": [
    {
     "data": {
      "text/plain": [
       "Text(0, 0.5, 'omega_div_omega_crit')"
      ]
     },
     "execution_count": 18,
     "metadata": {},
     "output_type": "execute_result"
    },
    {
     "name": "stderr",
     "output_type": "stream",
     "text": [
      "/opt/nesi/CS400_centos7_bdw/Python/3.7.3-gimkl-2018b/lib/python3.7/site-packages/matplotlib-3.0.3-py3.7-linux-x86_64.egg/matplotlib/font_manager.py:1241: UserWarning: findfont: Font family ['serif'] not found. Falling back to DejaVu Sans.\n",
      "  (prop.get_family(), self.defaultFamily[fontext]))\n"
     ]
    },
    {
     "data": {
      "image/png": "[encoded data removed]",
      "text/plain": [
       "<Figure size 450x300 with 1 Axes>"
      ]
     },
     "metadata": {
      "needs_background": "light"
     },
     "output_type": "display_data"
    }
   ],
   "source": [
    "plt.figure(figsize = (3,2))\n",
    "plt.plot(df_.loc[:,'Mass'], df_.loc[:,'surf_avg_v_div_v_crit'])\n",
    "plt.title(df_.loc[len(df_)-1, 'center_c12'])\n",
    "# plt.yscale('log')\n",
    "plt.xlabel('Mass [M$_{\\\\odot}$]')\n",
    "plt.ylabel('omega_div_omega_crit' , fontsize = 7)"
   ]
  },
  {
   "cell_type": "code",
   "execution_count": 19,
   "metadata": {},
   "outputs": [
    {
     "data": {
      "text/plain": [
       "84"
      ]
     },
     "execution_count": 19,
     "metadata": {},
     "output_type": "execute_result"
    }
   ],
   "source": [
    "df_p_index = pd.read_csv(file_path + '/profiles.index', delim_whitespace=True, low_memory=False)\n",
    "df_p_index\n",
    "last_profile = df_p_index.loc[len(df_p_index)-1,'lines']\n",
    "last_profile"
   ]
  },
  {
   "cell_type": "code",
   "execution_count": 20,
   "metadata": {},
   "outputs": [],
   "source": [
    "df_profile = pd.read_csv(file_path +  '/profile' + str(last_profile) + '.data', \\\n",
    "                  header = 4, delim_whitespace=True, low_memory=False)\n",
    "# df_profile"
   ]
  },
  {
   "cell_type": "code",
   "execution_count": 21,
   "metadata": {},
   "outputs": [
    {
     "data": {
      "text/plain": [
       "Text(0, 0.5, 'omega_div_omega_crit')"
      ]
     },
     "execution_count": 21,
     "metadata": {},
     "output_type": "execute_result"
    },
    {
     "data": {
      "image/png": "[encoded data removed]",
      "text/plain": [
       "<Figure size 450x300 with 1 Axes>"
      ]
     },
     "metadata": {
      "needs_background": "light"
     },
     "output_type": "display_data"
    }
   ],
   "source": [
    "plt.figure(figsize = (3,2))\n",
    "plt.plot(df_profile.loc[:,'mass'], df_profile.loc[:,'omega_div_omega_crit'])\n",
    "plt.xlabel('Mass [M$_{\\\\odot}$]')\n",
    "plt.ylabel('omega_div_omega_crit' , fontsize = 7)"
   ]
  },
  {
   "cell_type": "code",
   "execution_count": 22,
   "metadata": {},
   "outputs": [
    {
     "name": "stderr",
     "output_type": "stream",
     "text": [
      "/opt/nesi/CS400_centos7_bdw/Python/3.7.3-gimkl-2018b/lib/python3.7/site-packages/numpy/core/numeric.py:538: ComplexWarning: Casting complex values to real discards the imaginary part\n",
      "  return array(a, dtype, copy=False, order=order)\n"
     ]
    },
    {
     "data": {
      "text/plain": [
       "<matplotlib.legend.Legend at 0x2aaaf623b2b0>"
      ]
     },
     "execution_count": 22,
     "metadata": {},
     "output_type": "execute_result"
    },
    {
     "data": {
      "image/png": "[encoded data removed]",
      "text/plain": [
       "<Figure size 450x300 with 1 Axes>"
      ]
     },
     "metadata": {
      "needs_background": "light"
     },
     "output_type": "display_data"
    }
   ],
   "source": [
    "plt.figure(figsize = (3,2))\n",
    "G = 6.67*1e-11 * 1e3  # to conver to cm3\n",
    "Msun = 1.98*1e30 * 1e3 # in gms\n",
    "c = 3e8 *1e2\n",
    "\n",
    "plt.plot(df_profile.loc[:,'mass'], 10**(df_profile.loc[:,'log_j_rot']))\n",
    "\n",
    "#Below plotting specific angular momentum at r_ISCO considering all mass uptill the mass coordinate falls in.\n",
    "for i in range(len(df_profile)):\n",
    "    M = df_profile.loc[i,'mass'] * Msun\n",
    "    J = 10**(df_profile.loc[i,'log_J_inside'])\n",
    "    a = float(J * c / (G*(M**2)) )\n",
    "#     print(a)\n",
    "#     if a >= 1:\n",
    "#         print(a)\n",
    "    \n",
    "    z_1 = 1 + ((1 - a**2)**(1/3) * ( (1 + a)**(1/3) + (1 - a)**(1/3) ) )\n",
    "    z_2 = np.sqrt(3*a**2 + (z_1)**2)\n",
    "    r_ISCO = 3 + z_2 - np.sqrt((3 - z_1)*( 3 + z_1 + 2*z_2)) #(G*M/c**2)\n",
    "    j_ISCO = (2/3**(3/2))*(1 + 2*np.sqrt(3*r_ISCO -2)) * (G*M/c)\n",
    "    plt.plot(df_profile.loc[i,'mass'], j_ISCO, color = 'red', marker = '*', markersize = 1)\n",
    "#     print(df_.loc[i,'mass'], math.log10(j_ISCO))\n",
    "plt.yscale('log')\n",
    "plt.ylim(9e13, )\n",
    "plt.xlim(0,)\n",
    "plt.xlabel('Mass [M$_{\\\\odot}$]')\n",
    "plt.ylabel('Specific Angular Momentum [cm$^{2}$/s]', fontsize = 6)\n",
    "plt.legend(['c12 depletion', 'j_ISCO'])"
   ]
  },
  {
   "cell_type": "code",
   "execution_count": 26,
   "metadata": {},
   "outputs": [
    {
     "name": "stdout",
     "output_type": "stream",
     "text": [
      "1323.2129283605348\n",
      "1323.2102620326525\n",
      "1323.2120395833854\n",
      "1871.3037838173104\n"
     ]
    }
   ],
   "source": [
    "print(df_profile.loc[0,'r_equatorial'])\n",
    "print(df_profile.loc[0,'r_polar'])\n",
    "print(df_profile.loc[0,'radius'])\n",
    "\n",
    "# I think MESA already takes the non spherical shape into account when calculating radius above (but how exactly?)\n",
    "print(np.sqrt(df_profile.loc[0,'r_polar']**2 + df_profile.loc[0,'r_equatorial']**2))"
   ]
  },
  {
   "cell_type": "code",
   "execution_count": 16,
   "metadata": {},
   "outputs": [
    {
     "name": "stdout",
     "output_type": "stream",
     "text": [
      "r_isco = 1.000e+00   j_isco = 5.253e+15   i = 38  mass = 1.034e+00 \tspin = 1\n"
     ]
    }
   ],
   "source": [
    "# calculating j_ISCO and r_ISCO for a 2.5Msun BH formed from the collapse of a proto NS\n",
    "M = 0.\n",
    "J = 0.\n",
    "df = pd.read_csv(path, header = 4, delim_whitespace=True, low_memory=False)\n",
    "Mdata = np.flip(np.array(df.loc[:, 'mass']))\n",
    "Jdata = 10**np.flip(np.array(df.loc[:, 'log_J_inside']))\n",
    "for i in range(len(df)):\n",
    "    if  Mdata[i]>= 1:\n",
    "        M = Mdata[i] * Msun\n",
    "        J = Jdata[i]\n",
    "        r_ISCO, j_ISCO, a = calc_ISCO_parameters(M, J)\n",
    "        print('r_isco =', '%.3e'%r_ISCO, '  j_isco =', '%.3e'%j_ISCO, '  i =', i, ' mass =', '%.3e'%(M/Msun), \\\n",
    "             '\\tspin =', a)\n",
    "        break"
   ]
  },
  {
   "cell_type": "code",
   "execution_count": 17,
   "metadata": {
    "scrolled": false
   },
   "outputs": [
    {
     "data": {
      "text/plain": [
       "Text(0, 0.5, 'a')"
      ]
     },
     "execution_count": 17,
     "metadata": {},
     "output_type": "execute_result"
    },
    {
     "data": {
      "image/png": "[encoded data removed]",
      "text/plain": [
       "<Figure size 432x288 with 1 Axes>"
      ]
     },
     "metadata": {
      "needs_background": "light"
     },
     "output_type": "display_data"
    }
   ],
   "source": [
    "import scipy.integrate as integrate\n",
    "J_BH = []\n",
    "\n",
    "for i in range(len(df)):\n",
    "    if Mdata[i] > 1:\n",
    "        temp = len(df) - 1 - i\n",
    "        dr    = df.loc[temp, 'dr']  # already in cm\n",
    "        dm    = df.loc[temp, 'dm']  # in gms\n",
    "        rho   = df.loc[temp,'rho']\n",
    "        omega = df.loc[temp, 'omega']\n",
    "        r     = df.loc[temp, 'radius'] * Rsun\n",
    "        \n",
    "#         r = np.sqrt(df.loc[temp,'r_polar']**2 + df.loc[temp,'r_equatorial']**2)\n",
    "\n",
    "        x = np.sqrt( j_ISCO / (omega * (r**2) ) )\n",
    "        if x >= 1:\n",
    "#             print('x = ', x, 'and mass of progentor was', df.loc[len(df) - 1 - i,'mass'])\n",
    "            x = 1  # This means the inner shell did not have enough specific j to form an accretion disk.\n",
    "#         print(j_ISCO, x)\n",
    "        theta_disk = math.asin( x )\n",
    "        theta_disk = theta_disk.real\n",
    "#         print(theta_disk)\n",
    "\n",
    "#         y1 = integrate.quad(lambda theta: (math.sin(theta))**3 , 0, theta_disk)\n",
    "        y1 = 2/3 - math.cos(theta_disk) + ((math.cos(theta_disk))**3 )/ 3\n",
    "#         print(y1)\n",
    "\n",
    "        J_shell_1 = 2 * 2*np.pi * rho * omega * r**4 * dr * y1 #y1[0]\n",
    "#         J_shell_1 = dm * y1[0]\n",
    "        \n",
    "#         y2 = integrate.quad(lambda theta: math.sin(theta) , theta_disk , np.pi/2)\n",
    "        y2 = math.cos(theta_disk)\n",
    "    \n",
    "        J_shell_2 = 2 * 2*np.pi * j_ISCO * rho * r**2 * dr * y2 #y2[0]\n",
    "#         J_shell_2 = dm * j_ISCO * y2[0]\n",
    "        \n",
    "        e = np.sqrt(1 - (2/ (3*r_ISCO) ))\n",
    "#         print(e)\n",
    "        M_disk = 2 * 2*np.pi * rho * r**2 * dr * y2 #y2[0]\n",
    "        \n",
    "#         y3 = integrate.quad(lambda theta: math.sin(theta), 0, theta_disk)\n",
    "        y3 = 1 - math.cos(theta_disk) \n",
    "#         M_added =  M_disk*(1- e) + ( 2 * 2*np.pi * rho * r**2 * dr * y3[0])\n",
    "        \n",
    "        M_added =  M_disk*(e) + ( 2 * 2*np.pi * rho * r**2 * dr * y3) #y3[0])\n",
    "        J_added = J_shell_1 + J_shell_2\n",
    "        \n",
    "        # recalculating the new value of r_ISCO and j_ISCO and M_BH and J_BH\n",
    "        M += M_added\n",
    "        J += J_added\n",
    "        \n",
    "        a_temp = J * c / (G*(M**2) )\n",
    "        if a_temp > 1:\n",
    "            a_temp = 1\n",
    "        J_BH.append(a_temp)\n",
    "        r_ISCO, j_ISCO, a = calc_ISCO_parameters(M, J) \n",
    "    else:\n",
    "        J_BH.append(a)\n",
    "\n",
    "        \n",
    "plt.plot(df.loc[::-1,'mass'], J_BH)\n",
    "plt.ylim(0,)\n",
    "\n",
    "plt.xlabel('M$_{\\\\rm pre, expl}$ [M$_{\\\\odot}$]')\n",
    "plt.ylabel('a')"
   ]
  },
  {
   "cell_type": "code",
   "execution_count": null,
   "metadata": {},
   "outputs": [],
   "source": []
  },
  {
   "cell_type": "markdown",
   "metadata": {},
   "source": [
    "## Below we find the spin of the BH as a function of the accretion mass"
   ]
  },
  {
   "cell_type": "code",
   "execution_count": 156,
   "metadata": {},
   "outputs": [
    {
     "data": {
      "text/html": [
       "<div>\n",
       "<style scoped>\n",
       "    .dataframe tbody tr th:only-of-type {\n",
       "        vertical-align: middle;\n",
       "    }\n",
       "\n",
       "    .dataframe tbody tr th {\n",
       "        vertical-align: top;\n",
       "    }\n",
       "\n",
       "    .dataframe thead th {\n",
       "        text-align: right;\n",
       "    }\n",
       "</style>\n",
       "<table border=\"1\" class=\"dataframe\">\n",
       "  <thead>\n",
       "    <tr style=\"text-align: right;\">\n",
       "      <th></th>\n",
       "      <th>logT</th>\n",
       "      <th>logRho</th>\n",
       "      <th>logP</th>\n",
       "      <th>logE</th>\n",
       "      <th>entropy</th>\n",
       "      <th>logR</th>\n",
       "      <th>luminosity</th>\n",
       "      <th>lum_erg_s</th>\n",
       "      <th>logL</th>\n",
       "      <th>log_L_div_Ledd</th>\n",
       "      <th>...</th>\n",
       "      <th>fp_rot</th>\n",
       "      <th>ft_rot</th>\n",
       "      <th>log_am_nu</th>\n",
       "      <th>r_polar</th>\n",
       "      <th>log_r_polar</th>\n",
       "      <th>r_equatorial</th>\n",
       "      <th>log_r_equatorial</th>\n",
       "      <th>r_e_div_r_p</th>\n",
       "      <th>omega_crit</th>\n",
       "      <th>omega_div_omega_crit</th>\n",
       "    </tr>\n",
       "  </thead>\n",
       "  <tbody>\n",
       "    <tr>\n",
       "      <th>0</th>\n",
       "      <td>5.308989</td>\n",
       "      <td>-7.495897</td>\n",
       "      <td>6.672380</td>\n",
       "      <td>14.649041</td>\n",
       "      <td>48.497911</td>\n",
       "      <td>-0.074932</td>\n",
       "      <td>1.000312e+06</td>\n",
       "      <td>3.829193e+39</td>\n",
       "      <td>6.000135</td>\n",
       "      <td>-0.076877</td>\n",
       "      <td>...</td>\n",
       "      <td>0.854745</td>\n",
       "      <td>0.992056</td>\n",
       "      <td>14.881614</td>\n",
       "      <td>0.792751</td>\n",
       "      <td>-0.100863</td>\n",
       "      <td>0.868784</td>\n",
       "      <td>-0.061088</td>\n",
       "      <td>1.095911</td>\n",
       "      <td>0.001655</td>\n",
       "      <td>1.102711</td>\n",
       "    </tr>\n",
       "    <tr>\n",
       "      <th>1</th>\n",
       "      <td>5.320435</td>\n",
       "      <td>-7.485309</td>\n",
       "      <td>6.716402</td>\n",
       "      <td>14.681884</td>\n",
       "      <td>50.320364</td>\n",
       "      <td>-0.075125</td>\n",
       "      <td>1.000194e+06</td>\n",
       "      <td>3.828742e+39</td>\n",
       "      <td>6.000084</td>\n",
       "      <td>-0.076928</td>\n",
       "      <td>...</td>\n",
       "      <td>0.854950</td>\n",
       "      <td>0.992076</td>\n",
       "      <td>14.787655</td>\n",
       "      <td>0.792453</td>\n",
       "      <td>-0.101026</td>\n",
       "      <td>0.868362</td>\n",
       "      <td>-0.061299</td>\n",
       "      <td>1.095789</td>\n",
       "      <td>0.001656</td>\n",
       "      <td>1.102129</td>\n",
       "    </tr>\n",
       "    <tr>\n",
       "      <th>2</th>\n",
       "      <td>5.327243</td>\n",
       "      <td>-7.478841</td>\n",
       "      <td>6.742641</td>\n",
       "      <td>14.701335</td>\n",
       "      <td>51.438465</td>\n",
       "      <td>-0.075211</td>\n",
       "      <td>1.000089e+06</td>\n",
       "      <td>3.828340e+39</td>\n",
       "      <td>6.000039</td>\n",
       "      <td>-0.083263</td>\n",
       "      <td>...</td>\n",
       "      <td>0.855041</td>\n",
       "      <td>0.992085</td>\n",
       "      <td>14.622916</td>\n",
       "      <td>0.792321</td>\n",
       "      <td>-0.101099</td>\n",
       "      <td>0.868174</td>\n",
       "      <td>-0.061393</td>\n",
       "      <td>1.095735</td>\n",
       "      <td>0.001652</td>\n",
       "      <td>1.104829</td>\n",
       "    </tr>\n",
       "    <tr>\n",
       "      <th>3</th>\n",
       "      <td>5.333221</td>\n",
       "      <td>-7.468065</td>\n",
       "      <td>6.766055</td>\n",
       "      <td>14.713733</td>\n",
       "      <td>52.021306</td>\n",
       "      <td>-0.075302</td>\n",
       "      <td>1.000011e+06</td>\n",
       "      <td>3.828040e+39</td>\n",
       "      <td>6.000005</td>\n",
       "      <td>-0.088394</td>\n",
       "      <td>...</td>\n",
       "      <td>0.855138</td>\n",
       "      <td>0.992094</td>\n",
       "      <td>14.615557</td>\n",
       "      <td>0.792183</td>\n",
       "      <td>-0.101175</td>\n",
       "      <td>0.867977</td>\n",
       "      <td>-0.061492</td>\n",
       "      <td>1.095677</td>\n",
       "      <td>0.001705</td>\n",
       "      <td>1.070161</td>\n",
       "    </tr>\n",
       "    <tr>\n",
       "      <th>4</th>\n",
       "      <td>5.337203</td>\n",
       "      <td>-7.458746</td>\n",
       "      <td>6.781809</td>\n",
       "      <td>14.720024</td>\n",
       "      <td>52.234815</td>\n",
       "      <td>-0.075375</td>\n",
       "      <td>9.999751e+05</td>\n",
       "      <td>3.827905e+39</td>\n",
       "      <td>5.999989</td>\n",
       "      <td>-0.091187</td>\n",
       "      <td>...</td>\n",
       "      <td>0.855215</td>\n",
       "      <td>0.992102</td>\n",
       "      <td>16.207364</td>\n",
       "      <td>0.792070</td>\n",
       "      <td>-0.101236</td>\n",
       "      <td>0.867817</td>\n",
       "      <td>-0.061572</td>\n",
       "      <td>1.095631</td>\n",
       "      <td>0.001737</td>\n",
       "      <td>1.050636</td>\n",
       "    </tr>\n",
       "  </tbody>\n",
       "</table>\n",
       "<p>5 rows × 66 columns</p>\n",
       "</div>"
      ],
      "text/plain": [
       "       logT    logRho      logP       logE    entropy      logR    luminosity  \\\n",
       "0  5.308989 -7.495897  6.672380  14.649041  48.497911 -0.074932  1.000312e+06   \n",
       "1  5.320435 -7.485309  6.716402  14.681884  50.320364 -0.075125  1.000194e+06   \n",
       "2  5.327243 -7.478841  6.742641  14.701335  51.438465 -0.075211  1.000089e+06   \n",
       "3  5.333221 -7.468065  6.766055  14.713733  52.021306 -0.075302  1.000011e+06   \n",
       "4  5.337203 -7.458746  6.781809  14.720024  52.234815 -0.075375  9.999751e+05   \n",
       "\n",
       "      lum_erg_s      logL  log_L_div_Ledd  ...    fp_rot    ft_rot  log_am_nu  \\\n",
       "0  3.829193e+39  6.000135       -0.076877  ...  0.854745  0.992056  14.881614   \n",
       "1  3.828742e+39  6.000084       -0.076928  ...  0.854950  0.992076  14.787655   \n",
       "2  3.828340e+39  6.000039       -0.083263  ...  0.855041  0.992085  14.622916   \n",
       "3  3.828040e+39  6.000005       -0.088394  ...  0.855138  0.992094  14.615557   \n",
       "4  3.827905e+39  5.999989       -0.091187  ...  0.855215  0.992102  16.207364   \n",
       "\n",
       "    r_polar  log_r_polar  r_equatorial  log_r_equatorial  r_e_div_r_p  \\\n",
       "0  0.792751    -0.100863      0.868784         -0.061088     1.095911   \n",
       "1  0.792453    -0.101026      0.868362         -0.061299     1.095789   \n",
       "2  0.792321    -0.101099      0.868174         -0.061393     1.095735   \n",
       "3  0.792183    -0.101175      0.867977         -0.061492     1.095677   \n",
       "4  0.792070    -0.101236      0.867817         -0.061572     1.095631   \n",
       "\n",
       "   omega_crit  omega_div_omega_crit  \n",
       "0    0.001655              1.102711  \n",
       "1    0.001656              1.102129  \n",
       "2    0.001652              1.104829  \n",
       "3    0.001705              1.070161  \n",
       "4    0.001737              1.050636  \n",
       "\n",
       "[5 rows x 66 columns]"
      ]
     },
     "execution_count": 156,
     "metadata": {},
     "output_type": "execute_result"
    }
   ],
   "source": [
    "df_ = pd.read_csv(file_path +  str(30.0) + '/' + 'LOGS/profile57.data', \\\n",
    "                header = 4, delim_whitespace=True, low_memory=False)\n",
    "df_.head()"
   ]
  },
  {
   "cell_type": "code",
   "execution_count": 157,
   "metadata": {},
   "outputs": [
    {
     "data": {
      "text/plain": [
       "87.20819258492251"
      ]
     },
     "execution_count": 157,
     "metadata": {},
     "output_type": "execute_result"
    }
   ],
   "source": [
    "df_ = pd.read_csv(file_path +  str(30.0) + '/' + 'LOGS/profile57.data', \\\n",
    "                header = 4, delim_whitespace=True, low_memory=False)\n",
    "(1 / (df_.loc[0,'omega']*2*np.pi))"
   ]
  },
  {
   "cell_type": "code",
   "execution_count": 158,
   "metadata": {},
   "outputs": [
    {
     "data": {
      "text/plain": [
       "0.0018249999039586992"
      ]
     },
     "execution_count": 158,
     "metadata": {},
     "output_type": "execute_result"
    }
   ],
   "source": [
    "df_.loc[0,'omega']"
   ]
  },
  {
   "cell_type": "code",
   "execution_count": 159,
   "metadata": {},
   "outputs": [
    {
     "data": {
      "text/plain": [
       "0.0018823798088809824"
      ]
     },
     "execution_count": 159,
     "metadata": {},
     "output_type": "execute_result"
    }
   ],
   "source": [
    "(df_.loc[0,'v_rot']*1e5) / (df_.loc[0,'radius']*Rsun)"
   ]
  },
  {
   "cell_type": "code",
   "execution_count": 160,
   "metadata": {},
   "outputs": [
    {
     "data": {
      "text/plain": [
       "0.001824999903958699"
      ]
     },
     "execution_count": 160,
     "metadata": {},
     "output_type": "execute_result"
    }
   ],
   "source": [
    "(df_.loc[0,'j_rot']) / (df_.loc[0,'i_rot'])"
   ]
  },
  {
   "cell_type": "code",
   "execution_count": 161,
   "metadata": {},
   "outputs": [
    {
     "name": "stdout",
     "output_type": "stream",
     "text": [
      "0.8687841791692952\n",
      "0.7927506479782406\n",
      "0.8415271925276832\n"
     ]
    }
   ],
   "source": [
    "print(df_.loc[0,'r_equatorial'])\n",
    "print(df_.loc[0,'r_polar'])\n",
    "print(df_.loc[0,'radius'])"
   ]
  },
  {
   "cell_type": "code",
   "execution_count": null,
   "metadata": {},
   "outputs": [],
   "source": []
  },
  {
   "cell_type": "code",
   "execution_count": 53,
   "metadata": {},
   "outputs": [],
   "source": [
    "Rsun = 696340 * 1e5"
   ]
  },
  {
   "cell_type": "code",
   "execution_count": 159,
   "metadata": {},
   "outputs": [],
   "source": [
    "def calc_Jcore(filename):\n",
    "    import scipy.integrate as integrate\n",
    "    Rsun = 696340 * 1e5\n",
    "    \n",
    "    df = pd.read_csv(filename, header = 4, delim_whitespace=True, low_memory=False)\n",
    "    rho = df.loc[:,'rho']\n",
    "    omega = df.loc[:, 'omega']\n",
    "    r = df.loc[:, 'radius']\n",
    "    \n",
    "#     # finding Rcore\n",
    "#     Rcore = 0\n",
    "#     for i in range(len(df)):\n",
    "        \n",
    "#         if df.loc[i,'mass'] >= 3.0:\n",
    "#             Rcore = df.loc[i,'radius']\n",
    "#             Rcore = Rcore*Rsun\n",
    "#             break\n",
    "            \n",
    "#     radial_integral = integrate.quad(lambda r: rho * omega * r**4 , 0 , Rcore)\n",
    "#     radial_integral = 0\n",
    "#     for i in range(len(df)):\n",
    "#         if df.loc[i,'mass'] <= 3.0:\n",
    "#             dr = df.loc[i, 'dr']\n",
    "#             radial_integral += rho[i]*omega[i]*(r[i]**4)*dr\n",
    "        \n",
    "    for i in range(len(df)):\n",
    "        if df.loc[i,'mass'] <= 3.0:\n",
    "            Jcore = 10**(df.loc[i,'log_J_inside'])\n",
    "            break\n",
    "            \n",
    "#     Jcore = (8/3)*np.pi*(radial_integral)\n",
    "    print(Jcore, 10**df.loc[0,'log_J_inside'])\n",
    "    return Jcore"
   ]
  },
  {
   "cell_type": "code",
   "execution_count": 25,
   "metadata": {},
   "outputs": [
    {
     "name": "stdout",
     "output_type": "stream",
     "text": [
      "7.530629327898608e+49 2.51129547685995e+52\n"
     ]
    }
   ],
   "source": [
    "# first assume that the inner 3Msun forms the core.\n",
    "Mcore = 3\n",
    "G = 6.67*1e-11 * 1e3  # to conver to cm3\n",
    "Msun = 1.98*1e30 * 1e3 # in gms\n",
    "c = 3e8 *1e2\n",
    "\n",
    "profile_name = file_path +  str(60.0) + '/' + 'LOGS/profile54.data'\n",
    "\n",
    "J_core = calc_Jcore(profile_name)\n",
    "\n",
    "spin_core = J_core * c / (G*(Mcore*Msun)**2)"
   ]
  },
  {
   "cell_type": "code",
   "execution_count": 26,
   "metadata": {},
   "outputs": [
    {
     "data": {
      "text/plain": [
       "0.9599614701243665"
      ]
     },
     "execution_count": 26,
     "metadata": {},
     "output_type": "execute_result"
    }
   ],
   "source": [
    "spin_core"
   ]
  },
  {
   "cell_type": "code",
   "execution_count": null,
   "metadata": {},
   "outputs": [],
   "source": [
    "G = 6.67*1e-11 * 1e3  # to conver to cm3\n",
    "Rsun = 696340 * 1e5\n",
    "Msun = 1.98*1e30 * 1e3 # in gms\n",
    "c = 3e8 *1e2\n",
    "\n",
    "#Below plotting specific angular momentum at r_ISCO\n",
    "for i in range(len(df_)):\n",
    "    M = df_.loc[i,'mass'] * Msun\n",
    "    J = 10**(df_.loc[i,'log_J_inside'])\n",
    "    a = float(J * c / (G*(M**2)) )\n",
    "    \n",
    "    z_1 = 1 + ((1 - a**2)**(1/3) * ( (1 + a)**(1/3) + (1 - a)**(1/3) ) )\n",
    "    z_2 = np.sqrt(3*a**2 + (z_1)**2)\n",
    "    r_ISCO = 3 + z_2 - np.sqrt((3 - z_1)*( 3 + z_1 + 2*z_2)) #(G*M/c**2)\n",
    "    j_ISCO = (2/3**(3/2))*(1 + 2*np.sqrt(3*r_ISCO -2)) * (G*M/c)\n",
    "    \n",
    "x = np.sqrt( j_ISCO / (omega * r**2) )\n",
    "Theta_disk = math.asin( x )"
   ]
  },
  {
   "cell_type": "code",
   "execution_count": null,
   "metadata": {},
   "outputs": [],
   "source": []
  },
  {
   "cell_type": "code",
   "execution_count": null,
   "metadata": {},
   "outputs": [],
   "source": []
  },
  {
   "cell_type": "code",
   "execution_count": 20,
   "metadata": {},
   "outputs": [],
   "source": [
    "file_path = '/nesi/nobackup/uoa03218/Helium_Stars/Makemodels_He_MS/zem4/'"
   ]
  },
  {
   "cell_type": "code",
   "execution_count": 45,
   "metadata": {},
   "outputs": [],
   "source": [
    "def calc_ISCO_parameters(M, J):\n",
    "    \n",
    "    G = 6.667*1e-11 * 1e3  # to conver to cm3\n",
    "    Rsun = 696340 * 1e5 #cm\n",
    "    Msun = 1.98*1e30 * 1e3 # in gms\n",
    "    c = 3e8 *1e2\n",
    "\n",
    "    a = (J * c / (G*(M**2)) )\n",
    "    if a >= 1:\n",
    "        a = 1\n",
    "        print('a = ', a, M/Msun)\n",
    "    \n",
    "    z_1 = 1 + ( ((1 - (a**2))**(1/3) ) * ( (1 + a)**(1/3) + (1 - a)**(1/3) ) )\n",
    "    z_2 = np.sqrt(3*a**2 + (z_1)**2)\n",
    "    r_isco = 3 + z_2 - np.sqrt((3 - z_1)*( 3 + z_1 + (2*z_2) )) #(G*M/c**2)\n",
    "    j_isco = (2/(3**(3/2)))*(1 + 2* np.sqrt( (3*r_isco) -2)) * (G*M/c)\n",
    "    \n",
    "#     print(r_isco, j_isco)\n",
    "    return r_isco, j_isco"
   ]
  },
  {
   "cell_type": "code",
   "execution_count": 46,
   "metadata": {},
   "outputs": [],
   "source": [
    "path = file_path +  str(30.0) + '/' + 'LOGS/profile57.data'"
   ]
  },
  {
   "cell_type": "code",
   "execution_count": 92,
   "metadata": {},
   "outputs": [
    {
     "name": "stdout",
     "output_type": "stream",
     "text": [
      "a =  1 2.5846137196729466\n",
      "1.0 1.3132257935946298e+16 i = 60 2.5846137196729466\n",
      "2.5846137196729466\n"
     ]
    }
   ],
   "source": [
    "# calculating j_ISCO and r_ISCO for a 3Msun BH (initial mass of BH)\n",
    "M = 0\n",
    "J = 0\n",
    "df = pd.read_csv(path, header = 4, delim_whitespace=True, low_memory=False)\n",
    "\n",
    "for i in range(len(df)):\n",
    "    Msun = 1.98*1e30 * 1e3 # in gms\n",
    "\n",
    "    if df.loc[len(df) - 1 - i, 'mass'] >= 2.5:\n",
    "        M = df.loc[len(df) - 1 - i,'mass'] * Msun\n",
    "        J = 10**(df.loc[len(df) - 1 - i,'log_J_inside'])\n",
    "\n",
    "        r_ISCO, j_ISCO = calc_ISCO_parameters(M, J)\n",
    "        print(r_ISCO, j_ISCO, 'i =', i, df.loc[len(df) - 1 - i, 'mass'])\n",
    "        break\n",
    "        \n",
    "print(M/Msun)"
   ]
  },
  {
   "cell_type": "code",
   "execution_count": 91,
   "metadata": {},
   "outputs": [
    {
     "name": "stdout",
     "output_type": "stream",
     "text": [
      "3.678485774176806e+22 1.6301002021029005e+22\n"
     ]
    }
   ],
   "source": [
    "temp = 1\n",
    "\n",
    "r    = df.loc[temp, 'dr']  # already in cm\n",
    "dm    = df.loc[temp, 'dm']  # in gms\n",
    "rho   = df.loc[temp,'rho']\n",
    "omega = df.loc[temp, 'omega']\n",
    "r     = df.loc[temp, 'radius'] * Rsun\n",
    "\n",
    "temp1 = 2 * 2*np.pi * rho * r**2 * dr\n",
    "dm    = df.loc[temp, 'dm']  # in gms\n",
    "\n",
    "print(temp1, dm)"
   ]
  },
  {
   "cell_type": "code",
   "execution_count": 49,
   "metadata": {
    "scrolled": false
   },
   "outputs": [
    {
     "name": "stdout",
     "output_type": "stream",
     "text": [
      "a =  1 2.647687601972835\n",
      "a =  1 2.710674545979354\n",
      "a =  1 2.7704968179955807\n",
      "a =  1 2.8302502636801963\n",
      "a =  1 2.9059940900512715\n",
      "a =  1 2.951632211323222\n",
      "a =  1 2.99723769240991\n",
      "a =  1 3.050744356118547\n",
      "a =  1 3.10420846927887\n",
      "a =  1 3.1969981327372774\n",
      "a =  1 3.2511964360701455\n",
      "a =  1 3.305356930722992\n",
      "a =  1 3.351986849164551\n",
      "a =  1 3.398591240015918\n",
      "a =  1 3.477199501584842\n"
     ]
    },
    {
     "data": {
      "text/plain": [
       "(0, 1.0037874363560448)"
      ]
     },
     "execution_count": 49,
     "metadata": {},
     "output_type": "execute_result"
    },
    {
     "data": {
      "image/png": "[encoded data removed]",
      "text/plain": [
       "<Figure size 750x450 with 1 Axes>"
      ]
     },
     "metadata": {
      "needs_background": "light"
     },
     "output_type": "display_data"
    }
   ],
   "source": [
    "import scipy.integrate as integrate\n",
    "J_BH = []\n",
    "G = 6.667*1e-11 * 1e3  # to conver to cm3\n",
    "Rsun = 696340 * 1e5 # cm\n",
    "Msun = 1.98*1e30 * 1e3 # in gms\n",
    "c = 3e8 *1e2\n",
    "    \n",
    "for i in range(len(df)):\n",
    "    if df.loc[len(df) - 1 - i,'mass'] > 2.5:\n",
    "        temp = len(df) - 1 - i\n",
    "        dr    = df.loc[temp, 'dr']  # already in cm\n",
    "        dm    = df.loc[temp, 'dm']  # in gms\n",
    "        rho   = df.loc[temp,'rho']\n",
    "        omega = df.loc[temp, 'omega']\n",
    "        r     = df.loc[temp, 'radius'] * Rsun\n",
    "\n",
    "        x = np.sqrt( j_ISCO / (omega * (r**2) ) )\n",
    "        if x >= 1:\n",
    "            print('x = ', x)\n",
    "            x = 1\n",
    "#         print(j_ISCO, x)\n",
    "        theta_disk = math.asin( x )\n",
    "        theta_disk = theta_disk.real\n",
    "#         print(theta_disk)\n",
    "\n",
    "#         y1 = integrate.quad(lambda theta: (math.sin(theta))**3 , 0, theta_disk)\n",
    "        y1 = 2/3 - math.cos(theta_disk) + ((math.cos(theta_disk))**3 )/ 3\n",
    "#         print(y1)\n",
    "\n",
    "        J_shell_1 = 2 * 2*np.pi * rho * omega * r**4 * dr * y1 #y1[0]\n",
    "#         J_shell_1 = dm * y1[0]\n",
    "        \n",
    "#         y2 = integrate.quad(lambda theta: math.sin(theta) , theta_disk , np.pi/2)\n",
    "        y2 = math.cos(theta_disk)\n",
    "    \n",
    "        J_shell_2 = 2 * 2*np.pi * j_ISCO * rho * r**2 * dr * y2 #y2[0]\n",
    "#         J_shell_2 = dm * j_ISCO * y2[0]\n",
    "        \n",
    "        e = np.sqrt(1 - (2/ (3*r_ISCO) ))\n",
    "#         print(e)\n",
    "        M_disk = 2 * 2*np.pi * rho * r**2 * dr * y2 #y2[0]\n",
    "        \n",
    "#         y3 = integrate.quad(lambda theta: math.sin(theta), 0, theta_disk)\n",
    "        y3 = 1 - math.cos(theta_disk) \n",
    "#         M_added =  M_disk*(1- e) + ( 2 * 2*np.pi * rho * r**2 * dr * y3[0])\n",
    "        \n",
    "        M_added =  M_disk*(e) + ( 2 * 2*np.pi * rho * r**2 * dr * y3) #y3[0])\n",
    "        J_added = J_shell_1 + J_shell_2\n",
    "        \n",
    "        # recalculating the new value of r_ISCO and j_ISCO and M_BH and J_BH\n",
    "        M += M_added\n",
    "        J += J_added\n",
    "        \n",
    "        a_temp = J * c / (G*(M**2) )\n",
    "        if a_temp > 1:\n",
    "            a_temp = 1\n",
    "        J_BH.append(a_temp)\n",
    "        r_ISCO, j_ISCO = calc_ISCO_parameters(M, J) \n",
    "    else:\n",
    "        J_BH.append(1)\n",
    "        \n",
    "plt.plot(df.loc[::-1,'mass'], J_BH)\n",
    "plt.ylim(0,)"
   ]
  },
  {
   "cell_type": "code",
   "execution_count": 149,
   "metadata": {},
   "outputs": [
    {
     "data": {
      "text/plain": [
       "30.40968263755654"
      ]
     },
     "execution_count": 149,
     "metadata": {},
     "output_type": "execute_result"
    }
   ],
   "source": [
    "M/Msun"
   ]
  },
  {
   "cell_type": "code",
   "execution_count": 93,
   "metadata": {},
   "outputs": [
    {
     "data": {
      "text/plain": [
       "Text(0.5, 0, 'a')"
      ]
     },
     "execution_count": 93,
     "metadata": {},
     "output_type": "execute_result"
    },
    {
     "data": {
      "image/png": "[encoded data removed]",
      "text/plain": [
       "<Figure size 750x450 with 1 Axes>"
      ]
     },
     "metadata": {
      "needs_background": "light"
     },
     "output_type": "display_data"
    }
   ],
   "source": [
    "A = np.arange(0,1,0.1)\n",
    "r_ISCO = []\n",
    "for i in range(len(A)):\n",
    "    a = A[i]\n",
    "    z_1 = 1 + ( ((1 - (a**2))**(1/3) ) * ( (1 + a)**(1/3) + (1 - a)**(1/3) ) )\n",
    "    z_2 = np.sqrt(3*a**2 + (z_1)**2)\n",
    "    r_isco = 3 + z_2 - np.sqrt((3 - z_1)*( 3 + z_1 + (2*z_2) )) #(G*M/c**2)\n",
    "    r_ISCO.append(r_isco)\n",
    "plt.plot(A, r_ISCO)\n",
    "plt.ylabel('r_ISCO')\n",
    "plt.xlabel('a')"
   ]
  },
  {
   "cell_type": "code",
   "execution_count": 19,
   "metadata": {},
   "outputs": [
    {
     "data": {
      "text/plain": [
       "[<matplotlib.lines.Line2D at 0x2aaaf2d2d390>]"
      ]
     },
     "execution_count": 19,
     "metadata": {},
     "output_type": "execute_result"
    },
    {
     "data": {
      "image/png": "[encoded data removed]",
      "text/plain": [
       "<Figure size 750x450 with 1 Axes>"
      ]
     },
     "metadata": {
      "needs_background": "light"
     },
     "output_type": "display_data"
    }
   ],
   "source": [
    "dJ_dM = []\n",
    "G = 6.667*1e-11 * 1e3  # to conver to cm3\n",
    "Rsun = 696340 * 1e5 # cm\n",
    "Msun = 1.98*1e30 * 1e3 # in gms\n",
    "c = 3e8 *1e2\n",
    "for r in range(len(r_ISCO)):\n",
    "    r_ISC = r_ISCO[r]\n",
    "    e = np.sqrt(1 - (2/ (3*r_ISC) ))\n",
    "    j_isco = (2/(3**(3/2)))*(1 + 2* np.sqrt( (3*r_ISC) -2))\n",
    "    dJ_dM.append(j_isco/e)\n",
    "    \n",
    "plt.plot(r_ISCO, dJ_dM)"
   ]
  },
  {
   "cell_type": "code",
   "execution_count": 95,
   "metadata": {
    "collapsed": true
   },
   "outputs": [
    {
     "name": "stdout",
     "output_type": "stream",
     "text": [
      "a =  1 2.5846137196729466\n",
      "1.0 1.3132257935946298e+16 i = 60 2.5846137196729466\n",
      "2.5846137196729466\n",
      "a =  1 2.6372596278350056\n",
      "a =  1 2.682604479527534\n",
      "a =  1 2.7279435704093498\n",
      "a =  1 2.8044743102584753\n",
      "a =  1 2.8809820800294643\n",
      "a =  1 2.9424376224834212\n",
      "a =  1 3.0038815907718828\n",
      "a =  1 3.0618036649523184\n",
      "a =  1 3.119716391750441\n",
      "a =  1 3.177899388755648\n",
      "a =  1 3.2360733051133352\n",
      "a =  1 3.2866069703089873\n",
      "a =  1 3.337134567730006\n",
      "a =  1 3.4036732918058346\n",
      "a =  1 3.470199823608621\n",
      "a =  1 3.5054015366201283\n",
      "a =  1 3.5406008859455325\n",
      "a =  1 3.61138047661978\n"
     ]
    },
    {
     "data": {
      "text/plain": [
       "(0, 1.1759376318687056)"
      ]
     },
     "execution_count": 95,
     "metadata": {},
     "output_type": "execute_result"
    },
    {
     "data": {
      "image/png": "[encoded data removed]",
      "text/plain": [
       "<Figure size 750x450 with 1 Axes>"
      ]
     },
     "metadata": {
      "needs_background": "light"
     },
     "output_type": "display_data"
    }
   ],
   "source": [
    "# calculating j_ISCO and r_ISCO for a 3Msun BH (initial mass of BH)\n",
    "M = 0\n",
    "J = 0\n",
    "df = pd.read_csv(path, header = 4, delim_whitespace=True, low_memory=False)\n",
    "\n",
    "for i in range(len(df)):\n",
    "    Msun = 1.98*1e30 * 1e3 # in gms\n",
    "\n",
    "    if df.loc[len(df) - 1 - i, 'mass'] >= 2.5:\n",
    "        M = df.loc[len(df) - 1 - i,'mass'] * Msun\n",
    "        J = 10**(df.loc[len(df) - 1 - i,'log_J_inside'])\n",
    "\n",
    "        r_ISCO, j_ISCO = calc_ISCO_parameters(M, J)\n",
    "        print(r_ISCO, j_ISCO, 'i =', i, df.loc[len(df) - 1 - i, 'mass'])\n",
    "        break\n",
    "        \n",
    "print(M/Msun)\n",
    "\n",
    "import scipy.integrate as integrate\n",
    "J_BH = []\n",
    "G = 6.667*1e-11 * 1e3  # to conver to cm3\n",
    "Rsun = 696340 * 1e5 # cm\n",
    "Msun = 1.98*1e30 * 1e3 # in gms\n",
    "c = 3e8 *1e2\n",
    "    \n",
    "for i in range(len(df)):\n",
    "    if df.loc[len(df) - 1 - i,'mass'] > 3.5:\n",
    "        temp = len(df) - 1 - i\n",
    "        dr    = df.loc[temp, 'dr']  # already in cm\n",
    "        dm    = df.loc[temp, 'dm']  # in gms\n",
    "        rho   = df.loc[temp,'rho']\n",
    "        omega = df.loc[temp, 'omega']\n",
    "        r     = df.loc[temp, 'radius'] * Rsun\n",
    "\n",
    "        x = np.sqrt( j_ISCO / (omega * (r**2) ) )\n",
    "        if x >= 1:\n",
    "            print(x)\n",
    "            x = 1\n",
    "#         print(j_ISCO, x)\n",
    "        theta_disk = math.asin( x )\n",
    "        theta_disk = theta_disk.real\n",
    "#         print(theta_disk)\n",
    "\n",
    "        y1 = integrate.quad(lambda theta: (math.sin(theta))**3 , 0, theta_disk)\n",
    "#         print(y1)\n",
    "#         J_shell_1 = 2 * 2*np.pi * rho * omega * r**4 * dr * y1[0]\n",
    "        J_shell_1 = dm * omega* r**2 * y1[0]\n",
    "        \n",
    "        y2 = integrate.quad(lambda theta: math.sin(theta) , theta_disk , np.pi/2)\n",
    "#         J_shell_2 = 2 * 2*np.pi * j_ISCO * rho * r**2 * dr * y2[0]\n",
    "        J_shell_2 = dm * j_ISCO * y2[0]\n",
    "        \n",
    "        e = np.sqrt(1 - (2/ (3*r_ISCO) ))\n",
    "#         print(e)\n",
    "#         e = 0\n",
    "#         M_disk = 2 * 2*np.pi * rho * r**2 * dr * y2[0]\n",
    "#         M_disk = dm * math.cos(theta_disk)\n",
    "        \n",
    "#         y3 = integrate.quad(lambda theta: math.sin(theta), 0, theta_disk)\n",
    "#         M_added =  dm #M_disk*(1 - e) + (dm * y3[0])\n",
    "#         J_added = J_shell_1 + J_shell_2\n",
    "        \n",
    "#         # recalculating the new value of r_ISCO and j_ISCO and M_BH and J_BH\n",
    "#         M += M_added\n",
    "#         J += J_added\n",
    "#         J_BH.append(J * c / (G*(M**2) ) )\n",
    "#         r_ISCO, j_ISCO = calc_ISCO_parameters(M, J) \n",
    "#     else:\n",
    "#         J_BH.append(0)\n",
    "        \n",
    "# plt.plot(df.loc[:,'mass'], J_BH)\n",
    "\n",
    "\n",
    "\n",
    "#         e = np.sqrt(1 - (2/ (3*r_ISCO) ))\n",
    "# #         print(e)\n",
    "        M_disk = 2 * 2*np.pi * rho * r**2 * dr * y2[0] #y2[0]\n",
    "        \n",
    "#         y3 = integrate.quad(lambda theta: math.sin(theta), 0, theta_disk)\n",
    "        y3 = 1 - math.cos(theta_disk) \n",
    "#         M_added =  M_disk*(1- e) + ( 2 * 2*np.pi * rho * r**2 * dr * y3[0])\n",
    "        \n",
    "        M_added =  M_disk*(e) + ( 2 * 2*np.pi * rho * r**2 * dr * y3) #y3[0])\n",
    "        J_added = J_shell_1 + J_shell_2\n",
    "        \n",
    "        # recalculating the new value of r_ISCO and j_ISCO and M_BH and J_BH\n",
    "        M += M_added\n",
    "        J += J_added\n",
    "        \n",
    "        a_temp = J * c / (G*(M**2) )\n",
    "#         if a_temp > 1:\n",
    "#             a_temp = 1\n",
    "        J_BH.append(a_temp)\n",
    "        r_ISCO, j_ISCO = calc_ISCO_parameters(M, J) \n",
    "    else:\n",
    "        J_BH.append(1)\n",
    "        \n",
    "plt.plot(df.loc[::-1,'mass'], J_BH)\n",
    "plt.ylim(0,)\n",
    "# plt.ylim(.5,1)"
   ]
  },
  {
   "cell_type": "code",
   "execution_count": null,
   "metadata": {},
   "outputs": [],
   "source": [
    "m_disk = (1 - math.cos(Theta_disk)) * m_shell\n",
    "e = np.sqrt(1 - (2/(3*r_ISCO)) )\n",
    "\n",
    "Del_J_BH = j_ISCO * m_disk\n",
    "Del_M_BH = e*m_disk"
   ]
  },
  {
   "cell_type": "code",
   "execution_count": null,
   "metadata": {},
   "outputs": [],
   "source": [
    "# instead of integrating sum in shells \n",
    "# then for a given shell, r is constant,as a result Theta_disk is constant\n",
    "# and hence only consider "
   ]
  },
  {
   "cell_type": "code",
   "execution_count": null,
   "metadata": {},
   "outputs": [],
   "source": [
    "import scipy.integrate as integrate\n",
    "\n",
    "\n",
    "m_disk = 2*()"
   ]
  },
  {
   "cell_type": "code",
   "execution_count": null,
   "metadata": {},
   "outputs": [],
   "source": [
    "def calc_Jshell(filename):\n",
    "    import scipy.integrate as integrate\n",
    "    Rsun = 7e8 *1e5 # cm\n",
    "    \n",
    "    df = pd.read_csv(filename, header = 4, delim_whitespace=True, low_memory=False)\n",
    "    rho = 10**df.loc[:,'log_j_rot']\n",
    "    omega = df.loc[:, 'omega']\n",
    "    r = df.loc[:, 'radius']\n",
    "    \n",
    "    # finding Rcore\n",
    "    Rcore = 0\n",
    "    for i in range(len(df)):\n",
    "        \n",
    "        if df.loc[i,'mass'] >= 3.0:\n",
    "            Rcore = df.loc[i,'radius']\n",
    "            Rcore = Rcore*Rsun\n",
    "            break\n",
    "            \n",
    "    radial_integral = integrate.quad(lambda r: rho * omega * r**4 , 0 , Rcore)\n",
    "    radial_integral = 0\n",
    "    for i in range(len(df)):\n",
    "        if df.loc[i,'mass'] <= 3.0:\n",
    "            dr = df.loc[i, 'dr']\n",
    "            radial_integral += rho[i]*omega[i]*(r[i]**4)*dr"
   ]
  }
 ],
 "metadata": {
  "interpreter": {
   "hash": "f284a5a48d2ff8a31530f15751cc324b028c797b34d8fc4fe9ffb609afda2a78"
  },
  "kernelspec": {
   "display_name": "Python 3 (ipykernel)",
   "language": "python",
   "name": "python3"
  },
  "language_info": {
   "codemirror_mode": {
    "name": "ipython",
    "version": 3
   },
   "file_extension": ".py",
   "mimetype": "text/x-python",
   "name": "python",
   "nbconvert_exporter": "python",
   "pygments_lexer": "ipython3",
   "version": "3.7.3"
  }
 },
 "nbformat": 4,
 "nbformat_minor": 2
}
