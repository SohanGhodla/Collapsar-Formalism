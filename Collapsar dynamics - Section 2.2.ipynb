{
 "cells": [
  {
   "cell_type": "markdown",
   "metadata": {},
   "source": [
    "# Collapsar dynamics "
   ]
  },
  {
   "cell_type": "markdown",
   "metadata": {},
   "source": [
    "This notebook contains the calculations performed in the paper arXiv:2312.10400 "
   ]
  },
  {
   "cell_type": "code",
   "execution_count": 1,
   "metadata": {},
   "outputs": [
    {
     "data": {
      "text/plain": [
       "'SageMath version 9.8, Release Date: 2023-02-11'"
      ]
     },
     "execution_count": 1,
     "metadata": {},
     "output_type": "execute_result"
    }
   ],
   "source": [
    "version()"
   ]
  },
  {
   "cell_type": "markdown",
   "metadata": {},
   "source": [
    "First we set up the notebook to display mathematical objects using LaTeX formatting:"
   ]
  },
  {
   "cell_type": "code",
   "execution_count": 2,
   "metadata": {},
   "outputs": [
    {
     "data": {
      "text/html": [
       "<style>.container { width:50% !important; }</style>"
      ],
      "text/plain": [
       "<IPython.core.display.HTML object>"
      ]
     },
     "metadata": {},
     "output_type": "display_data"
    }
   ],
   "source": [
    "%display latex\n",
    "\n",
    "# ----- To make the notebook wider ------\n",
    "from IPython.display import display, HTML\n",
    "display(HTML(\"<style>.container { width:50% !important; }</style>\"))"
   ]
  },
  {
   "cell_type": "markdown",
   "metadata": {},
   "source": [
    "To speed up computations,run them in parallel on 8 threads:"
   ]
  },
  {
   "cell_type": "code",
   "execution_count": 3,
   "metadata": {},
   "outputs": [],
   "source": [
    "# Parallelism().set(nproc=8)"
   ]
  },
  {
   "cell_type": "markdown",
   "metadata": {},
   "source": [
    "## Spacetime\n",
    "\n",
    "We declare the spacetime manifold $M$ with dim = 4 and Lorentzian signature:"
   ]
  },
  {
   "cell_type": "code",
   "execution_count": 4,
   "metadata": {},
   "outputs": [
    {
     "name": "stdout",
     "output_type": "stream",
     "text": [
      "4-dimensional Lorentzian manifold M\n"
     ]
    }
   ],
   "source": [
    "M = Manifold(4, 'M', structure='Lorentzian')\n",
    "print(M)"
   ]
  },
  {
   "cell_type": "markdown",
   "metadata": {},
   "source": [
    "Declare the Boyer-Lindquist coordinates $(t,r,\\theta,\\phi)$ as a chart on $M$:"
   ]
  },
  {
   "cell_type": "code",
   "execution_count": 5,
   "metadata": {},
   "outputs": [
    {
     "data": {
      "text/html": [
       "<html>\\(\\displaystyle \\left(M,(t, r, {\\theta}, {\\phi})\\right)\\)</html>"
      ],
      "text/latex": [
       "$\\displaystyle \\left(M,(t, r, {\\theta}, {\\phi})\\right)$"
      ],
      "text/plain": [
       "Chart (M, (t, r, th, ph))"
      ]
     },
     "execution_count": 5,
     "metadata": {},
     "output_type": "execute_result"
    }
   ],
   "source": [
    "BL.<t,r,th,ph> = M.chart(r't r th:(0,pi):\\theta ph:(0,2*pi):\\phi')\n",
    "BL"
   ]
  },
  {
   "cell_type": "markdown",
   "metadata": {},
   "source": [
    "The chart with its induced basis"
   ]
  },
  {
   "cell_type": "code",
   "execution_count": 6,
   "metadata": {
    "scrolled": true
   },
   "outputs": [
    {
     "data": {
      "text/html": [
       "<html>\\(\\displaystyle \\left(M, \\left(\\frac{\\partial}{\\partial t },\\frac{\\partial}{\\partial r },\\frac{\\partial}{\\partial {\\theta} },\\frac{\\partial}{\\partial {\\phi} }\\right)\\right)\\)</html>"
      ],
      "text/latex": [
       "$\\displaystyle \\left(M, \\left(\\frac{\\partial}{\\partial t },\\frac{\\partial}{\\partial r },\\frac{\\partial}{\\partial {\\theta} },\\frac{\\partial}{\\partial {\\phi} }\\right)\\right)$"
      ],
      "text/plain": [
       "Coordinate frame (M, (∂/∂t,∂/∂r,∂/∂th,∂/∂ph))"
      ]
     },
     "execution_count": 6,
     "metadata": {},
     "output_type": "execute_result"
    }
   ],
   "source": [
    "BL.frame()"
   ]
  },
  {
   "cell_type": "markdown",
   "metadata": {},
   "source": [
    "As an example this is how to print the timelike Killing field defined in the paper"
   ]
  },
  {
   "cell_type": "code",
   "execution_count": 7,
   "metadata": {},
   "outputs": [
    {
     "data": {
      "text/html": [
       "<html>\\(\\displaystyle \\frac{\\partial}{\\partial t }\\)</html>"
      ],
      "text/latex": [
       "$\\displaystyle \\frac{\\partial}{\\partial t }$"
      ],
      "text/plain": [
       "Vector field ∂/∂t on the 4-dimensional Lorentzian manifold M"
      ]
     },
     "execution_count": 7,
     "metadata": {},
     "output_type": "execute_result"
    }
   ],
   "source": [
    "xi = BL.frame()[0]; xi   "
   ]
  },
  {
   "cell_type": "markdown",
   "metadata": {},
   "source": [
    "Print the chart range"
   ]
  },
  {
   "cell_type": "code",
   "execution_count": 8,
   "metadata": {},
   "outputs": [
    {
     "data": {
      "text/html": [
       "<html>\\(\\displaystyle t :\\ \\left( -\\infty, +\\infty \\right) ;\\quad r :\\ \\left( -\\infty, +\\infty \\right) ;\\quad {\\theta} :\\ \\left( 0 , \\pi \\right) ;\\quad {\\phi} :\\ \\left( 0 , 2 \\, \\pi \\right)\\)</html>"
      ],
      "text/latex": [
       "$\\displaystyle t :\\ \\left( -\\infty, +\\infty \\right) ;\\quad r :\\ \\left( -\\infty, +\\infty \\right) ;\\quad {\\theta} :\\ \\left( 0 , \\pi \\right) ;\\quad {\\phi} :\\ \\left( 0 , 2 \\, \\pi \\right)$"
      ],
      "text/plain": [
       "t: (-oo, +oo); r: (-oo, +oo); th: (0, pi); ph: (0, 2*pi)"
      ]
     },
     "execution_count": 8,
     "metadata": {},
     "output_type": "execute_result"
    }
   ],
   "source": [
    "BL.coord_range()"
   ]
  },
  {
   "cell_type": "markdown",
   "metadata": {},
   "source": [
    "## Define the Kerr metric"
   ]
  },
  {
   "cell_type": "markdown",
   "metadata": {},
   "source": [
    "We define the metric $g$ using its components w.r.t. the Boyer-Lindquist coordinates:"
   ]
  },
  {
   "cell_type": "code",
   "execution_count": 9,
   "metadata": {},
   "outputs": [],
   "source": [
    "g = M.lorentzian_metric(name = 'g', signature='positive')\n",
    "m, a = var('m a')\n",
    "\n",
    "# ------ Set a to zero for Schwarzschild metric ------\n",
    "# a = 0\n",
    "rho2 = r^2 + (a*cos(th))^2\n",
    "Delta = r^2 - 2*m*r + a^2\n",
    "\n",
    "g[0,0] = -(1 - 2*m*r/rho2)\n",
    "g[0,3] = -2*a*m*r*sin(th)^2/rho2\n",
    "g[1,1] = rho2/Delta\n",
    "g[2,2] = rho2\n",
    "g[3,3] = (r^2 + a^2 + 2*m*r*(a*sin(th))^2/rho2)*sin(th)^2\n",
    "\n",
    "# # # -------- E.g. for Minkowski metric ------------\n",
    "# g[0,3] = 0\n",
    "# g[0,0] = -1\n",
    "# g[1,1] = +1\n",
    "# g[2,2] = +1\n",
    "# g[3,3] = +1"
   ]
  },
  {
   "cell_type": "code",
   "execution_count": 10,
   "metadata": {},
   "outputs": [
    {
     "data": {
      "text/html": [
       "<html>\\(\\displaystyle 2\\)</html>"
      ],
      "text/latex": [
       "$\\displaystyle 2$"
      ],
      "text/plain": [
       "2"
      ]
     },
     "execution_count": 10,
     "metadata": {},
     "output_type": "execute_result"
    }
   ],
   "source": [
    "g.signature()"
   ]
  },
  {
   "cell_type": "code",
   "execution_count": 11,
   "metadata": {},
   "outputs": [
    {
     "data": {
      "text/html": [
       "<html>\\(\\displaystyle g = \\left( \\frac{2 \\, m r}{a^{2} \\cos\\left({\\theta}\\right)^{2} + r^{2}} - 1 \\right) \\mathrm{d} t\\otimes \\mathrm{d} t + \\left( -\\frac{2 \\, a m r \\sin\\left({\\theta}\\right)^{2}}{a^{2} \\cos\\left({\\theta}\\right)^{2} + r^{2}} \\right) \\mathrm{d} t\\otimes \\mathrm{d} {\\phi} + \\left( \\frac{a^{2} \\cos\\left({\\theta}\\right)^{2} + r^{2}}{a^{2} - 2 \\, m r + r^{2}} \\right) \\mathrm{d} r\\otimes \\mathrm{d} r + \\left( a^{2} \\cos\\left({\\theta}\\right)^{2} + r^{2} \\right) \\mathrm{d} {\\theta}\\otimes \\mathrm{d} {\\theta} + \\left( -\\frac{2 \\, a m r \\sin\\left({\\theta}\\right)^{2}}{a^{2} \\cos\\left({\\theta}\\right)^{2} + r^{2}} \\right) \\mathrm{d} {\\phi}\\otimes \\mathrm{d} t + {\\left(\\frac{2 \\, a^{2} m r \\sin\\left({\\theta}\\right)^{2}}{a^{2} \\cos\\left({\\theta}\\right)^{2} + r^{2}} + a^{2} + r^{2}\\right)} \\sin\\left({\\theta}\\right)^{2} \\mathrm{d} {\\phi}\\otimes \\mathrm{d} {\\phi}\\)</html>"
      ],
      "text/latex": [
       "$\\displaystyle g = \\left( \\frac{2 \\, m r}{a^{2} \\cos\\left({\\theta}\\right)^{2} + r^{2}} - 1 \\right) \\mathrm{d} t\\otimes \\mathrm{d} t + \\left( -\\frac{2 \\, a m r \\sin\\left({\\theta}\\right)^{2}}{a^{2} \\cos\\left({\\theta}\\right)^{2} + r^{2}} \\right) \\mathrm{d} t\\otimes \\mathrm{d} {\\phi} + \\left( \\frac{a^{2} \\cos\\left({\\theta}\\right)^{2} + r^{2}}{a^{2} - 2 \\, m r + r^{2}} \\right) \\mathrm{d} r\\otimes \\mathrm{d} r + \\left( a^{2} \\cos\\left({\\theta}\\right)^{2} + r^{2} \\right) \\mathrm{d} {\\theta}\\otimes \\mathrm{d} {\\theta} + \\left( -\\frac{2 \\, a m r \\sin\\left({\\theta}\\right)^{2}}{a^{2} \\cos\\left({\\theta}\\right)^{2} + r^{2}} \\right) \\mathrm{d} {\\phi}\\otimes \\mathrm{d} t + {\\left(\\frac{2 \\, a^{2} m r \\sin\\left({\\theta}\\right)^{2}}{a^{2} \\cos\\left({\\theta}\\right)^{2} + r^{2}} + a^{2} + r^{2}\\right)} \\sin\\left({\\theta}\\right)^{2} \\mathrm{d} {\\phi}\\otimes \\mathrm{d} {\\phi}$"
      ],
      "text/plain": [
       "g = (2*m*r/(a^2*cos(th)^2 + r^2) - 1) dt⊗dt - 2*a*m*r*sin(th)^2/(a^2*cos(th)^2 + r^2) dt⊗dph + (a^2*cos(th)^2 + r^2)/(a^2 - 2*m*r + r^2) dr⊗dr + (a^2*cos(th)^2 + r^2) dth⊗dth - 2*a*m*r*sin(th)^2/(a^2*cos(th)^2 + r^2) dph⊗dt + (2*a^2*m*r*sin(th)^2/(a^2*cos(th)^2 + r^2) + a^2 + r^2)*sin(th)^2 dph⊗dph"
      ]
     },
     "execution_count": 11,
     "metadata": {},
     "output_type": "execute_result"
    }
   ],
   "source": [
    "g.display()"
   ]
  },
  {
   "cell_type": "markdown",
   "metadata": {},
   "source": [
    " In matrix form"
   ]
  },
  {
   "cell_type": "code",
   "execution_count": 12,
   "metadata": {},
   "outputs": [
    {
     "data": {
      "text/html": [
       "<html>\\(\\displaystyle \\left(\\begin{array}{rrrr}\n",
       "\\frac{2 \\, m r}{a^{2} \\cos\\left({\\theta}\\right)^{2} + r^{2}} - 1 & 0 & 0 & -\\frac{2 \\, a m r \\sin\\left({\\theta}\\right)^{2}}{a^{2} \\cos\\left({\\theta}\\right)^{2} + r^{2}} \\\\\n",
       "0 & \\frac{a^{2} \\cos\\left({\\theta}\\right)^{2} + r^{2}}{a^{2} - 2 \\, m r + r^{2}} & 0 & 0 \\\\\n",
       "0 & 0 & a^{2} \\cos\\left({\\theta}\\right)^{2} + r^{2} & 0 \\\\\n",
       "-\\frac{2 \\, a m r \\sin\\left({\\theta}\\right)^{2}}{a^{2} \\cos\\left({\\theta}\\right)^{2} + r^{2}} & 0 & 0 & {\\left(\\frac{2 \\, a^{2} m r \\sin\\left({\\theta}\\right)^{2}}{a^{2} \\cos\\left({\\theta}\\right)^{2} + r^{2}} + a^{2} + r^{2}\\right)} \\sin\\left({\\theta}\\right)^{2}\n",
       "\\end{array}\\right)\\)</html>"
      ],
      "text/latex": [
       "$\\displaystyle \\left(\\begin{array}{rrrr}\n",
       "\\frac{2 \\, m r}{a^{2} \\cos\\left({\\theta}\\right)^{2} + r^{2}} - 1 & 0 & 0 & -\\frac{2 \\, a m r \\sin\\left({\\theta}\\right)^{2}}{a^{2} \\cos\\left({\\theta}\\right)^{2} + r^{2}} \\\\\n",
       "0 & \\frac{a^{2} \\cos\\left({\\theta}\\right)^{2} + r^{2}}{a^{2} - 2 \\, m r + r^{2}} & 0 & 0 \\\\\n",
       "0 & 0 & a^{2} \\cos\\left({\\theta}\\right)^{2} + r^{2} & 0 \\\\\n",
       "-\\frac{2 \\, a m r \\sin\\left({\\theta}\\right)^{2}}{a^{2} \\cos\\left({\\theta}\\right)^{2} + r^{2}} & 0 & 0 & {\\left(\\frac{2 \\, a^{2} m r \\sin\\left({\\theta}\\right)^{2}}{a^{2} \\cos\\left({\\theta}\\right)^{2} + r^{2}} + a^{2} + r^{2}\\right)} \\sin\\left({\\theta}\\right)^{2}\n",
       "\\end{array}\\right)$"
      ],
      "text/plain": [
       "[                                  2*m*r/(a^2*cos(th)^2 + r^2) - 1                                                                 0                                                                 0                          -2*a*m*r*sin(th)^2/(a^2*cos(th)^2 + r^2)]\n",
       "[                                                                0                         (a^2*cos(th)^2 + r^2)/(a^2 - 2*m*r + r^2)                                                                 0                                                                 0]\n",
       "[                                                                0                                                                 0                                               a^2*cos(th)^2 + r^2                                                                 0]\n",
       "[                         -2*a*m*r*sin(th)^2/(a^2*cos(th)^2 + r^2)                                                                 0                                                                 0 (2*a^2*m*r*sin(th)^2/(a^2*cos(th)^2 + r^2) + a^2 + r^2)*sin(th)^2]"
      ]
     },
     "execution_count": 12,
     "metadata": {},
     "output_type": "execute_result"
    }
   ],
   "source": [
    "g[:]"
   ]
  },
  {
   "cell_type": "markdown",
   "metadata": {},
   "source": [
    "The inverse metric"
   ]
  },
  {
   "cell_type": "code",
   "execution_count": 13,
   "metadata": {},
   "outputs": [
    {
     "data": {
      "text/html": [
       "<html>\\(\\displaystyle \\left(\\begin{array}{rrrr}\n",
       "-\\frac{2 \\, a^{2} m r \\sin\\left({\\theta}\\right)^{2} + a^{2} r^{2} + r^{4} + {\\left(a^{4} + a^{2} r^{2}\\right)} \\cos\\left({\\theta}\\right)^{2}}{a^{2} r^{2} - 2 \\, m r^{3} + r^{4} + {\\left(a^{4} - 2 \\, a^{2} m r + a^{2} r^{2}\\right)} \\cos\\left({\\theta}\\right)^{2}} & 0 & 0 & -\\frac{2 \\, a m r}{a^{2} r^{2} - 2 \\, m r^{3} + r^{4} + {\\left(a^{4} - 2 \\, a^{2} m r + a^{2} r^{2}\\right)} \\cos\\left({\\theta}\\right)^{2}} \\\\\n",
       "0 & \\frac{a^{2} - 2 \\, m r + r^{2}}{a^{2} \\cos\\left({\\theta}\\right)^{2} + r^{2}} & 0 & 0 \\\\\n",
       "0 & 0 & \\frac{1}{a^{2} \\cos\\left({\\theta}\\right)^{2} + r^{2}} & 0 \\\\\n",
       "-\\frac{2 \\, a m r}{a^{2} r^{2} - 2 \\, m r^{3} + r^{4} + {\\left(a^{4} - 2 \\, a^{2} m r + a^{2} r^{2}\\right)} \\cos\\left({\\theta}\\right)^{2}} & 0 & 0 & \\frac{a^{2} \\cos\\left({\\theta}\\right)^{2} - 2 \\, m r + r^{2}}{2 \\, a^{2} m r \\sin\\left({\\theta}\\right)^{4} - {\\left(2 \\, a^{2} m r - a^{2} r^{2} + 2 \\, m r^{3} - r^{4} - {\\left(a^{4} + a^{2} r^{2}\\right)} \\cos\\left({\\theta}\\right)^{2}\\right)} \\sin\\left({\\theta}\\right)^{2}}\n",
       "\\end{array}\\right)\\)</html>"
      ],
      "text/latex": [
       "$\\displaystyle \\left(\\begin{array}{rrrr}\n",
       "-\\frac{2 \\, a^{2} m r \\sin\\left({\\theta}\\right)^{2} + a^{2} r^{2} + r^{4} + {\\left(a^{4} + a^{2} r^{2}\\right)} \\cos\\left({\\theta}\\right)^{2}}{a^{2} r^{2} - 2 \\, m r^{3} + r^{4} + {\\left(a^{4} - 2 \\, a^{2} m r + a^{2} r^{2}\\right)} \\cos\\left({\\theta}\\right)^{2}} & 0 & 0 & -\\frac{2 \\, a m r}{a^{2} r^{2} - 2 \\, m r^{3} + r^{4} + {\\left(a^{4} - 2 \\, a^{2} m r + a^{2} r^{2}\\right)} \\cos\\left({\\theta}\\right)^{2}} \\\\\n",
       "0 & \\frac{a^{2} - 2 \\, m r + r^{2}}{a^{2} \\cos\\left({\\theta}\\right)^{2} + r^{2}} & 0 & 0 \\\\\n",
       "0 & 0 & \\frac{1}{a^{2} \\cos\\left({\\theta}\\right)^{2} + r^{2}} & 0 \\\\\n",
       "-\\frac{2 \\, a m r}{a^{2} r^{2} - 2 \\, m r^{3} + r^{4} + {\\left(a^{4} - 2 \\, a^{2} m r + a^{2} r^{2}\\right)} \\cos\\left({\\theta}\\right)^{2}} & 0 & 0 & \\frac{a^{2} \\cos\\left({\\theta}\\right)^{2} - 2 \\, m r + r^{2}}{2 \\, a^{2} m r \\sin\\left({\\theta}\\right)^{4} - {\\left(2 \\, a^{2} m r - a^{2} r^{2} + 2 \\, m r^{3} - r^{4} - {\\left(a^{4} + a^{2} r^{2}\\right)} \\cos\\left({\\theta}\\right)^{2}\\right)} \\sin\\left({\\theta}\\right)^{2}}\n",
       "\\end{array}\\right)$"
      ],
      "text/plain": [
       "[-(2*a^2*m*r*sin(th)^2 + a^2*r^2 + r^4 + (a^4 + a^2*r^2)*cos(th)^2)/(a^2*r^2 - 2*m*r^3 + r^4 + (a^4 - 2*a^2*m*r + a^2*r^2)*cos(th)^2)                                                                                                                                    0                                                                                                                                    0                                                           -2*a*m*r/(a^2*r^2 - 2*m*r^3 + r^4 + (a^4 - 2*a^2*m*r + a^2*r^2)*cos(th)^2)]\n",
       "[                                                                                                                                   0                                                                                            (a^2 - 2*m*r + r^2)/(a^2*cos(th)^2 + r^2)                                                                                                                                    0                                                                                                                                    0]\n",
       "[                                                                                                                                   0                                                                                                                                    0                                                                                                              1/(a^2*cos(th)^2 + r^2)                                                                                                                                    0]\n",
       "[                                                          -2*a*m*r/(a^2*r^2 - 2*m*r^3 + r^4 + (a^4 - 2*a^2*m*r + a^2*r^2)*cos(th)^2)                                                                                                                                    0                                                                                                                                    0    (a^2*cos(th)^2 - 2*m*r + r^2)/(2*a^2*m*r*sin(th)^4 - (2*a^2*m*r - a^2*r^2 + 2*m*r^3 - r^4 - (a^4 + a^2*r^2)*cos(th)^2)*sin(th)^2)]"
      ]
     },
     "execution_count": 13,
     "metadata": {},
     "output_type": "execute_result"
    }
   ],
   "source": [
    "g.inverse()[:]"
   ]
  },
  {
   "cell_type": "markdown",
   "metadata": {},
   "source": [
    "### Some practice exercises that can be skipped"
   ]
  },
  {
   "cell_type": "markdown",
   "metadata": {},
   "source": [
    "Calculating inner product $g_{ab} \\xi^a \\xi^b$"
   ]
  },
  {
   "cell_type": "code",
   "execution_count": 14,
   "metadata": {
    "scrolled": true
   },
   "outputs": [
    {
     "data": {
      "text/html": [
       "<html>\\(\\displaystyle \\begin{array}{llcl} g\\left( \\frac{\\partial}{\\partial t } , \\frac{\\partial}{\\partial t } \\right) : & M & \\longrightarrow & \\mathbb{R} \\\\ & \\left(t, r, {\\theta}, {\\phi}\\right) & \\longmapsto & \\frac{2 \\, m r}{a^{2} \\cos\\left({\\theta}\\right)^{2} + r^{2}} - 1 \\end{array}\\)</html>"
      ],
      "text/latex": [
       "$\\displaystyle \\begin{array}{llcl} g\\left( \\frac{\\partial}{\\partial t } , \\frac{\\partial}{\\partial t } \\right) : & M & \\longrightarrow & \\mathbb{R} \\\\ & \\left(t, r, {\\theta}, {\\phi}\\right) & \\longmapsto & \\frac{2 \\, m r}{a^{2} \\cos\\left({\\theta}\\right)^{2} + r^{2}} - 1 \\end{array}$"
      ],
      "text/plain": [
       "g(∂/∂t,∂/∂t): M → ℝ\n",
       "   (t, r, th, ph) ↦ 2*m*r/(a^2*cos(th)^2 + r^2) - 1"
      ]
     },
     "execution_count": 14,
     "metadata": {},
     "output_type": "execute_result"
    }
   ],
   "source": [
    "g(xi, xi).display() "
   ]
  },
  {
   "cell_type": "markdown",
   "metadata": {},
   "source": [
    "Another way to calculate inner product $\\xi^a \\xi_a$"
   ]
  },
  {
   "cell_type": "code",
   "execution_count": 15,
   "metadata": {},
   "outputs": [
    {
     "data": {
      "text/html": [
       "<html>\\(\\displaystyle \\begin{array}{llcl} g\\left( \\frac{\\partial}{\\partial t } , \\frac{\\partial}{\\partial t } \\right) : & M & \\longrightarrow & \\mathbb{R} \\\\ & \\left(t, r, {\\theta}, {\\phi}\\right) & \\longmapsto & \\frac{2 \\, m r}{a^{2} \\cos\\left({\\theta}\\right)^{2} + r^{2}} - 1 \\end{array}\\)</html>"
      ],
      "text/latex": [
       "$\\displaystyle \\begin{array}{llcl} g\\left( \\frac{\\partial}{\\partial t } , \\frac{\\partial}{\\partial t } \\right) : & M & \\longrightarrow & \\mathbb{R} \\\\ & \\left(t, r, {\\theta}, {\\phi}\\right) & \\longmapsto & \\frac{2 \\, m r}{a^{2} \\cos\\left({\\theta}\\right)^{2} + r^{2}} - 1 \\end{array}$"
      ],
      "text/plain": [
       "g(∂/∂t,∂/∂t): M → ℝ\n",
       "   (t, r, th, ph) ↦ 2*m*r/(a^2*cos(th)^2 + r^2) - 1"
      ]
     },
     "execution_count": 15,
     "metadata": {},
     "output_type": "execute_result"
    }
   ],
   "source": [
    "xi.contract(xi.down(g)).display()  # Know how to lower/raise index would be helpful later"
   ]
  },
  {
   "cell_type": "markdown",
   "metadata": {},
   "source": [
    "Normalising $\\xi$ so that the inner product is equal to -1"
   ]
  },
  {
   "cell_type": "code",
   "execution_count": 16,
   "metadata": {},
   "outputs": [
    {
     "data": {
      "text/html": [
       "<html>\\(\\displaystyle \\left( \\frac{\\sqrt{a^{2} \\cos\\left({\\theta}\\right)^{2} + r^{2}}}{\\sqrt{a^{2} \\cos\\left({\\theta}\\right)^{2} - 2 \\, m r + r^{2}}} \\right) \\frac{\\partial}{\\partial t }\\)</html>"
      ],
      "text/latex": [
       "$\\displaystyle \\left( \\frac{\\sqrt{a^{2} \\cos\\left({\\theta}\\right)^{2} + r^{2}}}{\\sqrt{a^{2} \\cos\\left({\\theta}\\right)^{2} - 2 \\, m r + r^{2}}} \\right) \\frac{\\partial}{\\partial t }$"
      ],
      "text/plain": [
       "sqrt(a^2*cos(th)^2 + r^2)/sqrt(a^2*cos(th)^2 - 2*m*r + r^2) ∂/∂t"
      ]
     },
     "execution_count": 16,
     "metadata": {},
     "output_type": "execute_result"
    }
   ],
   "source": [
    "xi_unit = xi/sqrt(-g(xi,xi)); xi_unit.display()"
   ]
  },
  {
   "cell_type": "markdown",
   "metadata": {},
   "source": [
    "Calculating its inner product w.r.t. metric $g$ (yet another way!)"
   ]
  },
  {
   "cell_type": "code",
   "execution_count": 17,
   "metadata": {},
   "outputs": [
    {
     "data": {
      "text/html": [
       "<html>\\(\\displaystyle \\begin{array}{llcl} & M & \\longrightarrow & \\mathbb{R} \\\\ & \\left(t, r, {\\theta}, {\\phi}\\right) & \\longmapsto & -1 \\end{array}\\)</html>"
      ],
      "text/latex": [
       "$\\displaystyle \\begin{array}{llcl} & M & \\longrightarrow & \\mathbb{R} \\\\ & \\left(t, r, {\\theta}, {\\phi}\\right) & \\longmapsto & -1 \\end{array}$"
      ],
      "text/plain": [
       "M → ℝ\n",
       "(t, r, th, ph) ↦ -1"
      ]
     },
     "execution_count": 17,
     "metadata": {},
     "output_type": "execute_result"
    }
   ],
   "source": [
    "xi_unit.dot(xi_unit, metric=g).display() "
   ]
  },
  {
   "cell_type": "markdown",
   "metadata": {},
   "source": [
    "or the same old way"
   ]
  },
  {
   "cell_type": "code",
   "execution_count": 18,
   "metadata": {
    "scrolled": true
   },
   "outputs": [
    {
     "data": {
      "text/html": [
       "<html>\\(\\displaystyle \\begin{array}{llcl} & M & \\longrightarrow & \\mathbb{R} \\\\ & \\left(t, r, {\\theta}, {\\phi}\\right) & \\longmapsto & -1 \\end{array}\\)</html>"
      ],
      "text/latex": [
       "$\\displaystyle \\begin{array}{llcl} & M & \\longrightarrow & \\mathbb{R} \\\\ & \\left(t, r, {\\theta}, {\\phi}\\right) & \\longmapsto & -1 \\end{array}$"
      ],
      "text/plain": [
       "M → ℝ\n",
       "(t, r, th, ph) ↦ -1"
      ]
     },
     "execution_count": 18,
     "metadata": {},
     "output_type": "execute_result"
    }
   ],
   "source": [
    "g(xi_unit, xi_unit).display()"
   ]
  },
  {
   "cell_type": "markdown",
   "metadata": {},
   "source": [
    "### End of practice exercises"
   ]
  },
  {
   "cell_type": "markdown",
   "metadata": {},
   "source": [
    "Decalare some variable quantities"
   ]
  },
  {
   "cell_type": "code",
   "execution_count": 19,
   "metadata": {},
   "outputs": [],
   "source": [
    "gamma, Omega = var('gamma Omega') "
   ]
  },
  {
   "cell_type": "markdown",
   "metadata": {},
   "source": [
    "Decalre a vector field on M. With appropriate boundary conditions ($t, r, \\theta, \\phi$), this will be the 4-velocity of the shell element defined in the paper (see sectoin 2.2.3)"
   ]
  },
  {
   "cell_type": "code",
   "execution_count": 20,
   "metadata": {},
   "outputs": [],
   "source": [
    "u = M.vector_field('u')  \n",
    "u[0] = gamma\n",
    "u[1] = 0\n",
    "u[2] = 0\n",
    "u[3] = gamma*Omega   # Set to zero to ease calculation (This is the assumed condition in paper)"
   ]
  },
  {
   "cell_type": "code",
   "execution_count": 21,
   "metadata": {},
   "outputs": [
    {
     "data": {
      "text/html": [
       "<html>\\(\\displaystyle u = \\gamma \\frac{\\partial}{\\partial t } + \\Omega \\gamma \\frac{\\partial}{\\partial {\\phi} }\\)</html>"
      ],
      "text/latex": [
       "$\\displaystyle u = \\gamma \\frac{\\partial}{\\partial t } + \\Omega \\gamma \\frac{\\partial}{\\partial {\\phi} }$"
      ],
      "text/plain": [
       "u = gamma ∂/∂t + Omega*gamma ∂/∂ph"
      ]
     },
     "execution_count": 21,
     "metadata": {},
     "output_type": "execute_result"
    }
   ],
   "source": [
    "u.display()"
   ]
  },
  {
   "cell_type": "markdown",
   "metadata": {},
   "source": [
    "### Define a (2,0) tensor field on M to represent the energy-momentum tensor"
   ]
  },
  {
   "cell_type": "code",
   "execution_count": 22,
   "metadata": {},
   "outputs": [
    {
     "data": {
      "text/html": [
       "<html>\\(\\displaystyle T^{ab}\\)</html>"
      ],
      "text/latex": [
       "$\\displaystyle T^{ab}$"
      ],
      "text/plain": [
       "Tensor field T^{ab} of type (2,0) on the 4-dimensional Lorentzian manifold M"
      ]
     },
     "execution_count": 22,
     "metadata": {},
     "output_type": "execute_result"
    }
   ],
   "source": [
    "T = M.tensor_field(2,0, name='T^{ab}') ; T"
   ]
  },
  {
   "cell_type": "markdown",
   "metadata": {},
   "source": [
    "Fill data in $T^{ab}$, which we assume to be a dust equation of state"
   ]
  },
  {
   "cell_type": "code",
   "execution_count": 23,
   "metadata": {},
   "outputs": [
    {
     "data": {
      "text/html": [
       "<html>\\(\\displaystyle \\rho \\cdot u\\otimes u = \\gamma^{2} \\rho\\left(r\\right) \\frac{\\partial}{\\partial t }\\otimes \\frac{\\partial}{\\partial t } + \\Omega \\gamma^{2} \\rho\\left(r\\right) \\frac{\\partial}{\\partial t }\\otimes \\frac{\\partial}{\\partial {\\phi} } + \\Omega \\gamma^{2} \\rho\\left(r\\right) \\frac{\\partial}{\\partial {\\phi} }\\otimes \\frac{\\partial}{\\partial t } + \\Omega^{2} \\gamma^{2} \\rho\\left(r\\right) \\frac{\\partial}{\\partial {\\phi} }\\otimes \\frac{\\partial}{\\partial {\\phi} }\\)</html>"
      ],
      "text/latex": [
       "$\\displaystyle \\rho \\cdot u\\otimes u = \\gamma^{2} \\rho\\left(r\\right) \\frac{\\partial}{\\partial t }\\otimes \\frac{\\partial}{\\partial t } + \\Omega \\gamma^{2} \\rho\\left(r\\right) \\frac{\\partial}{\\partial t }\\otimes \\frac{\\partial}{\\partial {\\phi} } + \\Omega \\gamma^{2} \\rho\\left(r\\right) \\frac{\\partial}{\\partial {\\phi} }\\otimes \\frac{\\partial}{\\partial t } + \\Omega^{2} \\gamma^{2} \\rho\\left(r\\right) \\frac{\\partial}{\\partial {\\phi} }\\otimes \\frac{\\partial}{\\partial {\\phi} }$"
      ],
      "text/plain": [
       "\\rho*u⊗u = gamma^2*rho(r) ∂/∂t⊗∂/∂t + Omega*gamma^2*rho(r) ∂/∂t⊗∂/∂ph + Omega*gamma^2*rho(r) ∂/∂ph⊗∂/∂t + Omega^2*gamma^2*rho(r) ∂/∂ph⊗∂/∂ph"
      ]
     },
     "execution_count": 23,
     "metadata": {},
     "output_type": "execute_result"
    }
   ],
   "source": [
    "rho = M.scalar_field(function('rho')(r), name=r'\\rho')\n",
    "T = rho * u*u\n",
    "T.display()"
   ]
  },
  {
   "cell_type": "code",
   "execution_count": 24,
   "metadata": {},
   "outputs": [],
   "source": [
    "# T.display_comp()"
   ]
  },
  {
   "cell_type": "markdown",
   "metadata": {},
   "source": [
    "Calculating $u_a$"
   ]
  },
  {
   "cell_type": "code",
   "execution_count": 25,
   "metadata": {},
   "outputs": [
    {
     "data": {
      "text/html": [
       "<html>\\(\\displaystyle \\left( -\\frac{2 \\, \\Omega a \\gamma m r \\sin\\left({\\theta}\\right)^{2} + a^{2} \\gamma \\cos\\left({\\theta}\\right)^{2} - 2 \\, \\gamma m r + \\gamma r^{2}}{a^{2} \\cos\\left({\\theta}\\right)^{2} + r^{2}} \\right) \\mathrm{d} t + \\left( \\frac{2 \\, \\Omega a^{2} \\gamma m r \\sin\\left({\\theta}\\right)^{4} + {\\left(\\Omega a^{2} \\gamma r^{2} + \\Omega \\gamma r^{4} - 2 \\, a \\gamma m r + {\\left(\\Omega a^{4} \\gamma + \\Omega a^{2} \\gamma r^{2}\\right)} \\cos\\left({\\theta}\\right)^{2}\\right)} \\sin\\left({\\theta}\\right)^{2}}{a^{2} \\cos\\left({\\theta}\\right)^{2} + r^{2}} \\right) \\mathrm{d} {\\phi}\\)</html>"
      ],
      "text/latex": [
       "$\\displaystyle \\left( -\\frac{2 \\, \\Omega a \\gamma m r \\sin\\left({\\theta}\\right)^{2} + a^{2} \\gamma \\cos\\left({\\theta}\\right)^{2} - 2 \\, \\gamma m r + \\gamma r^{2}}{a^{2} \\cos\\left({\\theta}\\right)^{2} + r^{2}} \\right) \\mathrm{d} t + \\left( \\frac{2 \\, \\Omega a^{2} \\gamma m r \\sin\\left({\\theta}\\right)^{4} + {\\left(\\Omega a^{2} \\gamma r^{2} + \\Omega \\gamma r^{4} - 2 \\, a \\gamma m r + {\\left(\\Omega a^{4} \\gamma + \\Omega a^{2} \\gamma r^{2}\\right)} \\cos\\left({\\theta}\\right)^{2}\\right)} \\sin\\left({\\theta}\\right)^{2}}{a^{2} \\cos\\left({\\theta}\\right)^{2} + r^{2}} \\right) \\mathrm{d} {\\phi}$"
      ],
      "text/plain": [
       "-(2*Omega*a*gamma*m*r*sin(th)^2 + a^2*gamma*cos(th)^2 - 2*gamma*m*r + gamma*r^2)/(a^2*cos(th)^2 + r^2) dt + (2*Omega*a^2*gamma*m*r*sin(th)^4 + (Omega*a^2*gamma*r^2 + Omega*gamma*r^4 - 2*a*gamma*m*r + (Omega*a^4*gamma + Omega*a^2*gamma*r^2)*cos(th)^2)*sin(th)^2)/(a^2*cos(th)^2 + r^2) dph"
      ]
     },
     "execution_count": 25,
     "metadata": {},
     "output_type": "execute_result"
    }
   ],
   "source": [
    "u.down(g).display()"
   ]
  },
  {
   "cell_type": "markdown",
   "metadata": {},
   "source": [
    "Calculating $T^{ab}u_a$ "
   ]
  },
  {
   "cell_type": "code",
   "execution_count": 26,
   "metadata": {},
   "outputs": [
    {
     "data": {
      "text/html": [
       "<html>\\(\\displaystyle \\left( \\frac{2 \\, \\Omega^{2} a^{2} \\gamma^{3} m r \\rho\\left(r\\right) \\sin\\left({\\theta}\\right)^{4} - a^{2} \\gamma^{3} \\cos\\left({\\theta}\\right)^{2} \\rho\\left(r\\right) + {\\left({\\left(\\Omega^{2} a^{4} \\gamma^{3} + \\Omega^{2} a^{2} \\gamma^{3} r^{2}\\right)} \\cos\\left({\\theta}\\right)^{2} \\rho\\left(r\\right) + {\\left(\\Omega^{2} a^{2} \\gamma^{3} r^{2} + \\Omega^{2} \\gamma^{3} r^{4} - 4 \\, \\Omega a \\gamma^{3} m r\\right)} \\rho\\left(r\\right)\\right)} \\sin\\left({\\theta}\\right)^{2} + {\\left(2 \\, \\gamma^{3} m r - \\gamma^{3} r^{2}\\right)} \\rho\\left(r\\right)}{a^{2} \\cos\\left({\\theta}\\right)^{2} + r^{2}} \\right) \\frac{\\partial}{\\partial t } + \\left( \\frac{2 \\, \\Omega^{3} a^{2} \\gamma^{3} m r \\rho\\left(r\\right) \\sin\\left({\\theta}\\right)^{4} - \\Omega a^{2} \\gamma^{3} \\cos\\left({\\theta}\\right)^{2} \\rho\\left(r\\right) + {\\left({\\left(\\Omega^{3} a^{4} \\gamma^{3} + \\Omega^{3} a^{2} \\gamma^{3} r^{2}\\right)} \\cos\\left({\\theta}\\right)^{2} \\rho\\left(r\\right) + {\\left(\\Omega^{3} a^{2} \\gamma^{3} r^{2} + \\Omega^{3} \\gamma^{3} r^{4} - 4 \\, \\Omega^{2} a \\gamma^{3} m r\\right)} \\rho\\left(r\\right)\\right)} \\sin\\left({\\theta}\\right)^{2} + {\\left(2 \\, \\Omega \\gamma^{3} m r - \\Omega \\gamma^{3} r^{2}\\right)} \\rho\\left(r\\right)}{a^{2} \\cos\\left({\\theta}\\right)^{2} + r^{2}} \\right) \\frac{\\partial}{\\partial {\\phi} }\\)</html>"
      ],
      "text/latex": [
       "$\\displaystyle \\left( \\frac{2 \\, \\Omega^{2} a^{2} \\gamma^{3} m r \\rho\\left(r\\right) \\sin\\left({\\theta}\\right)^{4} - a^{2} \\gamma^{3} \\cos\\left({\\theta}\\right)^{2} \\rho\\left(r\\right) + {\\left({\\left(\\Omega^{2} a^{4} \\gamma^{3} + \\Omega^{2} a^{2} \\gamma^{3} r^{2}\\right)} \\cos\\left({\\theta}\\right)^{2} \\rho\\left(r\\right) + {\\left(\\Omega^{2} a^{2} \\gamma^{3} r^{2} + \\Omega^{2} \\gamma^{3} r^{4} - 4 \\, \\Omega a \\gamma^{3} m r\\right)} \\rho\\left(r\\right)\\right)} \\sin\\left({\\theta}\\right)^{2} + {\\left(2 \\, \\gamma^{3} m r - \\gamma^{3} r^{2}\\right)} \\rho\\left(r\\right)}{a^{2} \\cos\\left({\\theta}\\right)^{2} + r^{2}} \\right) \\frac{\\partial}{\\partial t } + \\left( \\frac{2 \\, \\Omega^{3} a^{2} \\gamma^{3} m r \\rho\\left(r\\right) \\sin\\left({\\theta}\\right)^{4} - \\Omega a^{2} \\gamma^{3} \\cos\\left({\\theta}\\right)^{2} \\rho\\left(r\\right) + {\\left({\\left(\\Omega^{3} a^{4} \\gamma^{3} + \\Omega^{3} a^{2} \\gamma^{3} r^{2}\\right)} \\cos\\left({\\theta}\\right)^{2} \\rho\\left(r\\right) + {\\left(\\Omega^{3} a^{2} \\gamma^{3} r^{2} + \\Omega^{3} \\gamma^{3} r^{4} - 4 \\, \\Omega^{2} a \\gamma^{3} m r\\right)} \\rho\\left(r\\right)\\right)} \\sin\\left({\\theta}\\right)^{2} + {\\left(2 \\, \\Omega \\gamma^{3} m r - \\Omega \\gamma^{3} r^{2}\\right)} \\rho\\left(r\\right)}{a^{2} \\cos\\left({\\theta}\\right)^{2} + r^{2}} \\right) \\frac{\\partial}{\\partial {\\phi} }$"
      ],
      "text/plain": [
       "(2*Omega^2*a^2*gamma^3*m*r*rho(r)*sin(th)^4 - a^2*gamma^3*cos(th)^2*rho(r) + ((Omega^2*a^4*gamma^3 + Omega^2*a^2*gamma^3*r^2)*cos(th)^2*rho(r) + (Omega^2*a^2*gamma^3*r^2 + Omega^2*gamma^3*r^4 - 4*Omega*a*gamma^3*m*r)*rho(r))*sin(th)^2 + (2*gamma^3*m*r - gamma^3*r^2)*rho(r))/(a^2*cos(th)^2 + r^2) ∂/∂t + (2*Omega^3*a^2*gamma^3*m*r*rho(r)*sin(th)^4 - Omega*a^2*gamma^3*cos(th)^2*rho(r) + ((Omega^3*a^4*gamma^3 + Omega^3*a^2*gamma^3*r^2)*cos(th)^2*rho(r) + (Omega^3*a^2*gamma^3*r^2 + Omega^3*gamma^3*r^4 - 4*Omega^2*a*gamma^3*m*r)*rho(r))*sin(th)^2 + (2*Omega*gamma^3*m*r - Omega*gamma^3*r^2)*rho(r))/(a^2*cos(th)^2 + r^2) ∂/∂ph"
      ]
     },
     "execution_count": 26,
     "metadata": {},
     "output_type": "execute_result"
    }
   ],
   "source": [
    "mass_energy_currrent = T.contract(u.down(g))\n",
    "mass_energy_currrent.display()"
   ]
  },
  {
   "cell_type": "markdown",
   "metadata": {},
   "source": [
    "Now as assumed if $\\Omega \\approx 0$, then the $\\frac{\\partial}{\\partial \\phi}$ component of $T^{ab}u_a$ yields zero as shown below. Note that we could have set $\\Omega = 0$ in $u^a$ to begin with and saved some computation"
   ]
  },
  {
   "cell_type": "code",
   "execution_count": 27,
   "metadata": {},
   "outputs": [
    {
     "data": {
      "text/html": [
       "<html>\\(\\displaystyle 0\\)</html>"
      ],
      "text/latex": [
       "$\\displaystyle 0$"
      ],
      "text/plain": [
       "0"
      ]
     },
     "execution_count": 27,
     "metadata": {},
     "output_type": "execute_result"
    }
   ],
   "source": [
    "temp = mass_energy_currrent[3].expr()\n",
    "temp = temp.subs(Omega = 0); temp"
   ]
  },
  {
   "cell_type": "markdown",
   "metadata": {},
   "source": [
    "On the other hand, the $\\frac{\\partial}{\\partial t}$ component yields"
   ]
  },
  {
   "cell_type": "code",
   "execution_count": 28,
   "metadata": {},
   "outputs": [
    {
     "data": {
      "text/html": [
       "<html>\\(\\displaystyle -\\frac{{\\left(a^{2} \\cos\\left({\\theta}\\right)^{2} - 2 \\, m r + r^{2}\\right)} \\gamma^{3} \\rho\\left(r\\right)}{a^{2} \\cos\\left({\\theta}\\right)^{2} + r^{2}}\\)</html>"
      ],
      "text/latex": [
       "$\\displaystyle -\\frac{{\\left(a^{2} \\cos\\left({\\theta}\\right)^{2} - 2 \\, m r + r^{2}\\right)} \\gamma^{3} \\rho\\left(r\\right)}{a^{2} \\cos\\left({\\theta}\\right)^{2} + r^{2}}$"
      ],
      "text/plain": [
       "-(a^2*cos(th)^2 - 2*m*r + r^2)*gamma^3*rho(r)/(a^2*cos(th)^2 + r^2)"
      ]
     },
     "execution_count": 28,
     "metadata": {},
     "output_type": "execute_result"
    }
   ],
   "source": [
    "temp = mass_energy_currrent[0].expr()  # The [0] only shows the time coefficient of the field.\n",
    "temp.subs(Omega = 0).factor()"
   ]
  },
  {
   "cell_type": "markdown",
   "metadata": {},
   "source": [
    "The above implies that for $\\Omega \\approx 0$, $T^{a b} u_{a}$ is dominated by $-\\frac{\\left(a^{2} \\cos ^{2} \\theta-2 M r+r^{2}\\right) \\gamma^{2}}{a^{2} \\cos ^{2} \\theta+r^{2}} \\rho u^{t}$ "
   ]
  },
  {
   "cell_type": "markdown",
   "metadata": {},
   "source": [
    "### Calculating unit hypersurface normal 1-form \n",
    "\n",
    "$n_b = \\frac{-dt}{\\sqrt{-g^{-1}(dt, dt)}}$"
   ]
  },
  {
   "cell_type": "markdown",
   "metadata": {},
   "source": [
    " The negative sign at the front is to keep n future directed"
   ]
  },
  {
   "cell_type": "markdown",
   "metadata": {},
   "source": [
    "Next, first calculate $g^{-1}$"
   ]
  },
  {
   "cell_type": "code",
   "execution_count": 29,
   "metadata": {},
   "outputs": [
    {
     "data": {
      "text/html": [
       "<html>\\(\\displaystyle g^{-1} = \\left( -\\frac{2 \\, a^{2} m r \\sin\\left({\\theta}\\right)^{2} + a^{2} r^{2} + r^{4} + {\\left(a^{4} + a^{2} r^{2}\\right)} \\cos\\left({\\theta}\\right)^{2}}{a^{2} r^{2} - 2 \\, m r^{3} + r^{4} + {\\left(a^{4} - 2 \\, a^{2} m r + a^{2} r^{2}\\right)} \\cos\\left({\\theta}\\right)^{2}} \\right) \\frac{\\partial}{\\partial t }\\otimes \\frac{\\partial}{\\partial t } + \\left( -\\frac{2 \\, a m r}{a^{2} r^{2} - 2 \\, m r^{3} + r^{4} + {\\left(a^{4} - 2 \\, a^{2} m r + a^{2} r^{2}\\right)} \\cos\\left({\\theta}\\right)^{2}} \\right) \\frac{\\partial}{\\partial t }\\otimes \\frac{\\partial}{\\partial {\\phi} } + \\left( \\frac{a^{2} - 2 \\, m r + r^{2}}{a^{2} \\cos\\left({\\theta}\\right)^{2} + r^{2}} \\right) \\frac{\\partial}{\\partial r }\\otimes \\frac{\\partial}{\\partial r } + \\left( \\frac{1}{a^{2} \\cos\\left({\\theta}\\right)^{2} + r^{2}} \\right) \\frac{\\partial}{\\partial {\\theta} }\\otimes \\frac{\\partial}{\\partial {\\theta} } + \\left( -\\frac{2 \\, a m r}{a^{2} r^{2} - 2 \\, m r^{3} + r^{4} + {\\left(a^{4} - 2 \\, a^{2} m r + a^{2} r^{2}\\right)} \\cos\\left({\\theta}\\right)^{2}} \\right) \\frac{\\partial}{\\partial {\\phi} }\\otimes \\frac{\\partial}{\\partial t } + \\left( \\frac{a^{2} \\cos\\left({\\theta}\\right)^{2} - 2 \\, m r + r^{2}}{2 \\, a^{2} m r \\sin\\left({\\theta}\\right)^{4} - {\\left(2 \\, a^{2} m r - a^{2} r^{2} + 2 \\, m r^{3} - r^{4} - {\\left(a^{4} + a^{2} r^{2}\\right)} \\cos\\left({\\theta}\\right)^{2}\\right)} \\sin\\left({\\theta}\\right)^{2}} \\right) \\frac{\\partial}{\\partial {\\phi} }\\otimes \\frac{\\partial}{\\partial {\\phi} }\\)</html>"
      ],
      "text/latex": [
       "$\\displaystyle g^{-1} = \\left( -\\frac{2 \\, a^{2} m r \\sin\\left({\\theta}\\right)^{2} + a^{2} r^{2} + r^{4} + {\\left(a^{4} + a^{2} r^{2}\\right)} \\cos\\left({\\theta}\\right)^{2}}{a^{2} r^{2} - 2 \\, m r^{3} + r^{4} + {\\left(a^{4} - 2 \\, a^{2} m r + a^{2} r^{2}\\right)} \\cos\\left({\\theta}\\right)^{2}} \\right) \\frac{\\partial}{\\partial t }\\otimes \\frac{\\partial}{\\partial t } + \\left( -\\frac{2 \\, a m r}{a^{2} r^{2} - 2 \\, m r^{3} + r^{4} + {\\left(a^{4} - 2 \\, a^{2} m r + a^{2} r^{2}\\right)} \\cos\\left({\\theta}\\right)^{2}} \\right) \\frac{\\partial}{\\partial t }\\otimes \\frac{\\partial}{\\partial {\\phi} } + \\left( \\frac{a^{2} - 2 \\, m r + r^{2}}{a^{2} \\cos\\left({\\theta}\\right)^{2} + r^{2}} \\right) \\frac{\\partial}{\\partial r }\\otimes \\frac{\\partial}{\\partial r } + \\left( \\frac{1}{a^{2} \\cos\\left({\\theta}\\right)^{2} + r^{2}} \\right) \\frac{\\partial}{\\partial {\\theta} }\\otimes \\frac{\\partial}{\\partial {\\theta} } + \\left( -\\frac{2 \\, a m r}{a^{2} r^{2} - 2 \\, m r^{3} + r^{4} + {\\left(a^{4} - 2 \\, a^{2} m r + a^{2} r^{2}\\right)} \\cos\\left({\\theta}\\right)^{2}} \\right) \\frac{\\partial}{\\partial {\\phi} }\\otimes \\frac{\\partial}{\\partial t } + \\left( \\frac{a^{2} \\cos\\left({\\theta}\\right)^{2} - 2 \\, m r + r^{2}}{2 \\, a^{2} m r \\sin\\left({\\theta}\\right)^{4} - {\\left(2 \\, a^{2} m r - a^{2} r^{2} + 2 \\, m r^{3} - r^{4} - {\\left(a^{4} + a^{2} r^{2}\\right)} \\cos\\left({\\theta}\\right)^{2}\\right)} \\sin\\left({\\theta}\\right)^{2}} \\right) \\frac{\\partial}{\\partial {\\phi} }\\otimes \\frac{\\partial}{\\partial {\\phi} }$"
      ],
      "text/plain": [
       "inv_g = -(2*a^2*m*r*sin(th)^2 + a^2*r^2 + r^4 + (a^4 + a^2*r^2)*cos(th)^2)/(a^2*r^2 - 2*m*r^3 + r^4 + (a^4 - 2*a^2*m*r + a^2*r^2)*cos(th)^2) ∂/∂t⊗∂/∂t - 2*a*m*r/(a^2*r^2 - 2*m*r^3 + r^4 + (a^4 - 2*a^2*m*r + a^2*r^2)*cos(th)^2) ∂/∂t⊗∂/∂ph + (a^2 - 2*m*r + r^2)/(a^2*cos(th)^2 + r^2) ∂/∂r⊗∂/∂r + 1/(a^2*cos(th)^2 + r^2) ∂/∂th⊗∂/∂th - 2*a*m*r/(a^2*r^2 - 2*m*r^3 + r^4 + (a^4 - 2*a^2*m*r + a^2*r^2)*cos(th)^2) ∂/∂ph⊗∂/∂t + (a^2*cos(th)^2 - 2*m*r + r^2)/(2*a^2*m*r*sin(th)^4 - (2*a^2*m*r - a^2*r^2 + 2*m*r^3 - r^4 - (a^4 + a^2*r^2)*cos(th)^2)*sin(th)^2) ∂/∂ph⊗∂/∂ph"
      ]
     },
     "execution_count": 29,
     "metadata": {},
     "output_type": "execute_result"
    }
   ],
   "source": [
    "g_inv = g.inverse(); g_inv.display()"
   ]
  },
  {
   "cell_type": "markdown",
   "metadata": {},
   "source": [
    "The dual basis associated with $\\xi = \\frac{\\partial}{\\partial t}$ is "
   ]
  },
  {
   "cell_type": "code",
   "execution_count": 30,
   "metadata": {},
   "outputs": [
    {
     "data": {
      "text/html": [
       "<html>\\(\\displaystyle \\mathrm{d} t\\)</html>"
      ],
      "text/latex": [
       "$\\displaystyle \\mathrm{d} t$"
      ],
      "text/plain": [
       "1-form dt on the 4-dimensional Lorentzian manifold M"
      ]
     },
     "execution_count": 30,
     "metadata": {},
     "output_type": "execute_result"
    }
   ],
   "source": [
    "n = BL.coframe()[0] ; n"
   ]
  },
  {
   "cell_type": "markdown",
   "metadata": {},
   "source": [
    "Normalise it"
   ]
  },
  {
   "cell_type": "code",
   "execution_count": 31,
   "metadata": {},
   "outputs": [
    {
     "data": {
      "text/html": [
       "<html>\\(\\displaystyle \\left( -\\frac{\\sqrt{a^{2} \\cos\\left({\\theta}\\right)^{2} + r^{2}} \\sqrt{{\\left| a^{2} - 2 \\, m r + r^{2} \\right|}}}{\\sqrt{2 \\, a^{2} m r \\sin\\left({\\theta}\\right)^{2} + a^{2} r^{2} + r^{4} + {\\left(a^{4} + a^{2} r^{2}\\right)} \\cos\\left({\\theta}\\right)^{2}}} \\right) \\mathrm{d} t\\)</html>"
      ],
      "text/latex": [
       "$\\displaystyle \\left( -\\frac{\\sqrt{a^{2} \\cos\\left({\\theta}\\right)^{2} + r^{2}} \\sqrt{{\\left| a^{2} - 2 \\, m r + r^{2} \\right|}}}{\\sqrt{2 \\, a^{2} m r \\sin\\left({\\theta}\\right)^{2} + a^{2} r^{2} + r^{4} + {\\left(a^{4} + a^{2} r^{2}\\right)} \\cos\\left({\\theta}\\right)^{2}}} \\right) \\mathrm{d} t$"
      ],
      "text/plain": [
       "-sqrt(a^2*cos(th)^2 + r^2)*sqrt(abs(a^2 - 2*m*r + r^2))/sqrt(2*a^2*m*r*sin(th)^2 + a^2*r^2 + r^4 + (a^4 + a^2*r^2)*cos(th)^2) dt"
      ]
     },
     "execution_count": 31,
     "metadata": {},
     "output_type": "execute_result"
    }
   ],
   "source": [
    "n_unit =  - n / sqrt(-g_inv(n, n))\n",
    "n_unit.display()"
   ]
  },
  {
   "cell_type": "markdown",
   "metadata": {},
   "source": [
    "Check that it is normalised"
   ]
  },
  {
   "cell_type": "code",
   "execution_count": 32,
   "metadata": {},
   "outputs": [
    {
     "data": {
      "text/html": [
       "<html>\\(\\displaystyle \\begin{array}{llcl} & M & \\longrightarrow & \\mathbb{R} \\\\ & \\left(t, r, {\\theta}, {\\phi}\\right) & \\longmapsto & -\\frac{{\\left| a^{2} - 2 \\, m r + r^{2} \\right|}}{a^{2} - 2 \\, m r + r^{2}} \\end{array}\\)</html>"
      ],
      "text/latex": [
       "$\\displaystyle \\begin{array}{llcl} & M & \\longrightarrow & \\mathbb{R} \\\\ & \\left(t, r, {\\theta}, {\\phi}\\right) & \\longmapsto & -\\frac{{\\left| a^{2} - 2 \\, m r + r^{2} \\right|}}{a^{2} - 2 \\, m r + r^{2}} \\end{array}$"
      ],
      "text/plain": [
       "M → ℝ\n",
       "(t, r, th, ph) ↦ -abs(a^2 - 2*m*r + r^2)/(a^2 - 2*m*r + r^2)"
      ]
     },
     "execution_count": 32,
     "metadata": {},
     "output_type": "execute_result"
    }
   ],
   "source": [
    "g_inv(n_unit, n_unit).display()"
   ]
  },
  {
   "cell_type": "markdown",
   "metadata": {},
   "source": [
    "Declare the *Riemannian* Submanifold associated with the spacelike hypersurface $\\Sigma_t$"
   ]
  },
  {
   "cell_type": "code",
   "execution_count": 33,
   "metadata": {},
   "outputs": [
    {
     "name": "stdout",
     "output_type": "stream",
     "text": [
      "3-dimensional Riemannian manifold N\n"
     ]
    }
   ],
   "source": [
    "N = Manifold(3, 'N', structure='Riemannian'); print(N)"
   ]
  },
  {
   "cell_type": "markdown",
   "metadata": {},
   "source": [
    "The induced BL chart is "
   ]
  },
  {
   "cell_type": "code",
   "execution_count": 34,
   "metadata": {},
   "outputs": [
    {
     "data": {
      "text/html": [
       "<html>\\(\\displaystyle \\left(N,(r_{N}, {\\theta_N}, {\\phi_N})\\right)\\)</html>"
      ],
      "text/latex": [
       "$\\displaystyle \\left(N,(r_{N}, {\\theta_N}, {\\phi_N})\\right)$"
      ],
      "text/plain": [
       "Chart (N, (r_N, th_N, ph_N))"
      ]
     },
     "execution_count": 34,
     "metadata": {},
     "output_type": "execute_result"
    }
   ],
   "source": [
    "BL_N.<r_n,th_n,ph_N> = N.chart(r'r_N th_N:(0,pi):\\theta_N ph_N:(0,2*pi):\\phi_N')\n",
    "BL_N"
   ]
  },
  {
   "cell_type": "code",
   "execution_count": 35,
   "metadata": {},
   "outputs": [
    {
     "data": {
      "text/html": [
       "<html>\\(\\displaystyle r_{N} :\\ \\left( -\\infty, +\\infty \\right) ;\\quad {\\theta_N} :\\ \\left( 0 , \\pi \\right) ;\\quad {\\phi_N} :\\ \\left( 0 , 2 \\, \\pi \\right)\\)</html>"
      ],
      "text/latex": [
       "$\\displaystyle r_{N} :\\ \\left( -\\infty, +\\infty \\right) ;\\quad {\\theta_N} :\\ \\left( 0 , \\pi \\right) ;\\quad {\\phi_N} :\\ \\left( 0 , 2 \\, \\pi \\right)$"
      ],
      "text/plain": [
       "r_N: (-oo, +oo); th_N: (0, pi); ph_N: (0, 2*pi)"
      ]
     },
     "execution_count": 35,
     "metadata": {},
     "output_type": "execute_result"
    }
   ],
   "source": [
    "BL_N.coord_range()"
   ]
  },
  {
   "cell_type": "markdown",
   "metadata": {},
   "source": [
    "Declaring the induced metric on $N$"
   ]
  },
  {
   "cell_type": "code",
   "execution_count": 36,
   "metadata": {},
   "outputs": [
    {
     "name": "stdout",
     "output_type": "stream",
     "text": [
      "Riemannian metric h on the 3-dimensional Riemannian manifold N\n"
     ]
    }
   ],
   "source": [
    "h = N.metric(name = 'h'); print(h)"
   ]
  },
  {
   "cell_type": "markdown",
   "metadata": {},
   "source": [
    "Define metric below (calculated by setting $dt = 0$ in $g_{ab}$"
   ]
  },
  {
   "cell_type": "code",
   "execution_count": 37,
   "metadata": {},
   "outputs": [],
   "source": [
    "rho2 = r^2 + (a*cos(th))^2\n",
    "Delta = r^2 - 2*m*r + a^2\n",
    "\n",
    "h[0,0] = rho2/Delta\n",
    "h[1,1] = rho2\n",
    "h[2,2] = (r^2 + a^2 + 2*m*r*(a*sin(th))^2/rho2)*sin(th)^2\n",
    "\n",
    "# # ---- For induced metric from Minkowski --------\n",
    "# h[0,0] = 1\n",
    "# h[1,1] = 1\n",
    "# h[2,2] = 1"
   ]
  },
  {
   "cell_type": "code",
   "execution_count": 38,
   "metadata": {},
   "outputs": [
    {
     "data": {
      "text/html": [
       "<html>\\(\\displaystyle h = \\left( \\frac{a^{2} \\cos\\left({\\theta}\\right)^{2} + r^{2}}{a^{2} - 2 \\, m r + r^{2}} \\right) \\mathrm{d} r_{N}\\otimes \\mathrm{d} r_{N} + \\left( a^{2} \\cos\\left({\\theta}\\right)^{2} + r^{2} \\right) \\mathrm{d} {\\theta_N}\\otimes \\mathrm{d} {\\theta_N} + {\\left(\\frac{2 \\, a^{2} m r \\sin\\left({\\theta}\\right)^{2}}{a^{2} \\cos\\left({\\theta}\\right)^{2} + r^{2}} + a^{2} + r^{2}\\right)} \\sin\\left({\\theta}\\right)^{2} \\mathrm{d} {\\phi_N}\\otimes \\mathrm{d} {\\phi_N}\\)</html>"
      ],
      "text/latex": [
       "$\\displaystyle h = \\left( \\frac{a^{2} \\cos\\left({\\theta}\\right)^{2} + r^{2}}{a^{2} - 2 \\, m r + r^{2}} \\right) \\mathrm{d} r_{N}\\otimes \\mathrm{d} r_{N} + \\left( a^{2} \\cos\\left({\\theta}\\right)^{2} + r^{2} \\right) \\mathrm{d} {\\theta_N}\\otimes \\mathrm{d} {\\theta_N} + {\\left(\\frac{2 \\, a^{2} m r \\sin\\left({\\theta}\\right)^{2}}{a^{2} \\cos\\left({\\theta}\\right)^{2} + r^{2}} + a^{2} + r^{2}\\right)} \\sin\\left({\\theta}\\right)^{2} \\mathrm{d} {\\phi_N}\\otimes \\mathrm{d} {\\phi_N}$"
      ],
      "text/plain": [
       "h = (a^2*cos(th)^2 + r^2)/(a^2 - 2*m*r + r^2) dr_N⊗dr_N + (a^2*cos(th)^2 + r^2) dth_N⊗dth_N + (2*a^2*m*r*sin(th)^2/(a^2*cos(th)^2 + r^2) + a^2 + r^2)*sin(th)^2 dph_N⊗dph_N"
      ]
     },
     "execution_count": 38,
     "metadata": {},
     "output_type": "execute_result"
    }
   ],
   "source": [
    "h.display()"
   ]
  },
  {
   "cell_type": "markdown",
   "metadata": {},
   "source": [
    "Calculating $\\sqrt{{\\rm det}(h)}$ which is called $\\sqrt{g_{\\Sigma_t}} = \\sqrt{{\\rm det}(g_{\\mu \\nu})}$ in the paper. Note that the induced metric $g_{\\mu \\nu}$ is called $h$ here."
   ]
  },
  {
   "cell_type": "code",
   "execution_count": 39,
   "metadata": {},
   "outputs": [
    {
     "data": {
      "text/html": [
       "<html>\\(\\displaystyle \\begin{array}{llcl} & N & \\longrightarrow & \\mathbb{R} \\\\ & \\left(r_{N}, {\\theta_N}, {\\phi_N}\\right) & \\longmapsto & \\frac{\\sqrt{2 \\, a^{2} m r \\sin\\left({\\theta}\\right)^{2} + a^{2} r^{2} + r^{4} + {\\left(a^{4} + a^{2} r^{2}\\right)} \\cos\\left({\\theta}\\right)^{2}} \\sqrt{a^{2} \\cos\\left({\\theta}\\right)^{2} + r^{2}} \\sin\\left({\\theta}\\right)}{\\sqrt{{\\left| a^{2} - 2 \\, m r + r^{2} \\right|}}} \\end{array}\\)</html>"
      ],
      "text/latex": [
       "$\\displaystyle \\begin{array}{llcl} & N & \\longrightarrow & \\mathbb{R} \\\\ & \\left(r_{N}, {\\theta_N}, {\\phi_N}\\right) & \\longmapsto & \\frac{\\sqrt{2 \\, a^{2} m r \\sin\\left({\\theta}\\right)^{2} + a^{2} r^{2} + r^{4} + {\\left(a^{4} + a^{2} r^{2}\\right)} \\cos\\left({\\theta}\\right)^{2}} \\sqrt{a^{2} \\cos\\left({\\theta}\\right)^{2} + r^{2}} \\sin\\left({\\theta}\\right)}{\\sqrt{{\\left| a^{2} - 2 \\, m r + r^{2} \\right|}}} \\end{array}$"
      ],
      "text/plain": [
       "N → ℝ\n",
       "(r_N, th_N, ph_N) ↦ sqrt(2*a^2*m*r*sin(th)^2 + a^2*r^2 + r^4 + (a^4 + a^2*r^2)*cos(th)^2)*sqrt(a^2*cos(th)^2 + r^2)*sin(th)/sqrt(abs(a^2 - 2*m*r + r^2))"
      ]
     },
     "execution_count": 39,
     "metadata": {},
     "output_type": "execute_result"
    }
   ],
   "source": [
    "sqrt(det(h)).display()"
   ]
  },
  {
   "cell_type": "markdown",
   "metadata": {},
   "source": [
    "Extract the expression"
   ]
  },
  {
   "cell_type": "code",
   "execution_count": 40,
   "metadata": {},
   "outputs": [
    {
     "data": {
      "text/html": [
       "<html>\\(\\displaystyle \\frac{\\sqrt{2 \\, a^{2} m r \\sin\\left({\\theta}\\right)^{2} + a^{2} r^{2} + r^{4} + {\\left(a^{4} + a^{2} r^{2}\\right)} \\cos\\left({\\theta}\\right)^{2}} \\sqrt{a^{2} \\cos\\left({\\theta}\\right)^{2} + r^{2}} \\sin\\left({\\theta}\\right)}{\\sqrt{{\\left| a^{2} - 2 \\, m r + r^{2} \\right|}}}\\)</html>"
      ],
      "text/latex": [
       "$\\displaystyle \\frac{\\sqrt{2 \\, a^{2} m r \\sin\\left({\\theta}\\right)^{2} + a^{2} r^{2} + r^{4} + {\\left(a^{4} + a^{2} r^{2}\\right)} \\cos\\left({\\theta}\\right)^{2}} \\sqrt{a^{2} \\cos\\left({\\theta}\\right)^{2} + r^{2}} \\sin\\left({\\theta}\\right)}{\\sqrt{{\\left| a^{2} - 2 \\, m r + r^{2} \\right|}}}$"
      ],
      "text/plain": [
       "sqrt(2*a^2*m*r*sin(th)^2 + a^2*r^2 + r^4 + (a^4 + a^2*r^2)*cos(th)^2)*sqrt(a^2*cos(th)^2 + r^2)*sin(th)/sqrt(abs(a^2 - 2*m*r + r^2))"
      ]
     },
     "execution_count": 40,
     "metadata": {},
     "output_type": "execute_result"
    }
   ],
   "source": [
    "sqrt_det_h = sqrt(det(h)).expr(); sqrt_det_h"
   ]
  },
  {
   "cell_type": "markdown",
   "metadata": {},
   "source": [
    " ----------------------------  Calculating $T^{ab} u_a n_b$  ----------------------------"
   ]
  },
  {
   "cell_type": "code",
   "execution_count": 41,
   "metadata": {},
   "outputs": [
    {
     "data": {
      "text/html": [
       "<html>\\(\\displaystyle \\begin{array}{llcl} & M & \\longrightarrow & \\mathbb{R} \\\\ & \\left(t, r, {\\theta}, {\\phi}\\right) & \\longmapsto & -\\frac{{\\left(2 \\, \\Omega^{2} a^{2} \\gamma^{3} m r \\rho\\left(r\\right) \\sin\\left({\\theta}\\right)^{4} - a^{2} \\gamma^{3} \\cos\\left({\\theta}\\right)^{2} \\rho\\left(r\\right) + {\\left({\\left(\\Omega^{2} a^{4} \\gamma^{3} + \\Omega^{2} a^{2} \\gamma^{3} r^{2}\\right)} \\cos\\left({\\theta}\\right)^{2} \\rho\\left(r\\right) + {\\left(\\Omega^{2} a^{2} \\gamma^{3} r^{2} + \\Omega^{2} \\gamma^{3} r^{4} - 4 \\, \\Omega a \\gamma^{3} m r\\right)} \\rho\\left(r\\right)\\right)} \\sin\\left({\\theta}\\right)^{2} + {\\left(2 \\, \\gamma^{3} m r - \\gamma^{3} r^{2}\\right)} \\rho\\left(r\\right)\\right)} \\sqrt{{\\left| a^{2} - 2 \\, m r + r^{2} \\right|}}}{\\sqrt{2 \\, a^{2} m r \\sin\\left({\\theta}\\right)^{2} + a^{2} r^{2} + r^{4} + {\\left(a^{4} + a^{2} r^{2}\\right)} \\cos\\left({\\theta}\\right)^{2}} \\sqrt{a^{2} \\cos\\left({\\theta}\\right)^{2} + r^{2}}} \\end{array}\\)</html>"
      ],
      "text/latex": [
       "$\\displaystyle \\begin{array}{llcl} & M & \\longrightarrow & \\mathbb{R} \\\\ & \\left(t, r, {\\theta}, {\\phi}\\right) & \\longmapsto & -\\frac{{\\left(2 \\, \\Omega^{2} a^{2} \\gamma^{3} m r \\rho\\left(r\\right) \\sin\\left({\\theta}\\right)^{4} - a^{2} \\gamma^{3} \\cos\\left({\\theta}\\right)^{2} \\rho\\left(r\\right) + {\\left({\\left(\\Omega^{2} a^{4} \\gamma^{3} + \\Omega^{2} a^{2} \\gamma^{3} r^{2}\\right)} \\cos\\left({\\theta}\\right)^{2} \\rho\\left(r\\right) + {\\left(\\Omega^{2} a^{2} \\gamma^{3} r^{2} + \\Omega^{2} \\gamma^{3} r^{4} - 4 \\, \\Omega a \\gamma^{3} m r\\right)} \\rho\\left(r\\right)\\right)} \\sin\\left({\\theta}\\right)^{2} + {\\left(2 \\, \\gamma^{3} m r - \\gamma^{3} r^{2}\\right)} \\rho\\left(r\\right)\\right)} \\sqrt{{\\left| a^{2} - 2 \\, m r + r^{2} \\right|}}}{\\sqrt{2 \\, a^{2} m r \\sin\\left({\\theta}\\right)^{2} + a^{2} r^{2} + r^{4} + {\\left(a^{4} + a^{2} r^{2}\\right)} \\cos\\left({\\theta}\\right)^{2}} \\sqrt{a^{2} \\cos\\left({\\theta}\\right)^{2} + r^{2}}} \\end{array}$"
      ],
      "text/plain": [
       "M → ℝ\n",
       "(t, r, th, ph) ↦ -(2*Omega^2*a^2*gamma^3*m*r*rho(r)*sin(th)^4 - a^2*gamma^3*cos(th)^2*rho(r) + ((Omega^2*a^4*gamma^3 + Omega^2*a^2*gamma^3*r^2)*cos(th)^2*rho(r) + (Omega^2*a^2*gamma^3*r^2 + Omega^2*gamma^3*r^4 - 4*Omega*a*gamma^3*m*r)*rho(r))*sin(th)^2 + (2*gamma^3*m*r - gamma^3*r^2)*rho(r))*sqrt(abs(a^2 - 2*m*r + r^2))/(sqrt(2*a^2*m*r*sin(th)^2 + a^2*r^2 + r^4 + (a^4 + a^2*r^2)*cos(th)^2)*sqrt(a^2*cos(th)^2 + r^2))"
      ]
     },
     "execution_count": 41,
     "metadata": {},
     "output_type": "execute_result"
    }
   ],
   "source": [
    "mass_energy_currrent.contract(n_unit).display()"
   ]
  },
  {
   "cell_type": "markdown",
   "metadata": {},
   "source": [
    "Now calculating the full expression $\\sqrt{{\\rm det}(h)} T^{ab} u_a n_b$. We will call it $dM$ although in the paper $dM$ also has to integrated over $\\theta$ and $\\phi$ coordinates"
   ]
  },
  {
   "cell_type": "code",
   "execution_count": 42,
   "metadata": {},
   "outputs": [],
   "source": [
    "dM = sqrt(det(h)).expr() * mass_energy_currrent.contract(n_unit).expr()"
   ]
  },
  {
   "cell_type": "markdown",
   "metadata": {},
   "source": [
    "Substitute $\\Omega = 0$"
   ]
  },
  {
   "cell_type": "code",
   "execution_count": 43,
   "metadata": {},
   "outputs": [
    {
     "data": {
      "text/html": [
       "<html>\\(\\displaystyle {\\left(a^{2} \\gamma^{3} \\cos\\left({\\theta}\\right)^{2} \\rho\\left(r\\right) - {\\left(2 \\, \\gamma^{3} m r - \\gamma^{3} r^{2}\\right)} \\rho\\left(r\\right)\\right)} \\sin\\left({\\theta}\\right)\\)</html>"
      ],
      "text/latex": [
       "$\\displaystyle {\\left(a^{2} \\gamma^{3} \\cos\\left({\\theta}\\right)^{2} \\rho\\left(r\\right) - {\\left(2 \\, \\gamma^{3} m r - \\gamma^{3} r^{2}\\right)} \\rho\\left(r\\right)\\right)} \\sin\\left({\\theta}\\right)$"
      ],
      "text/plain": [
       "(a^2*gamma^3*cos(th)^2*rho(r) - (2*gamma^3*m*r - gamma^3*r^2)*rho(r))*sin(th)"
      ]
     },
     "execution_count": 43,
     "metadata": {},
     "output_type": "execute_result"
    }
   ],
   "source": [
    "dM = dM.subs(Omega = 0); dM"
   ]
  },
  {
   "cell_type": "markdown",
   "metadata": {},
   "source": [
    "Integrating over the $\\theta$ and $\\phi$ coordiante (this is not needed but just performing a check)"
   ]
  },
  {
   "cell_type": "code",
   "execution_count": 44,
   "metadata": {},
   "outputs": [
    {
     "data": {
      "text/html": [
       "<html>\\(\\displaystyle \\frac{4}{3} \\, \\pi {\\left(a^{2} \\gamma^{3} \\rho\\left(r\\right) - 3 \\, {\\left(2 \\, \\gamma^{3} m r - \\gamma^{3} r^{2}\\right)} \\rho\\left(r\\right)\\right)}\\)</html>"
      ],
      "text/latex": [
       "$\\displaystyle \\frac{4}{3} \\, \\pi {\\left(a^{2} \\gamma^{3} \\rho\\left(r\\right) - 3 \\, {\\left(2 \\, \\gamma^{3} m r - \\gamma^{3} r^{2}\\right)} \\rho\\left(r\\right)\\right)}$"
      ],
      "text/plain": [
       "4/3*pi*(a^2*gamma^3*rho(r) - 3*(2*gamma^3*m*r - gamma^3*r^2)*rho(r))"
      ]
     },
     "execution_count": 44,
     "metadata": {},
     "output_type": "execute_result"
    }
   ],
   "source": [
    "integrate(integrate( dM, (th, 0, pi)) , (ph, 0 , 2*pi))"
   ]
  },
  {
   "cell_type": "markdown",
   "metadata": {},
   "source": [
    "### Next finding $dJ$ "
   ]
  },
  {
   "cell_type": "markdown",
   "metadata": {},
   "source": [
    "The second Killing vector field associated with $g_{ab}$ is $\\eta^b$ and has the components (0,0,0,1) as defined below"
   ]
  },
  {
   "cell_type": "code",
   "execution_count": 45,
   "metadata": {},
   "outputs": [
    {
     "data": {
      "text/html": [
       "<html>\\(\\displaystyle \\frac{\\partial}{\\partial {\\phi} }\\)</html>"
      ],
      "text/latex": [
       "$\\displaystyle \\frac{\\partial}{\\partial {\\phi} }$"
      ],
      "text/plain": [
       "Vector field ∂/∂ph on the 4-dimensional Lorentzian manifold M"
      ]
     },
     "execution_count": 45,
     "metadata": {},
     "output_type": "execute_result"
    }
   ],
   "source": [
    "eta = BL.frame()[3]; eta"
   ]
  },
  {
   "cell_type": "markdown",
   "metadata": {},
   "source": [
    "The covector/1-form $\\eta_b$ associated with $\\eta^b$ is "
   ]
  },
  {
   "cell_type": "code",
   "execution_count": 46,
   "metadata": {},
   "outputs": [
    {
     "data": {
      "text/html": [
       "<html>\\(\\displaystyle \\left( -\\frac{2 \\, a m r \\sin\\left({\\theta}\\right)^{2}}{a^{2} \\cos\\left({\\theta}\\right)^{2} + r^{2}} \\right) \\mathrm{d} t + {\\left(\\frac{2 \\, a^{2} m r \\sin\\left({\\theta}\\right)^{2}}{a^{2} \\cos\\left({\\theta}\\right)^{2} + r^{2}} + a^{2} + r^{2}\\right)} \\sin\\left({\\theta}\\right)^{2} \\mathrm{d} {\\phi}\\)</html>"
      ],
      "text/latex": [
       "$\\displaystyle \\left( -\\frac{2 \\, a m r \\sin\\left({\\theta}\\right)^{2}}{a^{2} \\cos\\left({\\theta}\\right)^{2} + r^{2}} \\right) \\mathrm{d} t + {\\left(\\frac{2 \\, a^{2} m r \\sin\\left({\\theta}\\right)^{2}}{a^{2} \\cos\\left({\\theta}\\right)^{2} + r^{2}} + a^{2} + r^{2}\\right)} \\sin\\left({\\theta}\\right)^{2} \\mathrm{d} {\\phi}$"
      ],
      "text/plain": [
       "-2*a*m*r*sin(th)^2/(a^2*cos(th)^2 + r^2) dt + (2*a^2*m*r*sin(th)^2/(a^2*cos(th)^2 + r^2) + a^2 + r^2)*sin(th)^2 dph"
      ]
     },
     "execution_count": 46,
     "metadata": {},
     "output_type": "execute_result"
    }
   ],
   "source": [
    "eta.down(g).display()"
   ]
  },
  {
   "cell_type": "markdown",
   "metadata": {},
   "source": [
    "Calculating $T^{ab} \\eta_b$"
   ]
  },
  {
   "cell_type": "code",
   "execution_count": 47,
   "metadata": {},
   "outputs": [
    {
     "data": {
      "text/html": [
       "<html>\\(\\displaystyle \\left( -\\frac{2 \\, \\Omega a^{2} \\gamma^{2} m r \\rho\\left(r\\right) \\sin\\left({\\theta}\\right)^{4} + {\\left({\\left(\\Omega a^{4} \\gamma^{2} + \\Omega a^{2} \\gamma^{2} r^{2}\\right)} \\cos\\left({\\theta}\\right)^{2} \\rho\\left(r\\right) + {\\left(\\Omega a^{2} \\gamma^{2} r^{2} + \\Omega \\gamma^{2} r^{4} - 2 \\, a \\gamma^{2} m r\\right)} \\rho\\left(r\\right)\\right)} \\sin\\left({\\theta}\\right)^{2}}{a^{2} \\cos\\left({\\theta}\\right)^{2} + r^{2}} \\right) \\frac{\\partial}{\\partial t } + \\left( -\\frac{2 \\, \\Omega^{2} a^{2} \\gamma^{2} m r \\rho\\left(r\\right) \\sin\\left({\\theta}\\right)^{4} + {\\left({\\left(\\Omega^{2} a^{4} \\gamma^{2} + \\Omega^{2} a^{2} \\gamma^{2} r^{2}\\right)} \\cos\\left({\\theta}\\right)^{2} \\rho\\left(r\\right) + {\\left(\\Omega^{2} a^{2} \\gamma^{2} r^{2} + \\Omega^{2} \\gamma^{2} r^{4} - 2 \\, \\Omega a \\gamma^{2} m r\\right)} \\rho\\left(r\\right)\\right)} \\sin\\left({\\theta}\\right)^{2}}{a^{2} \\cos\\left({\\theta}\\right)^{2} + r^{2}} \\right) \\frac{\\partial}{\\partial {\\phi} }\\)</html>"
      ],
      "text/latex": [
       "$\\displaystyle \\left( -\\frac{2 \\, \\Omega a^{2} \\gamma^{2} m r \\rho\\left(r\\right) \\sin\\left({\\theta}\\right)^{4} + {\\left({\\left(\\Omega a^{4} \\gamma^{2} + \\Omega a^{2} \\gamma^{2} r^{2}\\right)} \\cos\\left({\\theta}\\right)^{2} \\rho\\left(r\\right) + {\\left(\\Omega a^{2} \\gamma^{2} r^{2} + \\Omega \\gamma^{2} r^{4} - 2 \\, a \\gamma^{2} m r\\right)} \\rho\\left(r\\right)\\right)} \\sin\\left({\\theta}\\right)^{2}}{a^{2} \\cos\\left({\\theta}\\right)^{2} + r^{2}} \\right) \\frac{\\partial}{\\partial t } + \\left( -\\frac{2 \\, \\Omega^{2} a^{2} \\gamma^{2} m r \\rho\\left(r\\right) \\sin\\left({\\theta}\\right)^{4} + {\\left({\\left(\\Omega^{2} a^{4} \\gamma^{2} + \\Omega^{2} a^{2} \\gamma^{2} r^{2}\\right)} \\cos\\left({\\theta}\\right)^{2} \\rho\\left(r\\right) + {\\left(\\Omega^{2} a^{2} \\gamma^{2} r^{2} + \\Omega^{2} \\gamma^{2} r^{4} - 2 \\, \\Omega a \\gamma^{2} m r\\right)} \\rho\\left(r\\right)\\right)} \\sin\\left({\\theta}\\right)^{2}}{a^{2} \\cos\\left({\\theta}\\right)^{2} + r^{2}} \\right) \\frac{\\partial}{\\partial {\\phi} }$"
      ],
      "text/plain": [
       "-(2*Omega*a^2*gamma^2*m*r*rho(r)*sin(th)^4 + ((Omega*a^4*gamma^2 + Omega*a^2*gamma^2*r^2)*cos(th)^2*rho(r) + (Omega*a^2*gamma^2*r^2 + Omega*gamma^2*r^4 - 2*a*gamma^2*m*r)*rho(r))*sin(th)^2)/(a^2*cos(th)^2 + r^2) ∂/∂t - (2*Omega^2*a^2*gamma^2*m*r*rho(r)*sin(th)^4 + ((Omega^2*a^4*gamma^2 + Omega^2*a^2*gamma^2*r^2)*cos(th)^2*rho(r) + (Omega^2*a^2*gamma^2*r^2 + Omega^2*gamma^2*r^4 - 2*Omega*a*gamma^2*m*r)*rho(r))*sin(th)^2)/(a^2*cos(th)^2 + r^2) ∂/∂ph"
      ]
     },
     "execution_count": 47,
     "metadata": {},
     "output_type": "execute_result"
    }
   ],
   "source": [
    "angular_momentum_current = T.contract( - eta.down(g))  # Negative sign again\n",
    "angular_momentum_current.display()\n",
    "# angular_momentum_current[0].factor()"
   ]
  },
  {
   "cell_type": "markdown",
   "metadata": {},
   "source": [
    "----------------------------  Calculating $T^{ab} \\eta_a n_b$  ----------------------------"
   ]
  },
  {
   "cell_type": "code",
   "execution_count": 48,
   "metadata": {},
   "outputs": [
    {
     "data": {
      "text/html": [
       "<html>\\(\\displaystyle \\begin{array}{llcl} & M & \\longrightarrow & \\mathbb{R} \\\\ & \\left(t, r, {\\theta}, {\\phi}\\right) & \\longmapsto & \\frac{{\\left(2 \\, \\Omega a^{2} \\gamma^{2} m r \\rho\\left(r\\right) \\sin\\left({\\theta}\\right)^{4} + {\\left({\\left(\\Omega a^{4} \\gamma^{2} + \\Omega a^{2} \\gamma^{2} r^{2}\\right)} \\cos\\left({\\theta}\\right)^{2} \\rho\\left(r\\right) + {\\left(\\Omega a^{2} \\gamma^{2} r^{2} + \\Omega \\gamma^{2} r^{4} - 2 \\, a \\gamma^{2} m r\\right)} \\rho\\left(r\\right)\\right)} \\sin\\left({\\theta}\\right)^{2}\\right)} \\sqrt{{\\left| a^{2} - 2 \\, m r + r^{2} \\right|}}}{\\sqrt{2 \\, a^{2} m r \\sin\\left({\\theta}\\right)^{2} + a^{2} r^{2} + r^{4} + {\\left(a^{4} + a^{2} r^{2}\\right)} \\cos\\left({\\theta}\\right)^{2}} \\sqrt{a^{2} \\cos\\left({\\theta}\\right)^{2} + r^{2}}} \\end{array}\\)</html>"
      ],
      "text/latex": [
       "$\\displaystyle \\begin{array}{llcl} & M & \\longrightarrow & \\mathbb{R} \\\\ & \\left(t, r, {\\theta}, {\\phi}\\right) & \\longmapsto & \\frac{{\\left(2 \\, \\Omega a^{2} \\gamma^{2} m r \\rho\\left(r\\right) \\sin\\left({\\theta}\\right)^{4} + {\\left({\\left(\\Omega a^{4} \\gamma^{2} + \\Omega a^{2} \\gamma^{2} r^{2}\\right)} \\cos\\left({\\theta}\\right)^{2} \\rho\\left(r\\right) + {\\left(\\Omega a^{2} \\gamma^{2} r^{2} + \\Omega \\gamma^{2} r^{4} - 2 \\, a \\gamma^{2} m r\\right)} \\rho\\left(r\\right)\\right)} \\sin\\left({\\theta}\\right)^{2}\\right)} \\sqrt{{\\left| a^{2} - 2 \\, m r + r^{2} \\right|}}}{\\sqrt{2 \\, a^{2} m r \\sin\\left({\\theta}\\right)^{2} + a^{2} r^{2} + r^{4} + {\\left(a^{4} + a^{2} r^{2}\\right)} \\cos\\left({\\theta}\\right)^{2}} \\sqrt{a^{2} \\cos\\left({\\theta}\\right)^{2} + r^{2}}} \\end{array}$"
      ],
      "text/plain": [
       "M → ℝ\n",
       "(t, r, th, ph) ↦ (2*Omega*a^2*gamma^2*m*r*rho(r)*sin(th)^4 + ((Omega*a^4*gamma^2 + Omega*a^2*gamma^2*r^2)*cos(th)^2*rho(r) + (Omega*a^2*gamma^2*r^2 + Omega*gamma^2*r^4 - 2*a*gamma^2*m*r)*rho(r))*sin(th)^2)*sqrt(abs(a^2 - 2*m*r + r^2))/(sqrt(2*a^2*m*r*sin(th)^2 + a^2*r^2 + r^4 + (a^4 + a^2*r^2)*cos(th)^2)*sqrt(a^2*cos(th)^2 + r^2))"
      ]
     },
     "execution_count": 48,
     "metadata": {},
     "output_type": "execute_result"
    }
   ],
   "source": [
    "angular_momentum_current.contract(n_unit).display()"
   ]
  },
  {
   "cell_type": "markdown",
   "metadata": {},
   "source": [
    "Calculating $dJ$.  We are calling the below quantity $dJ$ although in the paper $dJ$ has been integrated over $\\theta$ and $\\phi$ coordinates"
   ]
  },
  {
   "cell_type": "code",
   "execution_count": 49,
   "metadata": {},
   "outputs": [
    {
     "data": {
      "text/html": [
       "<html>\\(\\displaystyle {\\left(\\Omega a^{4} \\cos\\left({\\theta}\\right)^{2} + \\Omega a^{2} r^{2} \\cos\\left({\\theta}\\right)^{2} + 2 \\, \\Omega a^{2} m r \\sin\\left({\\theta}\\right)^{2} + \\Omega a^{2} r^{2} + \\Omega r^{4} - 2 \\, a m r\\right)} \\gamma^{2} \\rho\\left(r\\right) \\sin\\left({\\theta}\\right)^{3}\\)</html>"
      ],
      "text/latex": [
       "$\\displaystyle {\\left(\\Omega a^{4} \\cos\\left({\\theta}\\right)^{2} + \\Omega a^{2} r^{2} \\cos\\left({\\theta}\\right)^{2} + 2 \\, \\Omega a^{2} m r \\sin\\left({\\theta}\\right)^{2} + \\Omega a^{2} r^{2} + \\Omega r^{4} - 2 \\, a m r\\right)} \\gamma^{2} \\rho\\left(r\\right) \\sin\\left({\\theta}\\right)^{3}$"
      ],
      "text/plain": [
       "(Omega*a^4*cos(th)^2 + Omega*a^2*r^2*cos(th)^2 + 2*Omega*a^2*m*r*sin(th)^2 + Omega*a^2*r^2 + Omega*r^4 - 2*a*m*r)*gamma^2*rho(r)*sin(th)^3"
      ]
     },
     "execution_count": 49,
     "metadata": {},
     "output_type": "execute_result"
    }
   ],
   "source": [
    "dJ = sqrt(det(h)).expr() * angular_momentum_current.contract(n_unit).expr()\n",
    "dJ.factor()"
   ]
  },
  {
   "cell_type": "markdown",
   "metadata": {},
   "source": [
    "In the non-relativistic case this should yield"
   ]
  },
  {
   "cell_type": "code",
   "execution_count": 50,
   "metadata": {},
   "outputs": [
    {
     "data": {
      "text/html": [
       "<html>\\(\\displaystyle \\Omega r^{4} \\rho\\left(r\\right) \\sin\\left({\\theta}\\right)^{3}\\)</html>"
      ],
      "text/latex": [
       "$\\displaystyle \\Omega r^{4} \\rho\\left(r\\right) \\sin\\left({\\theta}\\right)^{3}$"
      ],
      "text/plain": [
       "Omega*r^4*rho(r)*sin(th)^3"
      ]
     },
     "execution_count": 50,
     "metadata": {},
     "output_type": "execute_result"
    }
   ],
   "source": [
    "dJ.subs(a = 0, gamma = 1).factor()"
   ]
  },
  {
   "cell_type": "markdown",
   "metadata": {},
   "source": [
    "Doing the integration ove the $\\theta$ and $\\phi$ coordiantes"
   ]
  },
  {
   "cell_type": "code",
   "execution_count": 51,
   "metadata": {},
   "outputs": [
    {
     "data": {
      "text/html": [
       "<html>\\(\\displaystyle \\frac{8}{15} \\, \\pi {\\left(\\Omega a^{4} + 6 \\, \\Omega a^{2} r^{2} + 5 \\, \\Omega r^{4} + 2 \\, {\\left(4 \\, \\Omega a^{2} - 5 \\, a\\right)} m r\\right)} \\gamma^{2} \\rho\\left(r\\right)\\)</html>"
      ],
      "text/latex": [
       "$\\displaystyle \\frac{8}{15} \\, \\pi {\\left(\\Omega a^{4} + 6 \\, \\Omega a^{2} r^{2} + 5 \\, \\Omega r^{4} + 2 \\, {\\left(4 \\, \\Omega a^{2} - 5 \\, a\\right)} m r\\right)} \\gamma^{2} \\rho\\left(r\\right)$"
      ],
      "text/plain": [
       "8/15*pi*(Omega*a^4 + 6*Omega*a^2*r^2 + 5*Omega*r^4 + 2*(4*Omega*a^2 - 5*a)*m*r)*gamma^2*rho(r)"
      ]
     },
     "execution_count": 51,
     "metadata": {},
     "output_type": "execute_result"
    }
   ],
   "source": [
    "temp = dJ.factor()\n",
    "integrate(integrate( temp, (th, 0, pi)) , (ph, 0 , 2*pi)) "
   ]
  },
  {
   "cell_type": "markdown",
   "metadata": {},
   "source": [
    "### Calculating $\\gamma$, see Eq. 8 in paper"
   ]
  },
  {
   "cell_type": "markdown",
   "metadata": {},
   "source": [
    "Calculating the norm square of $u$"
   ]
  },
  {
   "cell_type": "code",
   "execution_count": 52,
   "metadata": {
    "scrolled": true
   },
   "outputs": [
    {
     "data": {
      "text/html": [
       "<html>\\(\\displaystyle \\begin{array}{llcl} g\\left(u,u\\right):& M & \\longrightarrow & \\mathbb{R} \\\\ & \\left(t, r, {\\theta}, {\\phi}\\right) & \\longmapsto & \\frac{2 \\, \\Omega^{2} a^{2} \\gamma^{2} m r \\sin\\left({\\theta}\\right)^{4} - a^{2} \\gamma^{2} \\cos\\left({\\theta}\\right)^{2} + 2 \\, \\gamma^{2} m r - \\gamma^{2} r^{2} + {\\left(\\Omega^{2} a^{2} \\gamma^{2} r^{2} + \\Omega^{2} \\gamma^{2} r^{4} - 4 \\, \\Omega a \\gamma^{2} m r + {\\left(\\Omega^{2} a^{4} \\gamma^{2} + \\Omega^{2} a^{2} \\gamma^{2} r^{2}\\right)} \\cos\\left({\\theta}\\right)^{2}\\right)} \\sin\\left({\\theta}\\right)^{2}}{a^{2} \\cos\\left({\\theta}\\right)^{2} + r^{2}} \\end{array}\\)</html>"
      ],
      "text/latex": [
       "$\\displaystyle \\begin{array}{llcl} g\\left(u,u\\right):& M & \\longrightarrow & \\mathbb{R} \\\\ & \\left(t, r, {\\theta}, {\\phi}\\right) & \\longmapsto & \\frac{2 \\, \\Omega^{2} a^{2} \\gamma^{2} m r \\sin\\left({\\theta}\\right)^{4} - a^{2} \\gamma^{2} \\cos\\left({\\theta}\\right)^{2} + 2 \\, \\gamma^{2} m r - \\gamma^{2} r^{2} + {\\left(\\Omega^{2} a^{2} \\gamma^{2} r^{2} + \\Omega^{2} \\gamma^{2} r^{4} - 4 \\, \\Omega a \\gamma^{2} m r + {\\left(\\Omega^{2} a^{4} \\gamma^{2} + \\Omega^{2} a^{2} \\gamma^{2} r^{2}\\right)} \\cos\\left({\\theta}\\right)^{2}\\right)} \\sin\\left({\\theta}\\right)^{2}}{a^{2} \\cos\\left({\\theta}\\right)^{2} + r^{2}} \\end{array}$"
      ],
      "text/plain": [
       "g(u,u): M → ℝ\n",
       "   (t, r, th, ph) ↦ (2*Omega^2*a^2*gamma^2*m*r*sin(th)^4 - a^2*gamma^2*cos(th)^2 + 2*gamma^2*m*r - gamma^2*r^2 + (Omega^2*a^2*gamma^2*r^2 + Omega^2*gamma^2*r^4 - 4*Omega*a*gamma^2*m*r + (Omega^2*a^4*gamma^2 + Omega^2*a^2*gamma^2*r^2)*cos(th)^2)*sin(th)^2)/(a^2*cos(th)^2 + r^2)"
      ]
     },
     "execution_count": 52,
     "metadata": {},
     "output_type": "execute_result"
    }
   ],
   "source": [
    "u_norm_sq = g(u,u); u_norm_sq.display()"
   ]
  },
  {
   "cell_type": "code",
   "execution_count": 53,
   "metadata": {},
   "outputs": [],
   "source": [
    "# The below returns the expression stored in u_norm_sq\n",
    "u_norm_sq = u_norm_sq.expr()"
   ]
  },
  {
   "cell_type": "code",
   "execution_count": 54,
   "metadata": {
    "scrolled": true
   },
   "outputs": [],
   "source": [
    "u_norm_sq = u_norm_sq.subs(Omega = 0) #; u_norm_sq"
   ]
  },
  {
   "cell_type": "markdown",
   "metadata": {},
   "source": [
    "Find $\\gamma$ below. It gives two roots"
   ]
  },
  {
   "cell_type": "code",
   "execution_count": 55,
   "metadata": {
    "scrolled": true
   },
   "outputs": [
    {
     "data": {
      "text/html": [
       "<html>\\(\\displaystyle \\left[\\gamma = -\\sqrt{\\frac{a^{2} \\cos\\left({\\theta}\\right)^{2}}{a^{2} \\cos\\left({\\theta}\\right)^{2} - 2 \\, m r + r^{2}} + \\frac{r^{2}}{a^{2} \\cos\\left({\\theta}\\right)^{2} - 2 \\, m r + r^{2}}}, \\gamma = \\sqrt{\\frac{a^{2} \\cos\\left({\\theta}\\right)^{2}}{a^{2} \\cos\\left({\\theta}\\right)^{2} - 2 \\, m r + r^{2}} + \\frac{r^{2}}{a^{2} \\cos\\left({\\theta}\\right)^{2} - 2 \\, m r + r^{2}}}\\right]\\)</html>"
      ],
      "text/latex": [
       "$\\displaystyle \\left[\\gamma = -\\sqrt{\\frac{a^{2} \\cos\\left({\\theta}\\right)^{2}}{a^{2} \\cos\\left({\\theta}\\right)^{2} - 2 \\, m r + r^{2}} + \\frac{r^{2}}{a^{2} \\cos\\left({\\theta}\\right)^{2} - 2 \\, m r + r^{2}}}, \\gamma = \\sqrt{\\frac{a^{2} \\cos\\left({\\theta}\\right)^{2}}{a^{2} \\cos\\left({\\theta}\\right)^{2} - 2 \\, m r + r^{2}} + \\frac{r^{2}}{a^{2} \\cos\\left({\\theta}\\right)^{2} - 2 \\, m r + r^{2}}}\\right]$"
      ],
      "text/plain": [
       "[gamma == -sqrt(a^2*cos(th)^2/(a^2*cos(th)^2 - 2*m*r + r^2) + r^2/(a^2*cos(th)^2 - 2*m*r + r^2)), gamma == sqrt(a^2*cos(th)^2/(a^2*cos(th)^2 - 2*m*r + r^2) + r^2/(a^2*cos(th)^2 - 2*m*r + r^2))]"
      ]
     },
     "execution_count": 55,
     "metadata": {},
     "output_type": "execute_result"
    }
   ],
   "source": [
    "solve(u_norm_sq == -1, gamma)#[1].factor()"
   ]
  },
  {
   "cell_type": "markdown",
   "metadata": {},
   "source": [
    "with the positive one being"
   ]
  },
  {
   "cell_type": "code",
   "execution_count": 56,
   "metadata": {},
   "outputs": [
    {
     "data": {
      "text/html": [
       "<html>\\(\\displaystyle \\gamma = \\sqrt{\\frac{a^{2} \\cos\\left({\\theta}\\right)^{2} + r^{2}}{a^{2} \\cos\\left({\\theta}\\right)^{2} - 2 \\, m r + r^{2}}}\\)</html>"
      ],
      "text/latex": [
       "$\\displaystyle \\gamma = \\sqrt{\\frac{a^{2} \\cos\\left({\\theta}\\right)^{2} + r^{2}}{a^{2} \\cos\\left({\\theta}\\right)^{2} - 2 \\, m r + r^{2}}}$"
      ],
      "text/plain": [
       "gamma == sqrt((a^2*cos(th)^2 + r^2)/(a^2*cos(th)^2 - 2*m*r + r^2))"
      ]
     },
     "execution_count": 56,
     "metadata": {},
     "output_type": "execute_result"
    }
   ],
   "source": [
    "solve(u_norm_sq == -1, gamma)[1].factor()"
   ]
  },
  {
   "cell_type": "code",
   "execution_count": null,
   "metadata": {},
   "outputs": [],
   "source": []
  }
 ],
 "metadata": {
  "kernelspec": {
   "display_name": "SageMath 9.8",
   "language": "sage",
   "name": "sagemath-9.8"
  },
  "language_info": {
   "codemirror_mode": {
    "name": "ipython",
    "version": 3
   },
   "file_extension": ".py",
   "mimetype": "text/x-python",
   "name": "python",
   "nbconvert_exporter": "python",
   "pygments_lexer": "ipython3",
   "version": "3.11.1"
  }
 },
 "nbformat": 4,
 "nbformat_minor": 1
}
