{
 "cells": [
  {
   "cell_type": "code",
   "execution_count": 1,
   "metadata": {},
   "outputs": [],
   "source": [
    "import pandas as pd\n",
    "import plotly.express as px\n",
    "from sklearn.linear_model import LinearRegression, Ridge\n",
    "from sklearn.metrics import mean_squared_error, r2_score\n",
    "from sklearn.preprocessing import PolynomialFeatures\n",
    "import numpy as np\n",
    "import seaborn as sns\n",
    "import matplotlib\n",
    "import matplotlib.pyplot as plt\n",
    "from matplotlib.gridspec import GridSpec\n",
    "plt.style.use('./mesa.mplstyle10')"
   ]
  },
  {
   "cell_type": "code",
   "execution_count": 2,
   "metadata": {},
   "outputs": [
    {
     "data": {
      "text/html": [
       "<div>\n",
       "<style scoped>\n",
       "    .dataframe tbody tr th:only-of-type {\n",
       "        vertical-align: middle;\n",
       "    }\n",
       "\n",
       "    .dataframe tbody tr th {\n",
       "        vertical-align: top;\n",
       "    }\n",
       "\n",
       "    .dataframe thead th {\n",
       "        text-align: right;\n",
       "    }\n",
       "</style>\n",
       "<table border=\"1\" class=\"dataframe\">\n",
       "  <thead>\n",
       "    <tr style=\"text-align: right;\">\n",
       "      <th></th>\n",
       "      <th>Mbh</th>\n",
       "      <th>abh</th>\n",
       "      <th>AMexp</th>\n",
       "      <th>Mexp</th>\n",
       "      <th>filename</th>\n",
       "      <th>tff</th>\n",
       "      <th>Md</th>\n",
       "      <th>Mco</th>\n",
       "      <th>Rexp</th>\n",
       "      <th>MHe_form</th>\n",
       "      <th>...</th>\n",
       "      <th>MHe_dep</th>\n",
       "      <th>AMfinal_He_dep</th>\n",
       "      <th>R_He_dep</th>\n",
       "      <th>Omega_mean_He_dep</th>\n",
       "      <th>Omega_mean_exp</th>\n",
       "      <th>Mc12_dep</th>\n",
       "      <th>AM_c12_dep</th>\n",
       "      <th>R_c12_dep</th>\n",
       "      <th>Omega_c12_dep</th>\n",
       "      <th>Eacc</th>\n",
       "    </tr>\n",
       "  </thead>\n",
       "  <tbody>\n",
       "    <tr>\n",
       "      <th>0</th>\n",
       "      <td>4.984</td>\n",
       "      <td>0.1515</td>\n",
       "      <td>3.256000e+49</td>\n",
       "      <td>4.984222</td>\n",
       "      <td>0/LOGS/profile72</td>\n",
       "      <td>970.882882</td>\n",
       "      <td>5.113000e-09</td>\n",
       "      <td>2.970036</td>\n",
       "      <td>1.400817</td>\n",
       "      <td>4.999526</td>\n",
       "      <td>...</td>\n",
       "      <td>4.989663</td>\n",
       "      <td>3.300000e+49</td>\n",
       "      <td>1.453448</td>\n",
       "      <td>0.000259</td>\n",
       "      <td>0.000877</td>\n",
       "      <td>4.984223</td>\n",
       "      <td>3.256000e+49</td>\n",
       "      <td>1.453448</td>\n",
       "      <td>0.000259</td>\n",
       "      <td>8.572000e+47</td>\n",
       "    </tr>\n",
       "    <tr>\n",
       "      <th>1</th>\n",
       "      <td>8.938</td>\n",
       "      <td>0.1120</td>\n",
       "      <td>7.782000e+49</td>\n",
       "      <td>8.938068</td>\n",
       "      <td>2/LOGS/profile35</td>\n",
       "      <td>0.000000</td>\n",
       "      <td>0.000000e+00</td>\n",
       "      <td>6.534862</td>\n",
       "      <td>1.206268</td>\n",
       "      <td>8.998252</td>\n",
       "      <td>...</td>\n",
       "      <td>8.955658</td>\n",
       "      <td>7.956000e+49</td>\n",
       "      <td>1.206268</td>\n",
       "      <td>0.000181</td>\n",
       "      <td>0.000785</td>\n",
       "      <td>8.938069</td>\n",
       "      <td>7.782000e+49</td>\n",
       "      <td>1.206268</td>\n",
       "      <td>0.000181</td>\n",
       "      <td>0.000000e+00</td>\n",
       "    </tr>\n",
       "  </tbody>\n",
       "</table>\n",
       "<p>2 rows × 23 columns</p>\n",
       "</div>"
      ],
      "text/plain": [
       "     Mbh     abh         AMexp      Mexp          filename         tff  \\\n",
       "0  4.984  0.1515  3.256000e+49  4.984222  0/LOGS/profile72  970.882882   \n",
       "1  8.938  0.1120  7.782000e+49  8.938068  2/LOGS/profile35    0.000000   \n",
       "\n",
       "             Md       Mco      Rexp  MHe_form  ...   MHe_dep  AMfinal_He_dep  \\\n",
       "0  5.113000e-09  2.970036  1.400817  4.999526  ...  4.989663    3.300000e+49   \n",
       "1  0.000000e+00  6.534862  1.206268  8.998252  ...  8.955658    7.956000e+49   \n",
       "\n",
       "   R_He_dep  Omega_mean_He_dep  Omega_mean_exp  Mc12_dep    AM_c12_dep  \\\n",
       "0  1.453448           0.000259        0.000877  4.984223  3.256000e+49   \n",
       "1  1.206268           0.000181        0.000785  8.938069  7.782000e+49   \n",
       "\n",
       "   R_c12_dep  Omega_c12_dep          Eacc  \n",
       "0   1.453448       0.000259  8.572000e+47  \n",
       "1   1.206268       0.000181  0.000000e+00  \n",
       "\n",
       "[2 rows x 23 columns]"
      ]
     },
     "execution_count": 2,
     "metadata": {},
     "output_type": "execute_result"
    }
   ],
   "source": [
    "d = 'fiducial'\n",
    "dataMAD = pd.read_csv(f'./data/{d}/MAD/concatenated_file_MAD.csv')\n",
    "dataNT = pd.read_csv(f'./data/{d}/NTD/concatenated_file_NTD.csv')\n",
    "datanonrel_MAD = pd.read_csv(f'./data/{d}/Nonrel_MAD/concatenated_file_Nonrel_MAD.csv')\n",
    "datanonrel_NT = pd.read_csv(f'./data/{d}/Nonrel_NTD/concatenated_file_Nonrel_NTD.csv')\n",
    "dataMAD.head(2)    "
   ]
  },
  {
   "cell_type": "markdown",
   "metadata": {},
   "source": [
    "###### For spin"
   ]
  },
  {
   "cell_type": "code",
   "execution_count": 3,
   "metadata": {},
   "outputs": [],
   "source": [
    "def transform_spin(x, y):\n",
    "    df = pd.DataFrame()\n",
    "    \n",
    "    df[\"x\"] = x\n",
    "    df[\"y\"] = y\n",
    "    \n",
    "    df[\"sqrt(xy)\"] = np.sqrt(df['x'] * df['y'])\n",
    "    df[\"sqrt(x)\"] = np.sqrt(df['x'])\n",
    "    df[\"sqrt(y)\"] = np.sqrt(df['y'])\n",
    "\n",
    "    df[\"xy\"] = df['x'] * df['y']\n",
    "    \n",
    "    features = [\"sqrt(xy)\", \"sqrt(x)\", \"sqrt(y)\", \"xy\", \"x\", \"y\"]\n",
    "\n",
    "    return df[features]"
   ]
  },
  {
   "cell_type": "code",
   "execution_count": 4,
   "metadata": {},
   "outputs": [],
   "source": [
    "def transform_MBH(x, y):\n",
    "    df = pd.DataFrame()\n",
    "    \n",
    "    df[\"x\"] = x\n",
    "    df[\"y\"] = y\n",
    "    \n",
    "    df[\"sqrt(xy)\"] = np.sqrt(df['x'] * df['y'])\n",
    "    df[\"sqrt(x)\"] = np.sqrt(df['x'])\n",
    "    df[\"sqrt(y)\"] = np.sqrt(df['y'])\n",
    "\n",
    "    df[\"xy\"] = df['x'] * df['y']\n",
    "    \n",
    "    features = [\"sqrt(xy)\", \"sqrt(x)\", \"sqrt(y)\", \"x\", \"y\"]\n",
    "\n",
    "    return df[features]"
   ]
  },
  {
   "cell_type": "code",
   "execution_count": 5,
   "metadata": {},
   "outputs": [
    {
     "name": "stdout",
     "output_type": "stream",
     "text": [
      "0.5864\n"
     ]
    },
    {
     "data": {
      "image/png": "[encoded data removed]",
      "text/plain": [
       "<Figure size 432x360 with 4 Axes>"
      ]
     },
     "metadata": {
      "needs_background": "light"
     },
     "output_type": "display_data"
    }
   ],
   "source": [
    "ax = plt.figure(figsize = (6,5.))\n",
    "gs = GridSpec(2, 2, hspace = 0.3, wspace = 0.3)\n",
    "\n",
    "# ------------------------------------- NT MBH  -------------------------------------\n",
    "x = \"Mexp\"\n",
    "y = \"AMexp\"\n",
    "z = \"Mbh\"   \n",
    "msun = 1.989e33\n",
    "features = [\"sqrt(xy)\", \"sqrt(x)\", \"sqrt(y)\", \"x\", \"y\"]\n",
    "result = []\n",
    "intercept  = []\n",
    "\n",
    "plt.subplot(gs[0])\n",
    "mask = dataNT['abh'] <= 0.9 \n",
    "df_temp = dataNT[mask].copy()\n",
    "df_temp[y] = (df_temp['AMexp'] / df_temp['Mexp'] / msun / 1e14).astype(float)\n",
    "\n",
    "df_temp[\"sqrt(xy)\"] = np.sqrt(df_temp[x] * df_temp[y])\n",
    "df_temp[\"sqrt(x)\"] = np.sqrt(df_temp[x])\n",
    "df_temp[\"sqrt(y)\"] = np.sqrt(df_temp[y])\n",
    "df_temp[\"x\"] = df_temp[x]\n",
    "df_temp[\"y\"] = df_temp[y]\n",
    "\n",
    "model_linear = Ridge()\n",
    "model_linear.fit(df_temp[features], df_temp[z])\n",
    "model_linear.predict(transform_MBH(df_temp[x], df_temp[y]))\n",
    "result.append(list(zip(features,model_linear.coef_)))\n",
    "intercept.append(model_linear.intercept_)\n",
    "\n",
    "# prediction = model_linear.predict(transform_MBH(df_temp[x], df_temp[y]))\n",
    "# error = prediction - df_temp[z]\n",
    "\n",
    "# ax = sns.histplot((error/df_temp[z] * 100).abs(), binrange=[0, 8], binwidth=.5, stat=\"probability\",\\\n",
    "#             element=\"bars\", cumulative=True)\n",
    "# ax.set(xlabel=\"\", ylabel=\"\", title=\"\")\n",
    "# plt.grid(axis='y', linestyle = '-.', alpha = 0.5)\n",
    "# plt.text(-0.01, .65, '(a)')\n",
    "# plt.text(-0.1, .875, '$90 \\% \\\\longrightarrow$')\n",
    "\n",
    "# -------------------------------------\n",
    "\n",
    "mask = dataNT['abh'] > 0.9  \n",
    "df_temp = dataNT[mask].copy()\n",
    "df_temp[y] = (df_temp['AMexp'] / df_temp['Mexp'] / msun / 1e14).astype(float)\n",
    "\n",
    "df_temp[\"sqrt(xy)\"] = np.sqrt(df_temp[x] * df_temp[y])\n",
    "df_temp[\"sqrt(x)\"] = np.sqrt(df_temp[x])\n",
    "df_temp[\"sqrt(y)\"] = np.sqrt(df_temp[y])\n",
    "df_temp[\"x\"] = df_temp[x]\n",
    "df_temp[\"y\"] = df_temp[y]\n",
    "\n",
    "\n",
    "model_linear = Ridge()\n",
    "model_linear.fit(df_temp[features], df_temp[z])\n",
    "prediction = model_linear.predict(transform_MBH(df_temp[x], df_temp[y]))\n",
    "result.append(list(zip(features,model_linear.coef_)))\n",
    "intercept.append(model_linear.intercept_)\n",
    "\n",
    "error = prediction - df_temp[z]\n",
    "\n",
    "ax = sns.histplot((error/df_temp[z] * 100).abs(), binrange=[0, 8], binwidth=.5, stat=\"probability\",\\\n",
    "            element=\"bars\", cumulative=True)\n",
    "ax.set(xlabel=\"\", ylabel=\"\", title=\"\")\n",
    "plt.grid(axis='y', linestyle = '-.', alpha = 0.5)\n",
    "plt.text(0.01, .6, '(a)')\n",
    "\n",
    "plt.plot([0, 20], [0.9, 0.9], linestyle = '--', color = 'k')\n",
    "plt.text(0.4, .925, '$90 \\%$')\n",
    "plt.xlim(0,8)\n",
    "\n",
    "\n",
    "#--------------------------------------- MAD MBH ----------------------------------\n",
    "plt.subplot(gs[1])\n",
    "y_ = (7e32*  dataMAD['Mexp'] )**(1/2)\n",
    "mask =  (dataMAD['AMexp'] / dataMAD['Mexp'] / msun).astype(float) <= y_\n",
    "df_temp = dataMAD[mask].copy()\n",
    "df_temp[y] = (df_temp['AMexp'] / df_temp['Mexp'] / msun / 1e14).astype(float)\n",
    "\n",
    "df_temp[\"sqrt(xy)\"] = np.sqrt(df_temp[x] * df_temp[y])\n",
    "df_temp[\"sqrt(x)\"] = np.sqrt(df_temp[x])\n",
    "df_temp[\"sqrt(y)\"] = np.sqrt(df_temp[y])\n",
    "df_temp[\"x\"] = df_temp[x]\n",
    "df_temp[\"y\"] = df_temp[y]\n",
    "\n",
    "model_linear = Ridge()\n",
    "model_linear.fit(df_temp[features], df_temp[z])\n",
    "prediction = model_linear.predict(transform_MBH(df_temp[x], df_temp[y]))\n",
    "# error = prediction - df_temp[z]\n",
    "\n",
    "ax = sns.histplot((error/df_temp[z] * 100).abs(), binrange=[0, 8], binwidth=0.5, stat=\"probability\",\\\n",
    "            element=\"bars\", cumulative=True)\n",
    "ax.set(xlabel=\"\", ylabel=\"\")   #                  Normalised % of system\", title=\"\")\n",
    "plt.grid(axis='y', linestyle = '-.', alpha = 0.5)\n",
    "result.append(list(zip(features,model_linear.coef_)))\n",
    "intercept.append(model_linear.intercept_)\n",
    "\n",
    "# -------------------------------------\n",
    "\n",
    "y_ = (7e32*  dataMAD['Mexp'] )**(1/2)\n",
    "mask =  (dataMAD['AMexp'] / dataMAD['Mexp'] / msun).astype(float) > y_\n",
    "\n",
    "df_temp = dataMAD[mask].copy()\n",
    "df_temp[y] = (df_temp['AMexp'] / df_temp['Mexp'] / msun / 1e14).astype(float)\n",
    "\n",
    "df_temp[\"sqrt(xy)\"] = np.sqrt(df_temp[x] * df_temp[y])\n",
    "df_temp[\"sqrt(x)\"] = np.sqrt(df_temp[x])\n",
    "df_temp[\"sqrt(y)\"] = np.sqrt(df_temp[y])\n",
    "df_temp[\"x\"] = df_temp[x]\n",
    "df_temp[\"y\"] = df_temp[y]\n",
    "\n",
    "model_linear = Ridge()\n",
    "model_linear = Ridge()\n",
    "model_linear.fit(df_temp[features], df_temp[z])\n",
    "prediction = model_linear.predict(transform_MBH(df_temp[x], df_temp[y]))\n",
    "\n",
    "error += prediction - df_temp[z]\n",
    "result.append(list(zip(features,model_linear.coef_)))\n",
    "intercept.append(model_linear.intercept_)\n",
    "\n",
    "plt.text(0.1, .6, '(b)')\n",
    "plt.plot([0, 20], [0.9, 0.9], linestyle = '--', color = 'k')\n",
    "plt.text(0.4, .925, '$90 \\%$')\n",
    "plt.xlim(0,8)\n",
    "\n",
    "\n",
    "# --------------------------------  NT spin ----------------------------------------\n",
    "x = \"Mexp\"\n",
    "y = \"AMexp\"\n",
    "z = \"abh\"\n",
    "msun = 1.989e33\n",
    "features = [\"sqrt(xy)\", \"sqrt(x)\", \"sqrt(y)\", \"xy\", \"x\", \"y\"]\n",
    "# result = []\n",
    "\n",
    "plt.subplot(gs[2])\n",
    "mask = dataNT['abh'] <= 0.9\n",
    "df_temp = dataNT[mask].copy()\n",
    "df_temp[y] = (dataNT['AMexp'] / dataNT['Mexp'] / msun / 1e14).astype(float)\n",
    "\n",
    "df_temp[\"sqrt(xy)\"] = np.sqrt(df_temp[x] * df_temp[y])\n",
    "df_temp[\"sqrt(x)\"] = np.sqrt(df_temp[x])\n",
    "df_temp[\"sqrt(y)\"] = np.sqrt(df_temp[y])\n",
    "\n",
    "df_temp[\"xy\"] = df_temp[x] * df_temp[y]\n",
    "df_temp[\"x\"] = df_temp[x]\n",
    "df_temp[\"y\"] = df_temp[y]\n",
    "\n",
    "model_linear = Ridge()\n",
    "model_linear.fit(df_temp[features], df_temp[z])\n",
    "prediction = model_linear.predict(transform_spin(df_temp[x], df_temp[y]))\n",
    "error = prediction- df_temp[z]\n",
    "\n",
    "ax = sns.histplot((error/df_temp[z] * 100).abs(), binrange=[0, 15], binwidth=1, stat=\"probability\",\\\n",
    "            element=\"bars\", cumulative=True)\n",
    "ax.set(xlabel=\"\", ylabel=\"\", title=\"\")\n",
    "plt.grid(axis='y', linestyle = '-.', alpha = 0.5)\n",
    "result.append(list(zip(features,model_linear.coef_)))\n",
    "intercept.append(model_linear.intercept_)\n",
    "\n",
    "plt.text(1, .6, '(c)')\n",
    "plt.plot([0, 20], [0.9, 0.9], linestyle = '--', color = 'k')\n",
    "plt.text(0.4, .925, '$90 \\%$')\n",
    "plt.xlim(0,16)\n",
    "\n",
    "# -------------------------------------\n",
    "\n",
    "mask = dataNT['abh'] > 0.9\n",
    "df_temp = dataNT[mask].copy()\n",
    "df_temp[y] = (dataNT['AMexp'] / dataNT['Mexp'] / msun / 1e14).astype(float)\n",
    "\n",
    "df_temp[\"sqrt(xy)\"] = np.sqrt(df_temp[x] * df_temp[y])\n",
    "df_temp[\"sqrt(x)\"] = np.sqrt(df_temp[x])\n",
    "df_temp[\"sqrt(y)\"] = np.sqrt(df_temp[y])\n",
    "\n",
    "df_temp[\"xy\"] = df_temp[x] * df_temp[y]\n",
    "df_temp[\"x\"] = df_temp[x]\n",
    "df_temp[\"y\"] = df_temp[y]\n",
    "\n",
    "model_linear = Ridge()\n",
    "model_linear.fit(df_temp[features], df_temp[z])\n",
    "prediction = model_linear.predict(transform_spin(df_temp[x], df_temp[y]))\n",
    "result.append(list(zip(features,model_linear.coef_)))\n",
    "intercept.append(model_linear.intercept_)\n",
    "\n",
    "# ---------------------------------  MAD spin ----------------------------\n",
    "y_ = (7e32*  dataMAD['Mexp'] )**(1/2)\n",
    "\n",
    "plt.subplot(gs[3])\n",
    "mask =  (dataMAD['AMexp'] / dataMAD['Mexp'] / msun).astype(float) <= y_\n",
    "\n",
    "df_temp = dataMAD[mask].copy()\n",
    "df_temp[y] = (df_temp['AMexp'] / df_temp['Mexp'] / msun / 1e14).astype(float)\n",
    "\n",
    "df_temp[\"sqrt(xy)\"] = np.sqrt(df_temp[x] * df_temp[y])\n",
    "df_temp[\"sqrt(x)\"] = np.sqrt(df_temp[x])\n",
    "df_temp[\"sqrt(y)\"] = np.sqrt(df_temp[y])\n",
    "df_temp[\"xy\"] = df_temp[x] * df_temp[y]\n",
    "df_temp[\"x\"] = df_temp[x]\n",
    "df_temp[\"y\"] = df_temp[y]\n",
    "\n",
    "model_linear = Ridge()\n",
    "model_linear.fit(df_temp[features], df_temp[z])\n",
    "prediction = model_linear.predict(transform_spin(df_temp[x], df_temp[y]))\n",
    "\n",
    "\n",
    "mask = prediction >= np.max(df_temp[z])\n",
    "prediction[mask] = np.max(df_temp[z])\n",
    "print(np.max(df_temp[z]))\n",
    "\n",
    "# #  removing smaller values for estimating error. \n",
    "mask = prediction >= 0.  # No values are smaller than this in the data\n",
    "error = prediction[mask] - df_temp[mask][z]\n",
    "\n",
    "ax = sns.histplot((error/df_temp[mask][z] * 100), binrange=[0, 15], binwidth=1, stat=\"probability\",\\\n",
    "            element=\"bars\", cumulative=True)\n",
    "ax.set(xlabel=\"\", ylabel=\"\")#                  Normalised % of system\",\\\n",
    "#                                                     title=\"\")\n",
    "plt.grid(axis='y', linestyle = '-.', alpha = 0.5)\n",
    "plt.text(1, .6, '(d)')\n",
    "plt.plot([0, 20], [0.9, 0.9], linestyle = '--', color = 'k')\n",
    "plt.text(0.4, .925, '$90 \\%$')\n",
    "plt.xlim(0,16)\n",
    "\n",
    "result.append(list(zip(features,model_linear.coef_)))\n",
    "intercept.append(model_linear.intercept_)\n",
    "\n",
    "plt.tick_params(\n",
    "    axis='x',          # changes apply to the x-axis\n",
    "    which='both',      # both major and minor ticks are affected\n",
    "#     bottom=False,      # ticks along the bottom edge are off\n",
    "    top=False)        # ticks along the top edge are off\n",
    "\n",
    "\n",
    "plt.text(-12.5, -.35, 'cummulative % error')\n",
    "plt.text(-26, .3, 'Normalised number of systems', rotation = 90)\n",
    "plt.savefig('./figures/2D_hist_MBH_spinBH_error.png')\n"
   ]
  },
  {
   "cell_type": "markdown",
   "metadata": {},
   "source": [
    "#### Fitting parameters ----- Result contains the coefficient and intercepts  --------"
   ]
  },
  {
   "cell_type": "markdown",
   "metadata": {},
   "source": [
    "### NTD BH "
   ]
  },
  {
   "cell_type": "code",
   "execution_count": 6,
   "metadata": {},
   "outputs": [
    {
     "data": {
      "text/plain": [
       "[('sqrt(xy)', 0.017962608699467128),\n",
       " ('sqrt(x)', -0.06956738595501259),\n",
       " ('sqrt(y)', -0.043292120510240215),\n",
       " ('x', 0.9892296055696254),\n",
       " ('y', -0.0024704313395228707)]"
      ]
     },
     "execution_count": 6,
     "metadata": {},
     "output_type": "execute_result"
    }
   ],
   "source": [
    "result[0]  #a <= 0.9"
   ]
  },
  {
   "cell_type": "code",
   "execution_count": 7,
   "metadata": {},
   "outputs": [
    {
     "data": {
      "text/plain": [
       "0.44947862234416647"
      ]
     },
     "execution_count": 7,
     "metadata": {},
     "output_type": "execute_result"
    }
   ],
   "source": [
    "intercept[0]"
   ]
  },
  {
   "cell_type": "code",
   "execution_count": 8,
   "metadata": {},
   "outputs": [
    {
     "data": {
      "text/plain": [
       "[('sqrt(xy)', 0.33328788939999854),\n",
       " ('sqrt(x)', 1.4346889521430803),\n",
       " ('sqrt(y)', -1.9925838484350764),\n",
       " ('x', -0.4615551596177556),\n",
       " ('y', -0.015464895060977127)]"
      ]
     },
     "execution_count": 8,
     "metadata": {},
     "output_type": "execute_result"
    }
   ],
   "source": [
    "result[1]  # a >.9"
   ]
  },
  {
   "cell_type": "code",
   "execution_count": 9,
   "metadata": {},
   "outputs": [
    {
     "data": {
      "text/plain": [
       "55.237175731620894"
      ]
     },
     "execution_count": 9,
     "metadata": {},
     "output_type": "execute_result"
    }
   ],
   "source": [
    "intercept[1]"
   ]
  },
  {
   "cell_type": "markdown",
   "metadata": {},
   "source": [
    "### MAD BH"
   ]
  },
  {
   "cell_type": "code",
   "execution_count": 10,
   "metadata": {},
   "outputs": [
    {
     "data": {
      "text/plain": [
       "[('sqrt(xy)', 0.020177888159822695),\n",
       " ('sqrt(x)', -0.26830095695389616),\n",
       " ('sqrt(y)', -0.03807501792381932),\n",
       " ('x', 1.0030304511123884),\n",
       " ('y', -0.00299562609390147)]"
      ]
     },
     "execution_count": 10,
     "metadata": {},
     "output_type": "execute_result"
    }
   ],
   "source": [
    "result[2]  #a >= 0.12"
   ]
  },
  {
   "cell_type": "markdown",
   "metadata": {},
   "source": []
  },
  {
   "cell_type": "code",
   "execution_count": 11,
   "metadata": {},
   "outputs": [
    {
     "data": {
      "text/plain": [
       "0.9699712936243401"
      ]
     },
     "execution_count": 11,
     "metadata": {},
     "output_type": "execute_result"
    }
   ],
   "source": [
    "intercept[2]"
   ]
  },
  {
   "cell_type": "code",
   "execution_count": 12,
   "metadata": {},
   "outputs": [
    {
     "data": {
      "text/plain": [
       "[('sqrt(xy)', -0.6986488838792712),\n",
       " ('sqrt(x)', 9.36594556467244),\n",
       " ('sqrt(y)', 1.568766510158915),\n",
       " ('x', 3.1168598343773875),\n",
       " ('y', 0.0054579626221860356)]"
      ]
     },
     "execution_count": 12,
     "metadata": {},
     "output_type": "execute_result"
    }
   ],
   "source": [
    "result[3]  # a < 0.12"
   ]
  },
  {
   "cell_type": "code",
   "execution_count": 13,
   "metadata": {},
   "outputs": [
    {
     "data": {
      "text/plain": [
       "-38.671090717913316"
      ]
     },
     "execution_count": 13,
     "metadata": {},
     "output_type": "execute_result"
    }
   ],
   "source": [
    "intercept[3]"
   ]
  },
  {
   "cell_type": "markdown",
   "metadata": {},
   "source": [
    "### NTD spin"
   ]
  },
  {
   "cell_type": "code",
   "execution_count": 14,
   "metadata": {},
   "outputs": [
    {
     "data": {
      "text/plain": [
       "[('sqrt(xy)', -0.0019613002925420826),\n",
       " ('sqrt(x)', 0.06813450091573615),\n",
       " ('sqrt(y)', 0.02459914190692738),\n",
       " ('xy', -2.0344066330450573e-06),\n",
       " ('x', -0.006308675339391202),\n",
       " ('y', 0.0002950477061476109)]"
      ]
     },
     "execution_count": 14,
     "metadata": {},
     "output_type": "execute_result"
    }
   ],
   "source": [
    "result[4]  # a <= 0.9"
   ]
  },
  {
   "cell_type": "code",
   "execution_count": 15,
   "metadata": {},
   "outputs": [
    {
     "data": {
      "text/plain": [
       "-0.22194982580576716"
      ]
     },
     "execution_count": 15,
     "metadata": {},
     "output_type": "execute_result"
    }
   ],
   "source": [
    "intercept[4]"
   ]
  },
  {
   "cell_type": "code",
   "execution_count": 16,
   "metadata": {},
   "outputs": [
    {
     "data": {
      "text/plain": [
       "[('sqrt(xy)', -0.001967560971313799),\n",
       " ('sqrt(x)', 0.0018707710717171106),\n",
       " ('sqrt(y)', 0.048384797436727106),\n",
       " ('xy', 1.0935981699405325e-06),\n",
       " ('x', 0.0039012527092929157),\n",
       " ('y', -0.00041135549916064627)]"
      ]
     },
     "execution_count": 16,
     "metadata": {},
     "output_type": "execute_result"
    }
   ],
   "source": [
    "result[5]  # a> 0.9"
   ]
  },
  {
   "cell_type": "code",
   "execution_count": 17,
   "metadata": {},
   "outputs": [
    {
     "data": {
      "text/plain": [
       "-0.0426862173479331"
      ]
     },
     "execution_count": 17,
     "metadata": {},
     "output_type": "execute_result"
    }
   ],
   "source": [
    "intercept[5]"
   ]
  },
  {
   "cell_type": "markdown",
   "metadata": {},
   "source": [
    "### MAD spin"
   ]
  },
  {
   "cell_type": "code",
   "execution_count": 18,
   "metadata": {},
   "outputs": [
    {
     "data": {
      "text/plain": [
       "[('sqrt(xy)', 0.0003602270361995538),\n",
       " ('sqrt(x)', 0.06545723015084133),\n",
       " ('sqrt(y)', 0.016545331674188098),\n",
       " ('xy', -6.542444238520876e-07),\n",
       " ('x', -0.00882422212994548),\n",
       " ('y', -2.035749221891699e-05)]"
      ]
     },
     "execution_count": 18,
     "metadata": {},
     "output_type": "execute_result"
    }
   ],
   "source": [
    "result[6] # a > 0.12"
   ]
  },
  {
   "cell_type": "code",
   "execution_count": 19,
   "metadata": {},
   "outputs": [
    {
     "data": {
      "text/plain": [
       "-0.1394921229157604"
      ]
     },
     "execution_count": 19,
     "metadata": {},
     "output_type": "execute_result"
    }
   ],
   "source": [
    "intercept[6]"
   ]
  },
  {
   "cell_type": "code",
   "execution_count": 20,
   "metadata": {},
   "outputs": [],
   "source": [
    "colors = ['#1f77b4', '#ff7f0e', '#2ca02c', '#d62728']"
   ]
  },
  {
   "cell_type": "code",
   "execution_count": 21,
   "metadata": {},
   "outputs": [
    {
     "data": {
      "image/png": "[encoded data removed]",
      "text/plain": [
       "<Figure size 612x216 with 2 Axes>"
      ]
     },
     "metadata": {
      "needs_background": "light"
     },
     "output_type": "display_data"
    }
   ],
   "source": [
    "## ------- comparing the fits with actual data for the NTD state --------\n",
    "\n",
    "plt.figure(figsize = (8.5,3))\n",
    "gs = GridSpec(1, 2, wspace = 0.3)\n",
    "\n",
    "x = \"Mexp\"\n",
    "y = \"AMexp\"\n",
    "z = \"abh\"   # This changes\n",
    "msun = 1.989e33\n",
    "\n",
    "\n",
    "plt.subplot(gs[0])\n",
    "temp = result[5]\n",
    "temp1 = intercept[5]\n",
    "\n",
    "mask = dataNT['abh'] > 0.9  # no use\n",
    "df_temp = dataNT[mask].copy()\n",
    "df_temp[y] = (df_temp['AMexp'] / df_temp['Mexp'] / msun / 1e14).astype(float)\n",
    "\n",
    "abh = temp[0][1]*np.sqrt(df_temp[x]*df_temp[y]) \\\n",
    "    + temp[1][1]*np.sqrt(df_temp[x]) + temp[2][1]*np.sqrt(df_temp[y]) \\\n",
    "    + temp[3][1]*(df_temp[x]*df_temp[y]) \\\n",
    "    + temp[4][1]*(df_temp[x]) + temp[5][1]*(df_temp[y]) + temp1\n",
    "\n",
    "# plt.plot(df_temp[x], MBH)\n",
    "plt.scatter(df_temp[x], abh, color = colors[0], label = 'fit')\n",
    "\n",
    "\n",
    "temp = result[4]\n",
    "temp1 = intercept[4]\n",
    "\n",
    "mask = dataNT['abh'] <= 0.9 \n",
    "df_temp = dataNT[mask].copy()\n",
    "df_temp[y] = (df_temp['AMexp'] / df_temp['Mexp'] / msun / 1e14).astype(float)\n",
    "\n",
    "abh = temp[0][1]*np.sqrt(df_temp[x]*df_temp[y]) \\\n",
    "    + temp[1][1]*np.sqrt(df_temp[x]) + temp[2][1]*np.sqrt(df_temp[y]) \\\n",
    "    + temp[3][1]*(df_temp[x]*df_temp[y]) \\\n",
    "    + temp[4][1]*(df_temp[x]) + temp[5][1]*(df_temp[y]) + temp1\n",
    "plt.scatter(df_temp[x], abh, color = colors[0])\n",
    "\n",
    "# ------------------ simulation data -------------------\n",
    "plt.scatter(dataNT['Mexp'], dataNT['abh'], color = colors[1], label = 'data')\n",
    "plt.legend(loc = 'upper right', ncol = 1)\n",
    "\n",
    "plt.grid(linestyle = '-.', alpha = 0.3)\n",
    "plt.xlabel('$M_{\\\\rm exp} \\, [M_\\\\odot]$')\n",
    "plt.ylabel('$a^*_{\\\\rm NTD}$')\n",
    "plt.ylim(0,)\n",
    "\n",
    "\n",
    "\n",
    "## ------- comparing the fits with actual data for MAD state --------\n",
    "\n",
    "plt.subplot(gs[1])\n",
    "temp = result[6]\n",
    "temp1 = intercept[6]\n",
    "\n",
    "y_ = (7e32*  dataMAD['Mexp'] )**(1/2)\n",
    "mask =  (dataMAD['AMexp'] / dataMAD['Mexp'] / msun).astype(float) <= y_\n",
    "df_temp = dataMAD[mask].copy()\n",
    "\n",
    "df_temp = dataMAD.copy()\n",
    "df_temp[y] = (df_temp['AMexp'] / df_temp['Mexp'] / msun / 1e14).astype(float)\n",
    "\n",
    "abh = temp[0][1]*np.sqrt(df_temp[x]*df_temp[y]) \\\n",
    "    + temp[1][1]*np.sqrt(df_temp[x]) + temp[2][1]*np.sqrt(df_temp[y]) \\\n",
    "    + temp[3][1]*(df_temp[x]*df_temp[y]) \\\n",
    "    + temp[4][1]*(df_temp[x]) + temp[5][1]*(df_temp[y]) + temp1\n",
    "\n",
    "mask = abh >= np.max(df_temp[z])\n",
    "abh[mask] = np.max(df_temp[z])\n",
    "plt.scatter(df_temp[x], abh,  color = colors[0], label = 'fit')\n",
    "\n",
    "mask =  (dataMAD['AMexp'] / dataMAD['Mexp'] / msun).astype(float) > y_\n",
    "df_temp = dataMAD[mask].copy()\n",
    "abh = df_temp[x] / df_temp[x] * 0.12\n",
    "plt.scatter(df_temp[x], abh, color = colors[0])\n",
    "\n",
    "# ------------------ simulation data -------------------\n",
    "plt.scatter(dataMAD['Mexp'], dataMAD['abh'], color = colors[1], label = 'data')\n",
    "\n",
    "plt.grid(linestyle = '-.', alpha = 0.3)\n",
    "plt.ylim(0,)\n",
    "plt.locator_params(axis='y', nbins=6)\n",
    "plt.xlabel('$M_{\\\\rm exp} \\, [M_\\\\odot]$')\n",
    "plt.ylabel('$a^*_{\\\\rm MAD}$')\n",
    "plt.savefig('./figures/spin_error_comparison.png')"
   ]
  },
  {
   "cell_type": "code",
   "execution_count": 22,
   "metadata": {},
   "outputs": [
    {
     "data": {
      "image/png": "[encoded data removed]",
      "text/plain": [
       "<Figure size 612x216 with 2 Axes>"
      ]
     },
     "metadata": {
      "needs_background": "light"
     },
     "output_type": "display_data"
    }
   ],
   "source": [
    "## ------- comparing the fits with actual data for NTD state --------\n",
    "\n",
    "plt.figure(figsize = (8.5,3))\n",
    "gs = GridSpec(1, 2, wspace = 0.3)\n",
    "\n",
    "x = \"Mexp\"\n",
    "y = \"AMexp\"\n",
    "z = \"abh\"   # This changes\n",
    "msun = 1.989e33\n",
    "\n",
    "plt.subplot(gs[0])\n",
    "temp = result[0]\n",
    "temp1 = intercept[0]\n",
    "\n",
    "mask = dataNT['abh'] <= 0.9  # no use\n",
    "df_temp = dataNT[mask].copy()\n",
    "df_temp[y] = (df_temp['AMexp'] / df_temp['Mexp'] / msun / 1e14).astype(float)\n",
    "\n",
    "MBH = temp[0][1]*np.sqrt(df_temp[x] * df_temp[y]) \\\n",
    "    + temp[1][1]*np.sqrt(df_temp[x]) \\\n",
    "    + temp[2][1]*np.sqrt(df_temp[y]) \\\n",
    "    + temp[3][1]*df_temp[x] \\\n",
    "    + temp[4][1]*df_temp[y] + temp1\n",
    "\n",
    "# plt.plot(df_temp[x], MBH)\n",
    "plt.scatter(df_temp[x], MBH, color = colors[0])\n",
    "\n",
    "\n",
    "temp = result[1]\n",
    "temp1 = intercept[1]\n",
    "\n",
    "mask = dataNT['abh'] > 0.9  # no use\n",
    "df_temp = dataNT[mask].copy()\n",
    "df_temp[y] = (df_temp['AMexp'] / df_temp['Mexp'] / msun / 1e14).astype(float)\n",
    "\n",
    "MBH = temp[0][1]*np.sqrt(df_temp[x] * df_temp[y]) \\\n",
    "    + temp[1][1]*np.sqrt(df_temp[x]) \\\n",
    "    + temp[2][1]*np.sqrt(df_temp[y]) \\\n",
    "    + temp[3][1]*df_temp[x] \\\n",
    "    + temp[4][1]*df_temp[y] + temp1\n",
    "\n",
    "plt.scatter(df_temp[x], MBH, color = colors[0], label = 'fit')\n",
    "\n",
    "# ------------------ simulation data -------------------\n",
    "plt.scatter(dataNT['Mexp'], dataNT['Mbh'], color = colors[1], alpha = 0.75 , label = 'data')\n",
    "\n",
    "plt.text(65,10, 'NTD')\n",
    "plt.grid(linestyle = '-.', alpha = 0.3)\n",
    "plt.xlabel('$M_{\\\\rm exp} \\\\,$ [$M_{\\\\odot}$]')\n",
    "plt.ylabel('$M_{\\\\rm BH} \\\\,$ [$M_{\\\\odot}$]')\n",
    "plt.legend(loc = 'upper left')\n",
    "plt.locator_params(axis='y', nbins=6)\n",
    "\n",
    "## ------- comparing the fits with actual data for MAD state --------\n",
    "\n",
    "plt.subplot(gs[1])\n",
    "temp = result[2]\n",
    "temp1 = intercept[2]\n",
    "\n",
    "y_ = (7e32*  dataMAD['Mexp'] )**(1/2)\n",
    "mask =  (dataMAD['AMexp'] / dataMAD['Mexp'] / msun).astype(float) <= y_\n",
    "df_temp = dataMAD[mask].copy()\n",
    "\n",
    "df_temp[y] = (df_temp['AMexp'] / df_temp['Mexp'] / msun / 1e14).astype(float)\n",
    "\n",
    "MBH = temp[0][1]*np.sqrt(df_temp[x] * df_temp[y]) \\\n",
    "    + temp[1][1]*np.sqrt(df_temp[x]) \\\n",
    "    + temp[2][1]*np.sqrt(df_temp[y]) \\\n",
    "    + temp[3][1]*df_temp[x] \\\n",
    "    + temp[4][1]*df_temp[y] + temp1\n",
    "\n",
    "# plt.plot(df_temp[x], MBH)\n",
    "plt.scatter(df_temp[x], MBH, color = colors[0], label = 'fit')\n",
    "\n",
    "\n",
    "temp = result[3]\n",
    "temp1 = intercept[3]\n",
    "\n",
    "y_ = (7e32*  dataMAD['Mexp'] )**(1/2)\n",
    "mask =  (dataMAD['AMexp'] / dataMAD['Mexp'] / msun).astype(float) > y_\n",
    "df_temp = dataMAD[mask].copy()\n",
    "\n",
    "df_temp[y] = (df_temp['AMexp'] / df_temp['Mexp'] / msun / 1e14).astype(float)\n",
    "\n",
    "MBH = temp[0][1]*np.sqrt(df_temp[x] * df_temp[y]) \\\n",
    "    + temp[1][1]*np.sqrt(df_temp[x]) \\\n",
    "    + temp[2][1]*np.sqrt(df_temp[y]) \\\n",
    "    + temp[3][1]*df_temp[x] \\\n",
    "    + temp[4][1]*df_temp[y] + temp1\n",
    "\n",
    "plt.scatter(df_temp[x], MBH, color = colors[0])\n",
    "\n",
    "# ------------------ simulation data -------------------\n",
    "plt.scatter(dataMAD['Mexp'], dataMAD['Mbh'], color = colors[1], alpha = 0.75 , label = 'data')\n",
    "\n",
    "plt.text(65,8, 'MAD')\n",
    "plt.grid(linestyle = '-.', alpha = 0.3)\n",
    "plt.xlabel('$M_{\\\\rm exp} \\\\,$ [$M_{\\\\odot}$]')\n",
    "plt.ylabel('$M_{\\\\rm BH} \\\\,$ [$M_{\\\\odot}$]')\n",
    "\n",
    "plt.savefig('./figures/MBH_error_comparison.png')"
   ]
  }
 ],
 "metadata": {
  "kernelspec": {
   "display_name": "Python 3",
   "language": "python",
   "name": "python3"
  },
  "language_info": {
   "codemirror_mode": {
    "name": "ipython",
    "version": 3
   },
   "file_extension": ".py",
   "mimetype": "text/x-python",
   "name": "python",
   "nbconvert_exporter": "python",
   "pygments_lexer": "ipython3",
   "version": "3.8.8"
  }
 },
 "nbformat": 4,
 "nbformat_minor": 4
}
