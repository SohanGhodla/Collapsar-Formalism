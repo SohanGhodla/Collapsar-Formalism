{
 "cells": [
  {
   "cell_type": "code",
   "execution_count": 34,
   "metadata": {},
   "outputs": [],
   "source": [
    "import pandas as pd\n",
    "import plotly.express as px\n",
    "from sklearn.linear_model import LinearRegression, Ridge\n",
    "from sklearn.metrics import mean_squared_error, r2_score\n",
    "from sklearn.preprocessing import PolynomialFeatures\n",
    "import numpy as np\n",
    "import seaborn as sns\n",
    "import matplotlib\n",
    "import matplotlib.pyplot as plt\n",
    "from matplotlib.gridspec import GridSpec\n",
    "plt.style.use('./data_paper_4/mesa.mplstyle10')"
   ]
  },
  {
   "cell_type": "code",
   "execution_count": 75,
   "metadata": {},
   "outputs": [
    {
     "data": {
      "text/html": [
       "<div>\n",
       "<style scoped>\n",
       "    .dataframe tbody tr th:only-of-type {\n",
       "        vertical-align: middle;\n",
       "    }\n",
       "\n",
       "    .dataframe tbody tr th {\n",
       "        vertical-align: top;\n",
       "    }\n",
       "\n",
       "    .dataframe thead th {\n",
       "        text-align: right;\n",
       "    }\n",
       "</style>\n",
       "<table border=\"1\" class=\"dataframe\">\n",
       "  <thead>\n",
       "    <tr style=\"text-align: right;\">\n",
       "      <th></th>\n",
       "      <th>Mbh</th>\n",
       "      <th>abh</th>\n",
       "      <th>AMexp</th>\n",
       "      <th>Mexp</th>\n",
       "      <th>filename</th>\n",
       "      <th>tff</th>\n",
       "      <th>Md</th>\n",
       "      <th>Mco</th>\n",
       "      <th>Rexp</th>\n",
       "      <th>MHe_form</th>\n",
       "      <th>...</th>\n",
       "      <th>MHe_dep</th>\n",
       "      <th>AMfinal_He_dep</th>\n",
       "      <th>R_He_dep</th>\n",
       "      <th>Omega_mean_He_dep</th>\n",
       "      <th>Omega_mean_exp</th>\n",
       "      <th>Mc12_dep</th>\n",
       "      <th>AM_c12_dep</th>\n",
       "      <th>R_c12_dep</th>\n",
       "      <th>Omega_c12_dep</th>\n",
       "      <th>Eacc</th>\n",
       "    </tr>\n",
       "  </thead>\n",
       "  <tbody>\n",
       "    <tr>\n",
       "      <th>0</th>\n",
       "      <td>4.983</td>\n",
       "      <td>0.15150</td>\n",
       "      <td>3.256000e+49</td>\n",
       "      <td>4.984222</td>\n",
       "      <td>0/LOGS/profile72</td>\n",
       "      <td>1314.658139</td>\n",
       "      <td>5.151000e-09</td>\n",
       "      <td>2.970036</td>\n",
       "      <td>1.400817</td>\n",
       "      <td>4.999526</td>\n",
       "      <td>...</td>\n",
       "      <td>4.989663</td>\n",
       "      <td>3.300000e+49</td>\n",
       "      <td>1.453448</td>\n",
       "      <td>0.000259</td>\n",
       "      <td>0.000877</td>\n",
       "      <td>4.984223</td>\n",
       "      <td>3.256000e+49</td>\n",
       "      <td>1.453448</td>\n",
       "      <td>0.000259</td>\n",
       "      <td>4.094000e+47</td>\n",
       "    </tr>\n",
       "    <tr>\n",
       "      <th>1</th>\n",
       "      <td>6.964</td>\n",
       "      <td>0.12890</td>\n",
       "      <td>5.400000e+49</td>\n",
       "      <td>6.964187</td>\n",
       "      <td>1/LOGS/profile12</td>\n",
       "      <td>2998.196017</td>\n",
       "      <td>1.595000e-12</td>\n",
       "      <td>4.696979</td>\n",
       "      <td>2.713960</td>\n",
       "      <td>6.998907</td>\n",
       "      <td>...</td>\n",
       "      <td>6.975745</td>\n",
       "      <td>5.501000e+49</td>\n",
       "      <td>2.713960</td>\n",
       "      <td>0.000227</td>\n",
       "      <td>0.003195</td>\n",
       "      <td>6.964187</td>\n",
       "      <td>5.400000e+49</td>\n",
       "      <td>2.713960</td>\n",
       "      <td>0.000227</td>\n",
       "      <td>5.883000e+45</td>\n",
       "    </tr>\n",
       "    <tr>\n",
       "      <th>2</th>\n",
       "      <td>8.938</td>\n",
       "      <td>0.11200</td>\n",
       "      <td>7.782000e+49</td>\n",
       "      <td>8.938068</td>\n",
       "      <td>2/LOGS/profile35</td>\n",
       "      <td>750.145635</td>\n",
       "      <td>0.000000e+00</td>\n",
       "      <td>6.534862</td>\n",
       "      <td>1.206268</td>\n",
       "      <td>8.998252</td>\n",
       "      <td>...</td>\n",
       "      <td>8.955658</td>\n",
       "      <td>7.956000e+49</td>\n",
       "      <td>1.206268</td>\n",
       "      <td>0.000181</td>\n",
       "      <td>0.000785</td>\n",
       "      <td>8.938069</td>\n",
       "      <td>7.782000e+49</td>\n",
       "      <td>1.206268</td>\n",
       "      <td>0.000181</td>\n",
       "      <td>0.000000e+00</td>\n",
       "    </tr>\n",
       "    <tr>\n",
       "      <th>3</th>\n",
       "      <td>10.900</td>\n",
       "      <td>0.10100</td>\n",
       "      <td>1.038000e+50</td>\n",
       "      <td>10.904303</td>\n",
       "      <td>3/LOGS/profile11</td>\n",
       "      <td>444.193695</td>\n",
       "      <td>0.000000e+00</td>\n",
       "      <td>8.212380</td>\n",
       "      <td>0.882759</td>\n",
       "      <td>10.996840</td>\n",
       "      <td>...</td>\n",
       "      <td>10.917031</td>\n",
       "      <td>1.053000e+50</td>\n",
       "      <td>0.895032</td>\n",
       "      <td>0.000144</td>\n",
       "      <td>0.006528</td>\n",
       "      <td>10.904303</td>\n",
       "      <td>1.038000e+50</td>\n",
       "      <td>0.895032</td>\n",
       "      <td>0.000144</td>\n",
       "      <td>0.000000e+00</td>\n",
       "    </tr>\n",
       "    <tr>\n",
       "      <th>4</th>\n",
       "      <td>12.860</td>\n",
       "      <td>0.09061</td>\n",
       "      <td>1.300000e+50</td>\n",
       "      <td>12.862849</td>\n",
       "      <td>4/LOGS/profile15</td>\n",
       "      <td>384.282303</td>\n",
       "      <td>0.000000e+00</td>\n",
       "      <td>9.931898</td>\n",
       "      <td>0.847345</td>\n",
       "      <td>12.996818</td>\n",
       "      <td>...</td>\n",
       "      <td>12.898853</td>\n",
       "      <td>1.344000e+50</td>\n",
       "      <td>0.997860</td>\n",
       "      <td>0.000124</td>\n",
       "      <td>0.000364</td>\n",
       "      <td>12.866603</td>\n",
       "      <td>1.306000e+50</td>\n",
       "      <td>0.916727</td>\n",
       "      <td>0.000124</td>\n",
       "      <td>0.000000e+00</td>\n",
       "    </tr>\n",
       "  </tbody>\n",
       "</table>\n",
       "<p>5 rows × 23 columns</p>\n",
       "</div>"
      ],
      "text/plain": [
       "      Mbh      abh         AMexp       Mexp          filename          tff  \\\n",
       "0   4.983  0.15150  3.256000e+49   4.984222  0/LOGS/profile72  1314.658139   \n",
       "1   6.964  0.12890  5.400000e+49   6.964187  1/LOGS/profile12  2998.196017   \n",
       "2   8.938  0.11200  7.782000e+49   8.938068  2/LOGS/profile35   750.145635   \n",
       "3  10.900  0.10100  1.038000e+50  10.904303  3/LOGS/profile11   444.193695   \n",
       "4  12.860  0.09061  1.300000e+50  12.862849  4/LOGS/profile15   384.282303   \n",
       "\n",
       "             Md       Mco      Rexp   MHe_form  ...    MHe_dep  \\\n",
       "0  5.151000e-09  2.970036  1.400817   4.999526  ...   4.989663   \n",
       "1  1.595000e-12  4.696979  2.713960   6.998907  ...   6.975745   \n",
       "2  0.000000e+00  6.534862  1.206268   8.998252  ...   8.955658   \n",
       "3  0.000000e+00  8.212380  0.882759  10.996840  ...  10.917031   \n",
       "4  0.000000e+00  9.931898  0.847345  12.996818  ...  12.898853   \n",
       "\n",
       "   AMfinal_He_dep  R_He_dep  Omega_mean_He_dep  Omega_mean_exp   Mc12_dep  \\\n",
       "0    3.300000e+49  1.453448           0.000259        0.000877   4.984223   \n",
       "1    5.501000e+49  2.713960           0.000227        0.003195   6.964187   \n",
       "2    7.956000e+49  1.206268           0.000181        0.000785   8.938069   \n",
       "3    1.053000e+50  0.895032           0.000144        0.006528  10.904303   \n",
       "4    1.344000e+50  0.997860           0.000124        0.000364  12.866603   \n",
       "\n",
       "     AM_c12_dep  R_c12_dep  Omega_c12_dep          Eacc  \n",
       "0  3.256000e+49   1.453448       0.000259  4.094000e+47  \n",
       "1  5.400000e+49   2.713960       0.000227  5.883000e+45  \n",
       "2  7.782000e+49   1.206268       0.000181  0.000000e+00  \n",
       "3  1.038000e+50   0.895032       0.000144  0.000000e+00  \n",
       "4  1.306000e+50   0.916727       0.000124  0.000000e+00  \n",
       "\n",
       "[5 rows x 23 columns]"
      ]
     },
     "execution_count": 75,
     "metadata": {},
     "output_type": "execute_result"
    }
   ],
   "source": [
    "dataMAD = pd.read_csv(\"./Output_data/concatenated_file_MAD.csv\")\n",
    "dataNT = pd.read_csv(\"./Output_data/concatenated_file_rel.csv\")\n",
    "datanonrel_MAD = pd.read_csv(\"./Output_data/concatenated_file_nonrel_MAD.csv\")\n",
    "datanonrel_NT = pd.read_csv(\"./Output_data/concatenated_file_nonrel_NT.csv\")\n",
    "dataMAD.head()"
   ]
  },
  {
   "cell_type": "markdown",
   "metadata": {},
   "source": [
    "###### For spin"
   ]
  },
  {
   "cell_type": "code",
   "execution_count": 36,
   "metadata": {},
   "outputs": [],
   "source": [
    "def transform_spin(x, y):\n",
    "    df = pd.DataFrame()\n",
    "    \n",
    "    df[\"x\"] = x\n",
    "    df[\"y\"] = y\n",
    "    \n",
    "    df[\"sqrt(xy)\"] = np.sqrt(df['x'] * df['y'])\n",
    "    df[\"sqrt(x)\"] = np.sqrt(df['x'])\n",
    "    df[\"sqrt(y)\"] = np.sqrt(df['y'])\n",
    "\n",
    "    df[\"sqrt(x)x\"] = np.sqrt(df['x']) * df['x']\n",
    "    df[\"sqrt(y)x\"] = np.sqrt(df['y'])  * df['x']\n",
    "\n",
    "    df[\"sqrt(x)y\"] = np.sqrt(df['x'])  * df['y']\n",
    "    df[\"sqrt(y)y\"] = np.sqrt(df['y'])  * df['y']\n",
    "    df[\"square(x)\"] = df['x'] * df['x']\n",
    "    df[\"square(y)\"] = df['y'] * df['y']\n",
    "\n",
    "    df[\"xy\"] = df['x'] * df['y']\n",
    "    df[\"xxy\"] = df['x'] * df['x'] * df['y']\n",
    "    df[\"xyy\"] = df['x'] * df['y'] * df['y']\n",
    "    \n",
    "    features = [\"sqrt(xy)\", \"sqrt(x)\", \"sqrt(y)\", \"xy\", \"x\", \"y\"]\n",
    "\n",
    "    return df[features]"
   ]
  },
  {
   "cell_type": "code",
   "execution_count": 37,
   "metadata": {},
   "outputs": [],
   "source": [
    "def transform_MBH(x, y):\n",
    "    df = pd.DataFrame()\n",
    "    \n",
    "    df[\"x\"] = x\n",
    "    df[\"y\"] = y\n",
    "    \n",
    "    df[\"sqrt(xy)\"] = np.sqrt(df['x'] * df['y'])\n",
    "    df[\"sqrt(x)\"] = np.sqrt(df['x'])\n",
    "    df[\"sqrt(y)\"] = np.sqrt(df['y'])\n",
    "\n",
    "    df[\"sqrt(x)x\"] = np.sqrt(df['x']) * df['x']\n",
    "    df[\"sqrt(y)x\"] = np.sqrt(df['y'])  * df['x']\n",
    "    df[\"xy\"] = df['x'] * df['y']\n",
    "    \n",
    "    features = [\"sqrt(xy)\", \"sqrt(x)\", \"sqrt(y)\", \"x\", \"y\"]\n",
    "\n",
    "    return df[features]"
   ]
  },
  {
   "cell_type": "code",
   "execution_count": 176,
   "metadata": {},
   "outputs": [
    {
     "data": {
      "image/png": "[encoded data removed]",
      "text/plain": [
       "<Figure size 432x360 with 4 Axes>"
      ]
     },
     "metadata": {
      "needs_background": "light"
     },
     "output_type": "display_data"
    }
   ],
   "source": [
    "ax = plt.figure(figsize = (6,5.))\n",
    "gs = GridSpec(2, 2, hspace = 0.3, wspace = 0.3)\n",
    "\n",
    "\n",
    "\n",
    "# ------------------------------------- NT MBH  -------------------------------------\n",
    "x = \"Mexp\"\n",
    "y = \"AMexp\"\n",
    "z = \"Mbh\"   \n",
    "msun = 1.989e33\n",
    "features = [\"sqrt(xy)\", \"sqrt(x)\", \"sqrt(y)\", \"x\", \"y\"]\n",
    "result = []\n",
    "intercept  = []\n",
    "\n",
    "plt.subplot(gs[0])\n",
    "mask = dataNT['abh'] <= 0.9 \n",
    "df_temp = dataNT[mask].copy()\n",
    "df_temp[y] = (df_temp['AMexp'] / df_temp['Mexp'] / msun / 1e14).astype(float)\n",
    "\n",
    "df_temp[\"sqrt(xy)\"] = np.sqrt(df_temp[x] * df_temp[y])\n",
    "df_temp[\"sqrt(x)\"] = np.sqrt(df_temp[x])\n",
    "df_temp[\"sqrt(y)\"] = np.sqrt(df_temp[y])\n",
    "df_temp[\"x\"] = df_temp[x]\n",
    "df_temp[\"y\"] = df_temp[y]\n",
    "\n",
    "model_linear = Ridge()\n",
    "model_linear.fit(df_temp[features], df_temp[z])\n",
    "model_linear.predict(transform_MBH(df_temp[x], df_temp[y]))\n",
    "result.append(list(zip(features,model_linear.coef_)))\n",
    "intercept.append(model_linear.intercept_)\n",
    "\n",
    "# -------------------------------------\n",
    "\n",
    "mask = dataNT['abh'] > 0.9  \n",
    "df_temp = dataNT[mask].copy()\n",
    "df_temp[y] = (df_temp['AMexp'] / df_temp['Mexp'] / msun / 1e14).astype(float)\n",
    "\n",
    "df_temp[\"sqrt(xy)\"] = np.sqrt(df_temp[x] * df_temp[y])\n",
    "df_temp[\"sqrt(x)\"] = np.sqrt(df_temp[x])\n",
    "df_temp[\"sqrt(y)\"] = np.sqrt(df_temp[y])\n",
    "df_temp[\"x\"] = df_temp[x]\n",
    "df_temp[\"y\"] = df_temp[y]\n",
    "\n",
    "\n",
    "model_linear = Ridge()\n",
    "model_linear.fit(df_temp[features], df_temp[z])\n",
    "prediction = model_linear.predict(transform_MBH(df_temp[x], df_temp[y]))\n",
    "result.append(list(zip(features,model_linear.coef_)))\n",
    "intercept.append(model_linear.intercept_)\n",
    "\n",
    "error = prediction- df_temp[z]\n",
    "\n",
    "ax = sns.histplot((error/df_temp[z] * 100).abs(), binrange=[0, 8], binwidth=.5, stat=\"probability\",\\\n",
    "            element=\"bars\", cumulative=True)\n",
    "ax.set(xlabel=\"\", ylabel=\"\", title=\"\")\n",
    "plt.grid(axis='y', linestyle = '-.', alpha = 0.5)\n",
    "plt.text(-0.01, .65, '(a)')\n",
    "plt.text(-0.1, .875, '$90 \\% \\\\longrightarrow$')\n",
    "\n",
    "#--------------------------------------- MAD MBH ----------------------------------\n",
    "plt.subplot(gs[1])\n",
    "mask = dataMAD['abh'] >= 0.01  \n",
    "df_temp = dataMAD[mask].copy()\n",
    "df_temp[y] = (df_temp['AMexp'] / df_temp['Mexp'] / msun / 1e14).astype(float)\n",
    "\n",
    "df_temp[\"sqrt(xy)\"] = np.sqrt(df_temp[x] * df_temp[y])\n",
    "df_temp[\"sqrt(x)\"] = np.sqrt(df_temp[x])\n",
    "df_temp[\"sqrt(y)\"] = np.sqrt(df_temp[y])\n",
    "df_temp[\"x\"] = df_temp[x]\n",
    "df_temp[\"y\"] = df_temp[y]\n",
    "\n",
    "model_linear = Ridge()\n",
    "model_linear.fit(df_temp[features], df_temp[z])\n",
    "prediction = model_linear.predict(transform_MBH(df_temp[x], df_temp[y]))\n",
    "error = prediction- df_temp[z]\n",
    "\n",
    "ax = sns.histplot((error/df_temp[z] * 100).abs(), binrange=[0, 8], binwidth=0.5, stat=\"probability\",\\\n",
    "            element=\"bars\", cumulative=True)\n",
    "ax.set(xlabel=\"\", ylabel=\"\")   #                  Normalised % of system\", title=\"\")\n",
    "plt.grid(axis='y', linestyle = '-.', alpha = 0.5)\n",
    "result.append(list(zip(features,model_linear.coef_)))\n",
    "intercept.append(model_linear.intercept_)\n",
    "\n",
    "# -------------------------------------\n",
    "\n",
    "mask = dataMAD['abh'] < 0.01 \n",
    "df_temp = dataMAD[mask].copy()\n",
    "df_temp[y] = (df_temp['AMexp'] / df_temp['Mexp'] / msun / 1e14).astype(float)\n",
    "\n",
    "df_temp[\"sqrt(xy)\"] = np.sqrt(df_temp[x] * df_temp[y])\n",
    "df_temp[\"sqrt(x)\"] = np.sqrt(df_temp[x])\n",
    "df_temp[\"sqrt(y)\"] = np.sqrt(df_temp[y])\n",
    "df_temp[\"x\"] = df_temp[x]\n",
    "df_temp[\"y\"] = df_temp[y]\n",
    "\n",
    "model_linear = Ridge()\n",
    "model_linear = Ridge()\n",
    "model_linear.fit(df_temp[features], df_temp[z])\n",
    "prediction = model_linear.predict(transform_MBH(df_temp[x], df_temp[y]))\n",
    "result.append(list(zip(features,model_linear.coef_)))\n",
    "intercept.append(model_linear.intercept_)\n",
    "\n",
    "plt.text(0.0, .65, '(b)')\n",
    "plt.text(0.3, .875, '$90\\% \\\\longrightarrow$')\n",
    "\n",
    "\n",
    "\n",
    "# --------------------------------  NT spin ----------------------------------------\n",
    "x = \"Mexp\"\n",
    "y = \"AMexp\"\n",
    "z = \"abh\"\n",
    "msun = 1.989e33\n",
    "features = [\"sqrt(xy)\", \"sqrt(x)\", \"sqrt(y)\", \"xy\", \"x\", \"y\"]\n",
    "# result = []\n",
    "\n",
    "plt.subplot(gs[2])\n",
    "mask = dataNT['abh'] <= 0.9\n",
    "df_temp = dataNT[mask].copy()\n",
    "df_temp[y] = (dataNT['AMexp'] / dataNT['Mexp'] / msun / 1e14).astype(float)\n",
    "\n",
    "df_temp[\"sqrt(xy)\"] = np.sqrt(df_temp[x] * df_temp[y])\n",
    "df_temp[\"sqrt(x)\"] = np.sqrt(df_temp[x])\n",
    "df_temp[\"sqrt(y)\"] = np.sqrt(df_temp[y])\n",
    "\n",
    "df_temp[\"xy\"] = df_temp[x] * df_temp[y]\n",
    "df_temp[\"x\"] = df_temp[x]\n",
    "df_temp[\"y\"] = df_temp[y]\n",
    "\n",
    "model_linear = Ridge()\n",
    "model_linear.fit(df_temp[features], df_temp[z])\n",
    "prediction = model_linear.predict(transform_spin(df_temp[x], df_temp[y]))\n",
    "error = prediction- df_temp[z]\n",
    "\n",
    "ax = sns.histplot((error/df_temp[z] * 100).abs(), binrange=[0, 15], binwidth=1, stat=\"probability\",\\\n",
    "            element=\"bars\", cumulative=True)\n",
    "ax.set(xlabel=\"\", ylabel=\"\", title=\"\")\n",
    "plt.grid(axis='y', linestyle = '-.', alpha = 0.5)\n",
    "/\n",
    "result.append(list(zip(features,model_linear.coef_)))\n",
    "intercept.append(model_linear.intercept_)\n",
    "\n",
    "plt.text(1, .9, '(c)')\n",
    "plt.text(4.75, .875, '$90\\% \\\\longrightarrow$')\n",
    "\n",
    "# -------------------------------------\n",
    "\n",
    "mask = dataNT['abh'] > 0.9\n",
    "df_temp = dataNT[mask].copy()\n",
    "df_temp[y] = (dataNT['AMexp'] / dataNT['Mexp'] / msun / 1e14).astype(float)\n",
    "\n",
    "df_temp[\"sqrt(xy)\"] = np.sqrt(df_temp[x] * df_temp[y])\n",
    "df_temp[\"sqrt(x)\"] = np.sqrt(df_temp[x])\n",
    "df_temp[\"sqrt(y)\"] = np.sqrt(df_temp[y])\n",
    "\n",
    "df_temp[\"xy\"] = df_temp[x] * df_temp[y]\n",
    "df_temp[\"x\"] = df_temp[x]\n",
    "df_temp[\"y\"] = df_temp[y]\n",
    "\n",
    "model_linear = Ridge()\n",
    "model_linear.fit(df_temp[features], df_temp[z])\n",
    "prediction = model_linear.predict(transform_spin(df_temp[x], df_temp[y]))\n",
    "result.append(list(zip(features,model_linear.coef_)))\n",
    "intercept.append(model_linear.intercept_)\n",
    "\n",
    "# ---------------------------------  MAD spin ----------------------------\n",
    "\n",
    "plt.subplot(gs[3])\n",
    "mask = dataMAD['abh'] >= 0.01\n",
    "df_temp = dataMAD[mask].copy()\n",
    "df_temp[y] = (df_temp['AMexp'] / df_temp['Mexp'] / msun / 1e14).astype(float)\n",
    "\n",
    "df_temp[\"sqrt(xy)\"] = np.sqrt(df_temp[x] * df_temp[y])\n",
    "df_temp[\"sqrt(x)\"] = np.sqrt(df_temp[x])\n",
    "df_temp[\"sqrt(y)\"] = np.sqrt(df_temp[y])\n",
    "df_temp[\"xy\"] = df_temp[x] * df_temp[y]\n",
    "df_temp[\"x\"] = df_temp[x]\n",
    "df_temp[\"y\"] = df_temp[y]\n",
    "\n",
    "model_linear = Ridge()\n",
    "model_linear.fit(df_temp[features], df_temp[z])\n",
    "prediction = model_linear.predict(transform_spin(df_temp[x], df_temp[y]))\n",
    "\n",
    "#  removing smaller values for estimating error. \n",
    "mask = prediction >= 0.01\n",
    "error = prediction[mask]- df_temp[mask][z]\n",
    "\n",
    "ax = sns.histplot((error/df_temp[mask][z] * 100), binrange=[0, 15], binwidth=1, stat=\"probability\",\\\n",
    "            element=\"bars\", cumulative=True)\n",
    "ax.set(xlabel=\"\", ylabel=\"\")#                  Normalised % of system\",\\\n",
    "#                                                     title=\"\")\n",
    "plt.grid(axis='y', linestyle = '-.', alpha = 0.5)\n",
    "plt.text(1, .9, '(d)')\n",
    "plt.text(5.5, .875, '$90\\% \\\\longrightarrow$')\n",
    "result.append(list(zip(features,model_linear.coef_)))\n",
    "intercept.append(model_linear.intercept_)\n",
    "\n",
    "plt.tick_params(\n",
    "    axis='x',          # changes apply to the x-axis\n",
    "    which='both',      # both major and minor ticks are affected\n",
    "#     bottom=False,      # ticks along the bottom edge are off\n",
    "    top=False)        # ticks along the top edge are off\n",
    "\n",
    "\n",
    "plt.text(-12.5, -.35, 'cummulative % error')\n",
    "plt.text(-28, .55, 'Normalised number of systems', rotation = 90)\n",
    "plt.savefig('data_paper_4/2D_hist_MBH_spinBH_error.png')"
   ]
  },
  {
   "cell_type": "markdown",
   "metadata": {},
   "source": [
    "#### Fitting parameters ----- Result constains the coefficient and intercept the const factor"
   ]
  },
  {
   "cell_type": "markdown",
   "metadata": {},
   "source": [
    "### NTD BH "
   ]
  },
  {
   "cell_type": "code",
   "execution_count": 178,
   "metadata": {},
   "outputs": [
    {
     "data": {
      "text/plain": [
       "[('sqrt(xy)', 0.01883171744126239),\n",
       " ('sqrt(x)', -0.06513982809531865),\n",
       " ('sqrt(y)', -0.05060182744334942),\n",
       " ('x', 0.986279043985037),\n",
       " ('y', -0.0024395522546727887)]"
      ]
     },
     "execution_count": 178,
     "metadata": {},
     "output_type": "execute_result"
    }
   ],
   "source": [
    "result[0]  #a <= 0.9"
   ]
  },
  {
   "cell_type": "code",
   "execution_count": 185,
   "metadata": {},
   "outputs": [
    {
     "data": {
      "text/plain": [
       "0.544958169883138"
      ]
     },
     "execution_count": 185,
     "metadata": {},
     "output_type": "execute_result"
    }
   ],
   "source": [
    "intercept[0]"
   ]
  },
  {
   "cell_type": "code",
   "execution_count": 179,
   "metadata": {},
   "outputs": [
    {
     "data": {
      "text/plain": [
       "[('sqrt(xy)', 0.3777450698543106),\n",
       " ('sqrt(x)', 0.41253269454514413),\n",
       " ('sqrt(y)', -3.4123767460204273),\n",
       " ('x', -0.7241958979714243),\n",
       " ('y', 0.005635070689719667)]"
      ]
     },
     "execution_count": 179,
     "metadata": {},
     "output_type": "execute_result"
    }
   ],
   "source": [
    "result[1]  # a >.9"
   ]
  },
  {
   "cell_type": "code",
   "execution_count": 186,
   "metadata": {},
   "outputs": [
    {
     "data": {
      "text/plain": [
       "80.99179963904119"
      ]
     },
     "execution_count": 186,
     "metadata": {},
     "output_type": "execute_result"
    }
   ],
   "source": [
    "intercept[1]"
   ]
  },
  {
   "cell_type": "markdown",
   "metadata": {},
   "source": [
    "### MAD BH"
   ]
  },
  {
   "cell_type": "code",
   "execution_count": 180,
   "metadata": {},
   "outputs": [
    {
     "data": {
      "text/plain": [
       "[('sqrt(xy)', 0.029157763904186763),\n",
       " ('sqrt(x)', -0.4240456831757791),\n",
       " ('sqrt(y)', -0.05478739682093634),\n",
       " ('x', 1.0020037272347544),\n",
       " ('y', -0.00410990499565451)]"
      ]
     },
     "execution_count": 180,
     "metadata": {},
     "output_type": "execute_result"
    }
   ],
   "source": [
    "result[2]  #a >= 0.01"
   ]
  },
  {
   "cell_type": "code",
   "execution_count": 187,
   "metadata": {},
   "outputs": [
    {
     "data": {
      "text/plain": [
       "1.666044602779067"
      ]
     },
     "execution_count": 187,
     "metadata": {},
     "output_type": "execute_result"
    }
   ],
   "source": [
    "intercept[2]"
   ]
  },
  {
   "cell_type": "code",
   "execution_count": 181,
   "metadata": {},
   "outputs": [
    {
     "data": {
      "text/plain": [
       "[('sqrt(xy)', -0.014060960995777716),\n",
       " ('sqrt(x)', -0.07597461803649583),\n",
       " ('sqrt(y)', -0.07676037548191035),\n",
       " ('x', 0.8739706436780303),\n",
       " ('y', 0.0005502727727661939)]"
      ]
     },
     "execution_count": 181,
     "metadata": {},
     "output_type": "execute_result"
    }
   ],
   "source": [
    "result[3]  # a < 0.01"
   ]
  },
  {
   "cell_type": "code",
   "execution_count": 188,
   "metadata": {},
   "outputs": [
    {
     "data": {
      "text/plain": [
       "1.0827823129886305"
      ]
     },
     "execution_count": 188,
     "metadata": {},
     "output_type": "execute_result"
    }
   ],
   "source": [
    "intercept[3]"
   ]
  },
  {
   "cell_type": "markdown",
   "metadata": {},
   "source": [
    "### NTD spin"
   ]
  },
  {
   "cell_type": "code",
   "execution_count": 182,
   "metadata": {},
   "outputs": [
    {
     "data": {
      "text/plain": [
       "[('sqrt(xy)', -0.0016307185815099055),\n",
       " ('sqrt(x)', 0.04556568990654576),\n",
       " ('sqrt(y)', 0.020071822443670763),\n",
       " ('xy', -2.5917748836609525e-06),\n",
       " ('x', -0.004843355365388911),\n",
       " ('y', 0.00036819021362698493)]"
      ]
     },
     "execution_count": 182,
     "metadata": {},
     "output_type": "execute_result"
    }
   ],
   "source": [
    "result[4]  # a <= 0.9"
   ]
  },
  {
   "cell_type": "code",
   "execution_count": 189,
   "metadata": {},
   "outputs": [
    {
     "data": {
      "text/plain": [
       "-0.12541464164880334"
      ]
     },
     "execution_count": 189,
     "metadata": {},
     "output_type": "execute_result"
    }
   ],
   "source": [
    "intercept[4]"
   ]
  },
  {
   "cell_type": "code",
   "execution_count": 183,
   "metadata": {},
   "outputs": [
    {
     "data": {
      "text/plain": [
       "[('sqrt(xy)', -0.002049339649465729),\n",
       " ('sqrt(x)', 0.00241650927659986),\n",
       " ('sqrt(y)', 0.05201937332134504),\n",
       " ('xy', 1.1863811589979946e-06),\n",
       " ('x', 0.003924596725434314),\n",
       " ('y', -0.00044810306169459105)]"
      ]
     },
     "execution_count": 183,
     "metadata": {},
     "output_type": "execute_result"
    }
   ],
   "source": [
    "result[5]  # a> 0.9"
   ]
  },
  {
   "cell_type": "code",
   "execution_count": 190,
   "metadata": {},
   "outputs": [
    {
     "data": {
      "text/plain": [
       "-0.12043953051269718"
      ]
     },
     "execution_count": 190,
     "metadata": {},
     "output_type": "execute_result"
    }
   ],
   "source": [
    "intercept[5]"
   ]
  },
  {
   "cell_type": "markdown",
   "metadata": {},
   "source": [
    "### MAD spin"
   ]
  },
  {
   "cell_type": "code",
   "execution_count": 184,
   "metadata": {},
   "outputs": [
    {
     "data": {
      "text/plain": [
       "[('sqrt(xy)', -0.0005953713776013303),\n",
       " ('sqrt(x)', 0.11618267466376218),\n",
       " ('sqrt(y)', 0.025406212435919534),\n",
       " ('xy', 2.426862388078228e-06),\n",
       " ('x', -0.013693121625436223),\n",
       " ('y', -0.0002139723285271462)]"
      ]
     },
     "execution_count": 184,
     "metadata": {},
     "output_type": "execute_result"
    }
   ],
   "source": [
    "result[6]"
   ]
  },
  {
   "cell_type": "code",
   "execution_count": 191,
   "metadata": {},
   "outputs": [
    {
     "data": {
      "text/plain": [
       "-0.2760520879659027"
      ]
     },
     "execution_count": 191,
     "metadata": {},
     "output_type": "execute_result"
    }
   ],
   "source": [
    "intercept[6]"
   ]
  },
  {
   "cell_type": "code",
   "execution_count": 192,
   "metadata": {},
   "outputs": [],
   "source": [
    "### comparing the fits with actual data\n",
    "\n",
    "# x = \"Mexp\"\n",
    "# y = \"AMexp\"\n",
    "# z = \"abh\"   # This changes\n",
    "# msun = 1.989e33\n",
    "\n",
    "# temp = result[5]\n",
    "# temp1 = intercept[5]\n",
    "\n",
    "# mask = dataNT['abh'] > 0.9  # no use\n",
    "# df_temp = dataNT[mask].copy()\n",
    "# df_temp[y] = (df_temp['AMexp'] / df_temp['Mexp'] / msun / 1e14).astype(float)\n",
    "\n",
    "# MBH1 = temp[0][1]*np.sqrt(df_temp[x]*df_temp[y]) \\\n",
    "#     + temp[1][1]*np.sqrt(df_temp[x]) + temp[2][1]*np.sqrt(df_temp[y]) \\\n",
    "#     + temp[3][1]*(df_temp[x]*df_temp[y]) \\\n",
    "#     + temp[4][1]*(df_temp[x]) + temp[5][1]*(df_temp[y]) + temp1\n",
    "\n",
    "# # plt.plot(df_temp[x], MBH)\n",
    "# plt.scatter(df_temp[x], MBH1)\n",
    "\n",
    "\n",
    "\n",
    "# # temp = result[6]\n",
    "# # temp1 = intercept[6]\n",
    "# # mask = dataMAD['abh'] < 0.01  # no use\n",
    "# # df_temp = dataMAD[mask].copy()\n",
    "# # df_temp[y] = (df_temp['AMexp'] / df_temp['Mexp'] / msun / 1e14).astype(float)\n",
    "\n",
    "# # MBH1 = temp[0][1]*np.sqrt(df_temp[x]*df_temp[y]) \\\n",
    "# #     + temp[1][1]*np.sqrt(df_temp[x]) + temp[2][1]*np.sqrt(df_temp[y]) \\\n",
    "# #     + temp[3][1]*(df_temp[x]*df_temp[y]) \\\n",
    "# #     + temp[4][1]*(df_temp[x]) + temp[5][1]*(df_temp[y]) + temp1\n",
    "\n",
    "# # plt.plot(df_temp[x], MBH)\n",
    "# # plt.scatter(df_temp[x], MBH1)\n",
    "\n",
    "\n",
    "\n",
    "# plt.scatter(dataNT['Mexp'], dataNT['abh'])\n",
    "\n",
    "# # x = np.arange(2,80, 10)\n",
    "# # y = x\n",
    "# # plt.text(65, 72, '(a)')\n",
    "# # plt.title('NT accretion flow', pad = 10)\n",
    "# # plt.grid(linestyle = '-.', alpha = .3)\n",
    "# # plt.plot(x, y, linestyle = '--', color = 'gray')\n"
   ]
  }
 ],
 "metadata": {
  "kernelspec": {
   "display_name": "Python 3",
   "language": "python",
   "name": "python3"
  },
  "language_info": {
   "codemirror_mode": {
    "name": "ipython",
    "version": 3
   },
   "file_extension": ".py",
   "mimetype": "text/x-python",
   "name": "python",
   "nbconvert_exporter": "python",
   "pygments_lexer": "ipython3",
   "version": "3.8.5"
  }
 },
 "nbformat": 4,
 "nbformat_minor": 4
}
